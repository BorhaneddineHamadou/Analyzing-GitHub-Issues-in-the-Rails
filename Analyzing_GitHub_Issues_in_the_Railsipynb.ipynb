{
  "nbformat": 4,
  "nbformat_minor": 0,
  "metadata": {
    "colab": {
      "provenance": [],
      "gpuType": "T4"
    },
    "kernelspec": {
      "name": "python3",
      "display_name": "Python 3"
    },
    "language_info": {
      "name": "python"
    },
    "accelerator": "GPU",
    "widgets": {
      "application/vnd.jupyter.widget-state+json": {
        "cb13884f54b645e88b62844286afb075": {
          "model_module": "@jupyter-widgets/controls",
          "model_name": "HBoxModel",
          "model_module_version": "1.5.0",
          "state": {
            "_dom_classes": [],
            "_model_module": "@jupyter-widgets/controls",
            "_model_module_version": "1.5.0",
            "_model_name": "HBoxModel",
            "_view_count": null,
            "_view_module": "@jupyter-widgets/controls",
            "_view_module_version": "1.5.0",
            "_view_name": "HBoxView",
            "box_style": "",
            "children": [
              "IPY_MODEL_a1b82aac01c54e8b87fe68758d3ed8e5",
              "IPY_MODEL_28c093383294404ab416b5b23674c866",
              "IPY_MODEL_d071298d55634e51bdd4ba57f2167dbf"
            ],
            "layout": "IPY_MODEL_3e8752e2045842f3afbac1d464186e9d"
          }
        },
        "a1b82aac01c54e8b87fe68758d3ed8e5": {
          "model_module": "@jupyter-widgets/controls",
          "model_name": "HTMLModel",
          "model_module_version": "1.5.0",
          "state": {
            "_dom_classes": [],
            "_model_module": "@jupyter-widgets/controls",
            "_model_module_version": "1.5.0",
            "_model_name": "HTMLModel",
            "_view_count": null,
            "_view_module": "@jupyter-widgets/controls",
            "_view_module_version": "1.5.0",
            "_view_name": "HTMLView",
            "description": "",
            "description_tooltip": null,
            "layout": "IPY_MODEL_ae0143472c7c405484007052d44d9a3a",
            "placeholder": "​",
            "style": "IPY_MODEL_8697aad402cf44f4b4a5a5efc687d605",
            "value": "tokenizer_config.json: 100%"
          }
        },
        "28c093383294404ab416b5b23674c866": {
          "model_module": "@jupyter-widgets/controls",
          "model_name": "FloatProgressModel",
          "model_module_version": "1.5.0",
          "state": {
            "_dom_classes": [],
            "_model_module": "@jupyter-widgets/controls",
            "_model_module_version": "1.5.0",
            "_model_name": "FloatProgressModel",
            "_view_count": null,
            "_view_module": "@jupyter-widgets/controls",
            "_view_module_version": "1.5.0",
            "_view_name": "ProgressView",
            "bar_style": "success",
            "description": "",
            "description_tooltip": null,
            "layout": "IPY_MODEL_6692deda5e9b4a138f30d9905c4d129b",
            "max": 28,
            "min": 0,
            "orientation": "horizontal",
            "style": "IPY_MODEL_17176f05e2064fbd985c3842cd266482",
            "value": 28
          }
        },
        "d071298d55634e51bdd4ba57f2167dbf": {
          "model_module": "@jupyter-widgets/controls",
          "model_name": "HTMLModel",
          "model_module_version": "1.5.0",
          "state": {
            "_dom_classes": [],
            "_model_module": "@jupyter-widgets/controls",
            "_model_module_version": "1.5.0",
            "_model_name": "HTMLModel",
            "_view_count": null,
            "_view_module": "@jupyter-widgets/controls",
            "_view_module_version": "1.5.0",
            "_view_name": "HTMLView",
            "description": "",
            "description_tooltip": null,
            "layout": "IPY_MODEL_f0e64524ce294d729609d542ff2205a7",
            "placeholder": "​",
            "style": "IPY_MODEL_95a1344ddbd3417d9a4adf5d006378c3",
            "value": " 28.0/28.0 [00:00&lt;00:00, 367B/s]"
          }
        },
        "3e8752e2045842f3afbac1d464186e9d": {
          "model_module": "@jupyter-widgets/base",
          "model_name": "LayoutModel",
          "model_module_version": "1.2.0",
          "state": {
            "_model_module": "@jupyter-widgets/base",
            "_model_module_version": "1.2.0",
            "_model_name": "LayoutModel",
            "_view_count": null,
            "_view_module": "@jupyter-widgets/base",
            "_view_module_version": "1.2.0",
            "_view_name": "LayoutView",
            "align_content": null,
            "align_items": null,
            "align_self": null,
            "border": null,
            "bottom": null,
            "display": null,
            "flex": null,
            "flex_flow": null,
            "grid_area": null,
            "grid_auto_columns": null,
            "grid_auto_flow": null,
            "grid_auto_rows": null,
            "grid_column": null,
            "grid_gap": null,
            "grid_row": null,
            "grid_template_areas": null,
            "grid_template_columns": null,
            "grid_template_rows": null,
            "height": null,
            "justify_content": null,
            "justify_items": null,
            "left": null,
            "margin": null,
            "max_height": null,
            "max_width": null,
            "min_height": null,
            "min_width": null,
            "object_fit": null,
            "object_position": null,
            "order": null,
            "overflow": null,
            "overflow_x": null,
            "overflow_y": null,
            "padding": null,
            "right": null,
            "top": null,
            "visibility": null,
            "width": null
          }
        },
        "ae0143472c7c405484007052d44d9a3a": {
          "model_module": "@jupyter-widgets/base",
          "model_name": "LayoutModel",
          "model_module_version": "1.2.0",
          "state": {
            "_model_module": "@jupyter-widgets/base",
            "_model_module_version": "1.2.0",
            "_model_name": "LayoutModel",
            "_view_count": null,
            "_view_module": "@jupyter-widgets/base",
            "_view_module_version": "1.2.0",
            "_view_name": "LayoutView",
            "align_content": null,
            "align_items": null,
            "align_self": null,
            "border": null,
            "bottom": null,
            "display": null,
            "flex": null,
            "flex_flow": null,
            "grid_area": null,
            "grid_auto_columns": null,
            "grid_auto_flow": null,
            "grid_auto_rows": null,
            "grid_column": null,
            "grid_gap": null,
            "grid_row": null,
            "grid_template_areas": null,
            "grid_template_columns": null,
            "grid_template_rows": null,
            "height": null,
            "justify_content": null,
            "justify_items": null,
            "left": null,
            "margin": null,
            "max_height": null,
            "max_width": null,
            "min_height": null,
            "min_width": null,
            "object_fit": null,
            "object_position": null,
            "order": null,
            "overflow": null,
            "overflow_x": null,
            "overflow_y": null,
            "padding": null,
            "right": null,
            "top": null,
            "visibility": null,
            "width": null
          }
        },
        "8697aad402cf44f4b4a5a5efc687d605": {
          "model_module": "@jupyter-widgets/controls",
          "model_name": "DescriptionStyleModel",
          "model_module_version": "1.5.0",
          "state": {
            "_model_module": "@jupyter-widgets/controls",
            "_model_module_version": "1.5.0",
            "_model_name": "DescriptionStyleModel",
            "_view_count": null,
            "_view_module": "@jupyter-widgets/base",
            "_view_module_version": "1.2.0",
            "_view_name": "StyleView",
            "description_width": ""
          }
        },
        "6692deda5e9b4a138f30d9905c4d129b": {
          "model_module": "@jupyter-widgets/base",
          "model_name": "LayoutModel",
          "model_module_version": "1.2.0",
          "state": {
            "_model_module": "@jupyter-widgets/base",
            "_model_module_version": "1.2.0",
            "_model_name": "LayoutModel",
            "_view_count": null,
            "_view_module": "@jupyter-widgets/base",
            "_view_module_version": "1.2.0",
            "_view_name": "LayoutView",
            "align_content": null,
            "align_items": null,
            "align_self": null,
            "border": null,
            "bottom": null,
            "display": null,
            "flex": null,
            "flex_flow": null,
            "grid_area": null,
            "grid_auto_columns": null,
            "grid_auto_flow": null,
            "grid_auto_rows": null,
            "grid_column": null,
            "grid_gap": null,
            "grid_row": null,
            "grid_template_areas": null,
            "grid_template_columns": null,
            "grid_template_rows": null,
            "height": null,
            "justify_content": null,
            "justify_items": null,
            "left": null,
            "margin": null,
            "max_height": null,
            "max_width": null,
            "min_height": null,
            "min_width": null,
            "object_fit": null,
            "object_position": null,
            "order": null,
            "overflow": null,
            "overflow_x": null,
            "overflow_y": null,
            "padding": null,
            "right": null,
            "top": null,
            "visibility": null,
            "width": null
          }
        },
        "17176f05e2064fbd985c3842cd266482": {
          "model_module": "@jupyter-widgets/controls",
          "model_name": "ProgressStyleModel",
          "model_module_version": "1.5.0",
          "state": {
            "_model_module": "@jupyter-widgets/controls",
            "_model_module_version": "1.5.0",
            "_model_name": "ProgressStyleModel",
            "_view_count": null,
            "_view_module": "@jupyter-widgets/base",
            "_view_module_version": "1.2.0",
            "_view_name": "StyleView",
            "bar_color": null,
            "description_width": ""
          }
        },
        "f0e64524ce294d729609d542ff2205a7": {
          "model_module": "@jupyter-widgets/base",
          "model_name": "LayoutModel",
          "model_module_version": "1.2.0",
          "state": {
            "_model_module": "@jupyter-widgets/base",
            "_model_module_version": "1.2.0",
            "_model_name": "LayoutModel",
            "_view_count": null,
            "_view_module": "@jupyter-widgets/base",
            "_view_module_version": "1.2.0",
            "_view_name": "LayoutView",
            "align_content": null,
            "align_items": null,
            "align_self": null,
            "border": null,
            "bottom": null,
            "display": null,
            "flex": null,
            "flex_flow": null,
            "grid_area": null,
            "grid_auto_columns": null,
            "grid_auto_flow": null,
            "grid_auto_rows": null,
            "grid_column": null,
            "grid_gap": null,
            "grid_row": null,
            "grid_template_areas": null,
            "grid_template_columns": null,
            "grid_template_rows": null,
            "height": null,
            "justify_content": null,
            "justify_items": null,
            "left": null,
            "margin": null,
            "max_height": null,
            "max_width": null,
            "min_height": null,
            "min_width": null,
            "object_fit": null,
            "object_position": null,
            "order": null,
            "overflow": null,
            "overflow_x": null,
            "overflow_y": null,
            "padding": null,
            "right": null,
            "top": null,
            "visibility": null,
            "width": null
          }
        },
        "95a1344ddbd3417d9a4adf5d006378c3": {
          "model_module": "@jupyter-widgets/controls",
          "model_name": "DescriptionStyleModel",
          "model_module_version": "1.5.0",
          "state": {
            "_model_module": "@jupyter-widgets/controls",
            "_model_module_version": "1.5.0",
            "_model_name": "DescriptionStyleModel",
            "_view_count": null,
            "_view_module": "@jupyter-widgets/base",
            "_view_module_version": "1.2.0",
            "_view_name": "StyleView",
            "description_width": ""
          }
        },
        "3e33b78ca3a949a8b6eec530705cb49e": {
          "model_module": "@jupyter-widgets/controls",
          "model_name": "HBoxModel",
          "model_module_version": "1.5.0",
          "state": {
            "_dom_classes": [],
            "_model_module": "@jupyter-widgets/controls",
            "_model_module_version": "1.5.0",
            "_model_name": "HBoxModel",
            "_view_count": null,
            "_view_module": "@jupyter-widgets/controls",
            "_view_module_version": "1.5.0",
            "_view_name": "HBoxView",
            "box_style": "",
            "children": [
              "IPY_MODEL_60a90664cf644a85a2a244160b338b92",
              "IPY_MODEL_e5cb296ca5b24bb6ba5b450d2f0f0d11",
              "IPY_MODEL_6a421aeb94994e4fbda4a3f48ba6e333"
            ],
            "layout": "IPY_MODEL_e2f65d6cc8264a11be227917fec917cc"
          }
        },
        "60a90664cf644a85a2a244160b338b92": {
          "model_module": "@jupyter-widgets/controls",
          "model_name": "HTMLModel",
          "model_module_version": "1.5.0",
          "state": {
            "_dom_classes": [],
            "_model_module": "@jupyter-widgets/controls",
            "_model_module_version": "1.5.0",
            "_model_name": "HTMLModel",
            "_view_count": null,
            "_view_module": "@jupyter-widgets/controls",
            "_view_module_version": "1.5.0",
            "_view_name": "HTMLView",
            "description": "",
            "description_tooltip": null,
            "layout": "IPY_MODEL_27561ed1413c48619643b34455d56063",
            "placeholder": "​",
            "style": "IPY_MODEL_ee8d67a69d1043128b1d30b46959836f",
            "value": "vocab.txt: 100%"
          }
        },
        "e5cb296ca5b24bb6ba5b450d2f0f0d11": {
          "model_module": "@jupyter-widgets/controls",
          "model_name": "FloatProgressModel",
          "model_module_version": "1.5.0",
          "state": {
            "_dom_classes": [],
            "_model_module": "@jupyter-widgets/controls",
            "_model_module_version": "1.5.0",
            "_model_name": "FloatProgressModel",
            "_view_count": null,
            "_view_module": "@jupyter-widgets/controls",
            "_view_module_version": "1.5.0",
            "_view_name": "ProgressView",
            "bar_style": "success",
            "description": "",
            "description_tooltip": null,
            "layout": "IPY_MODEL_d0cb5f22a23349a185bb10e6dd64c817",
            "max": 231508,
            "min": 0,
            "orientation": "horizontal",
            "style": "IPY_MODEL_6fe9d6b5a1994f2d8c710908e747aa04",
            "value": 231508
          }
        },
        "6a421aeb94994e4fbda4a3f48ba6e333": {
          "model_module": "@jupyter-widgets/controls",
          "model_name": "HTMLModel",
          "model_module_version": "1.5.0",
          "state": {
            "_dom_classes": [],
            "_model_module": "@jupyter-widgets/controls",
            "_model_module_version": "1.5.0",
            "_model_name": "HTMLModel",
            "_view_count": null,
            "_view_module": "@jupyter-widgets/controls",
            "_view_module_version": "1.5.0",
            "_view_name": "HTMLView",
            "description": "",
            "description_tooltip": null,
            "layout": "IPY_MODEL_07d436a1bc404a91b89d33df766b21fd",
            "placeholder": "​",
            "style": "IPY_MODEL_fe4fb831f45043f28bbdf54e40153791",
            "value": " 232k/232k [00:00&lt;00:00, 1.70MB/s]"
          }
        },
        "e2f65d6cc8264a11be227917fec917cc": {
          "model_module": "@jupyter-widgets/base",
          "model_name": "LayoutModel",
          "model_module_version": "1.2.0",
          "state": {
            "_model_module": "@jupyter-widgets/base",
            "_model_module_version": "1.2.0",
            "_model_name": "LayoutModel",
            "_view_count": null,
            "_view_module": "@jupyter-widgets/base",
            "_view_module_version": "1.2.0",
            "_view_name": "LayoutView",
            "align_content": null,
            "align_items": null,
            "align_self": null,
            "border": null,
            "bottom": null,
            "display": null,
            "flex": null,
            "flex_flow": null,
            "grid_area": null,
            "grid_auto_columns": null,
            "grid_auto_flow": null,
            "grid_auto_rows": null,
            "grid_column": null,
            "grid_gap": null,
            "grid_row": null,
            "grid_template_areas": null,
            "grid_template_columns": null,
            "grid_template_rows": null,
            "height": null,
            "justify_content": null,
            "justify_items": null,
            "left": null,
            "margin": null,
            "max_height": null,
            "max_width": null,
            "min_height": null,
            "min_width": null,
            "object_fit": null,
            "object_position": null,
            "order": null,
            "overflow": null,
            "overflow_x": null,
            "overflow_y": null,
            "padding": null,
            "right": null,
            "top": null,
            "visibility": null,
            "width": null
          }
        },
        "27561ed1413c48619643b34455d56063": {
          "model_module": "@jupyter-widgets/base",
          "model_name": "LayoutModel",
          "model_module_version": "1.2.0",
          "state": {
            "_model_module": "@jupyter-widgets/base",
            "_model_module_version": "1.2.0",
            "_model_name": "LayoutModel",
            "_view_count": null,
            "_view_module": "@jupyter-widgets/base",
            "_view_module_version": "1.2.0",
            "_view_name": "LayoutView",
            "align_content": null,
            "align_items": null,
            "align_self": null,
            "border": null,
            "bottom": null,
            "display": null,
            "flex": null,
            "flex_flow": null,
            "grid_area": null,
            "grid_auto_columns": null,
            "grid_auto_flow": null,
            "grid_auto_rows": null,
            "grid_column": null,
            "grid_gap": null,
            "grid_row": null,
            "grid_template_areas": null,
            "grid_template_columns": null,
            "grid_template_rows": null,
            "height": null,
            "justify_content": null,
            "justify_items": null,
            "left": null,
            "margin": null,
            "max_height": null,
            "max_width": null,
            "min_height": null,
            "min_width": null,
            "object_fit": null,
            "object_position": null,
            "order": null,
            "overflow": null,
            "overflow_x": null,
            "overflow_y": null,
            "padding": null,
            "right": null,
            "top": null,
            "visibility": null,
            "width": null
          }
        },
        "ee8d67a69d1043128b1d30b46959836f": {
          "model_module": "@jupyter-widgets/controls",
          "model_name": "DescriptionStyleModel",
          "model_module_version": "1.5.0",
          "state": {
            "_model_module": "@jupyter-widgets/controls",
            "_model_module_version": "1.5.0",
            "_model_name": "DescriptionStyleModel",
            "_view_count": null,
            "_view_module": "@jupyter-widgets/base",
            "_view_module_version": "1.2.0",
            "_view_name": "StyleView",
            "description_width": ""
          }
        },
        "d0cb5f22a23349a185bb10e6dd64c817": {
          "model_module": "@jupyter-widgets/base",
          "model_name": "LayoutModel",
          "model_module_version": "1.2.0",
          "state": {
            "_model_module": "@jupyter-widgets/base",
            "_model_module_version": "1.2.0",
            "_model_name": "LayoutModel",
            "_view_count": null,
            "_view_module": "@jupyter-widgets/base",
            "_view_module_version": "1.2.0",
            "_view_name": "LayoutView",
            "align_content": null,
            "align_items": null,
            "align_self": null,
            "border": null,
            "bottom": null,
            "display": null,
            "flex": null,
            "flex_flow": null,
            "grid_area": null,
            "grid_auto_columns": null,
            "grid_auto_flow": null,
            "grid_auto_rows": null,
            "grid_column": null,
            "grid_gap": null,
            "grid_row": null,
            "grid_template_areas": null,
            "grid_template_columns": null,
            "grid_template_rows": null,
            "height": null,
            "justify_content": null,
            "justify_items": null,
            "left": null,
            "margin": null,
            "max_height": null,
            "max_width": null,
            "min_height": null,
            "min_width": null,
            "object_fit": null,
            "object_position": null,
            "order": null,
            "overflow": null,
            "overflow_x": null,
            "overflow_y": null,
            "padding": null,
            "right": null,
            "top": null,
            "visibility": null,
            "width": null
          }
        },
        "6fe9d6b5a1994f2d8c710908e747aa04": {
          "model_module": "@jupyter-widgets/controls",
          "model_name": "ProgressStyleModel",
          "model_module_version": "1.5.0",
          "state": {
            "_model_module": "@jupyter-widgets/controls",
            "_model_module_version": "1.5.0",
            "_model_name": "ProgressStyleModel",
            "_view_count": null,
            "_view_module": "@jupyter-widgets/base",
            "_view_module_version": "1.2.0",
            "_view_name": "StyleView",
            "bar_color": null,
            "description_width": ""
          }
        },
        "07d436a1bc404a91b89d33df766b21fd": {
          "model_module": "@jupyter-widgets/base",
          "model_name": "LayoutModel",
          "model_module_version": "1.2.0",
          "state": {
            "_model_module": "@jupyter-widgets/base",
            "_model_module_version": "1.2.0",
            "_model_name": "LayoutModel",
            "_view_count": null,
            "_view_module": "@jupyter-widgets/base",
            "_view_module_version": "1.2.0",
            "_view_name": "LayoutView",
            "align_content": null,
            "align_items": null,
            "align_self": null,
            "border": null,
            "bottom": null,
            "display": null,
            "flex": null,
            "flex_flow": null,
            "grid_area": null,
            "grid_auto_columns": null,
            "grid_auto_flow": null,
            "grid_auto_rows": null,
            "grid_column": null,
            "grid_gap": null,
            "grid_row": null,
            "grid_template_areas": null,
            "grid_template_columns": null,
            "grid_template_rows": null,
            "height": null,
            "justify_content": null,
            "justify_items": null,
            "left": null,
            "margin": null,
            "max_height": null,
            "max_width": null,
            "min_height": null,
            "min_width": null,
            "object_fit": null,
            "object_position": null,
            "order": null,
            "overflow": null,
            "overflow_x": null,
            "overflow_y": null,
            "padding": null,
            "right": null,
            "top": null,
            "visibility": null,
            "width": null
          }
        },
        "fe4fb831f45043f28bbdf54e40153791": {
          "model_module": "@jupyter-widgets/controls",
          "model_name": "DescriptionStyleModel",
          "model_module_version": "1.5.0",
          "state": {
            "_model_module": "@jupyter-widgets/controls",
            "_model_module_version": "1.5.0",
            "_model_name": "DescriptionStyleModel",
            "_view_count": null,
            "_view_module": "@jupyter-widgets/base",
            "_view_module_version": "1.2.0",
            "_view_name": "StyleView",
            "description_width": ""
          }
        },
        "9416f03d70a14ad88b65647b2c619a61": {
          "model_module": "@jupyter-widgets/controls",
          "model_name": "HBoxModel",
          "model_module_version": "1.5.0",
          "state": {
            "_dom_classes": [],
            "_model_module": "@jupyter-widgets/controls",
            "_model_module_version": "1.5.0",
            "_model_name": "HBoxModel",
            "_view_count": null,
            "_view_module": "@jupyter-widgets/controls",
            "_view_module_version": "1.5.0",
            "_view_name": "HBoxView",
            "box_style": "",
            "children": [
              "IPY_MODEL_474c831442754bca8602d9e24d0eec1a",
              "IPY_MODEL_d171b00405ff4d05a6b90bd172cd9222",
              "IPY_MODEL_ab231b2cc0fa428daf9fc7c45fc2717f"
            ],
            "layout": "IPY_MODEL_721d140ebae94249ac6a3ef357f62a39"
          }
        },
        "474c831442754bca8602d9e24d0eec1a": {
          "model_module": "@jupyter-widgets/controls",
          "model_name": "HTMLModel",
          "model_module_version": "1.5.0",
          "state": {
            "_dom_classes": [],
            "_model_module": "@jupyter-widgets/controls",
            "_model_module_version": "1.5.0",
            "_model_name": "HTMLModel",
            "_view_count": null,
            "_view_module": "@jupyter-widgets/controls",
            "_view_module_version": "1.5.0",
            "_view_name": "HTMLView",
            "description": "",
            "description_tooltip": null,
            "layout": "IPY_MODEL_7060ec97103c441f99a9a854ffcaee1c",
            "placeholder": "​",
            "style": "IPY_MODEL_ae2406557a9e405786c229b88cf67a39",
            "value": "tokenizer.json: 100%"
          }
        },
        "d171b00405ff4d05a6b90bd172cd9222": {
          "model_module": "@jupyter-widgets/controls",
          "model_name": "FloatProgressModel",
          "model_module_version": "1.5.0",
          "state": {
            "_dom_classes": [],
            "_model_module": "@jupyter-widgets/controls",
            "_model_module_version": "1.5.0",
            "_model_name": "FloatProgressModel",
            "_view_count": null,
            "_view_module": "@jupyter-widgets/controls",
            "_view_module_version": "1.5.0",
            "_view_name": "ProgressView",
            "bar_style": "success",
            "description": "",
            "description_tooltip": null,
            "layout": "IPY_MODEL_015d2ba5501147d9ac4667ac68159a8c",
            "max": 466062,
            "min": 0,
            "orientation": "horizontal",
            "style": "IPY_MODEL_2612764d07504b37b46c34d3d5accec5",
            "value": 466062
          }
        },
        "ab231b2cc0fa428daf9fc7c45fc2717f": {
          "model_module": "@jupyter-widgets/controls",
          "model_name": "HTMLModel",
          "model_module_version": "1.5.0",
          "state": {
            "_dom_classes": [],
            "_model_module": "@jupyter-widgets/controls",
            "_model_module_version": "1.5.0",
            "_model_name": "HTMLModel",
            "_view_count": null,
            "_view_module": "@jupyter-widgets/controls",
            "_view_module_version": "1.5.0",
            "_view_name": "HTMLView",
            "description": "",
            "description_tooltip": null,
            "layout": "IPY_MODEL_8209e7b211cd47729372683221fb5512",
            "placeholder": "​",
            "style": "IPY_MODEL_d7a846610d284ae98c7336c88a6d75c7",
            "value": " 466k/466k [00:00&lt;00:00, 2.35MB/s]"
          }
        },
        "721d140ebae94249ac6a3ef357f62a39": {
          "model_module": "@jupyter-widgets/base",
          "model_name": "LayoutModel",
          "model_module_version": "1.2.0",
          "state": {
            "_model_module": "@jupyter-widgets/base",
            "_model_module_version": "1.2.0",
            "_model_name": "LayoutModel",
            "_view_count": null,
            "_view_module": "@jupyter-widgets/base",
            "_view_module_version": "1.2.0",
            "_view_name": "LayoutView",
            "align_content": null,
            "align_items": null,
            "align_self": null,
            "border": null,
            "bottom": null,
            "display": null,
            "flex": null,
            "flex_flow": null,
            "grid_area": null,
            "grid_auto_columns": null,
            "grid_auto_flow": null,
            "grid_auto_rows": null,
            "grid_column": null,
            "grid_gap": null,
            "grid_row": null,
            "grid_template_areas": null,
            "grid_template_columns": null,
            "grid_template_rows": null,
            "height": null,
            "justify_content": null,
            "justify_items": null,
            "left": null,
            "margin": null,
            "max_height": null,
            "max_width": null,
            "min_height": null,
            "min_width": null,
            "object_fit": null,
            "object_position": null,
            "order": null,
            "overflow": null,
            "overflow_x": null,
            "overflow_y": null,
            "padding": null,
            "right": null,
            "top": null,
            "visibility": null,
            "width": null
          }
        },
        "7060ec97103c441f99a9a854ffcaee1c": {
          "model_module": "@jupyter-widgets/base",
          "model_name": "LayoutModel",
          "model_module_version": "1.2.0",
          "state": {
            "_model_module": "@jupyter-widgets/base",
            "_model_module_version": "1.2.0",
            "_model_name": "LayoutModel",
            "_view_count": null,
            "_view_module": "@jupyter-widgets/base",
            "_view_module_version": "1.2.0",
            "_view_name": "LayoutView",
            "align_content": null,
            "align_items": null,
            "align_self": null,
            "border": null,
            "bottom": null,
            "display": null,
            "flex": null,
            "flex_flow": null,
            "grid_area": null,
            "grid_auto_columns": null,
            "grid_auto_flow": null,
            "grid_auto_rows": null,
            "grid_column": null,
            "grid_gap": null,
            "grid_row": null,
            "grid_template_areas": null,
            "grid_template_columns": null,
            "grid_template_rows": null,
            "height": null,
            "justify_content": null,
            "justify_items": null,
            "left": null,
            "margin": null,
            "max_height": null,
            "max_width": null,
            "min_height": null,
            "min_width": null,
            "object_fit": null,
            "object_position": null,
            "order": null,
            "overflow": null,
            "overflow_x": null,
            "overflow_y": null,
            "padding": null,
            "right": null,
            "top": null,
            "visibility": null,
            "width": null
          }
        },
        "ae2406557a9e405786c229b88cf67a39": {
          "model_module": "@jupyter-widgets/controls",
          "model_name": "DescriptionStyleModel",
          "model_module_version": "1.5.0",
          "state": {
            "_model_module": "@jupyter-widgets/controls",
            "_model_module_version": "1.5.0",
            "_model_name": "DescriptionStyleModel",
            "_view_count": null,
            "_view_module": "@jupyter-widgets/base",
            "_view_module_version": "1.2.0",
            "_view_name": "StyleView",
            "description_width": ""
          }
        },
        "015d2ba5501147d9ac4667ac68159a8c": {
          "model_module": "@jupyter-widgets/base",
          "model_name": "LayoutModel",
          "model_module_version": "1.2.0",
          "state": {
            "_model_module": "@jupyter-widgets/base",
            "_model_module_version": "1.2.0",
            "_model_name": "LayoutModel",
            "_view_count": null,
            "_view_module": "@jupyter-widgets/base",
            "_view_module_version": "1.2.0",
            "_view_name": "LayoutView",
            "align_content": null,
            "align_items": null,
            "align_self": null,
            "border": null,
            "bottom": null,
            "display": null,
            "flex": null,
            "flex_flow": null,
            "grid_area": null,
            "grid_auto_columns": null,
            "grid_auto_flow": null,
            "grid_auto_rows": null,
            "grid_column": null,
            "grid_gap": null,
            "grid_row": null,
            "grid_template_areas": null,
            "grid_template_columns": null,
            "grid_template_rows": null,
            "height": null,
            "justify_content": null,
            "justify_items": null,
            "left": null,
            "margin": null,
            "max_height": null,
            "max_width": null,
            "min_height": null,
            "min_width": null,
            "object_fit": null,
            "object_position": null,
            "order": null,
            "overflow": null,
            "overflow_x": null,
            "overflow_y": null,
            "padding": null,
            "right": null,
            "top": null,
            "visibility": null,
            "width": null
          }
        },
        "2612764d07504b37b46c34d3d5accec5": {
          "model_module": "@jupyter-widgets/controls",
          "model_name": "ProgressStyleModel",
          "model_module_version": "1.5.0",
          "state": {
            "_model_module": "@jupyter-widgets/controls",
            "_model_module_version": "1.5.0",
            "_model_name": "ProgressStyleModel",
            "_view_count": null,
            "_view_module": "@jupyter-widgets/base",
            "_view_module_version": "1.2.0",
            "_view_name": "StyleView",
            "bar_color": null,
            "description_width": ""
          }
        },
        "8209e7b211cd47729372683221fb5512": {
          "model_module": "@jupyter-widgets/base",
          "model_name": "LayoutModel",
          "model_module_version": "1.2.0",
          "state": {
            "_model_module": "@jupyter-widgets/base",
            "_model_module_version": "1.2.0",
            "_model_name": "LayoutModel",
            "_view_count": null,
            "_view_module": "@jupyter-widgets/base",
            "_view_module_version": "1.2.0",
            "_view_name": "LayoutView",
            "align_content": null,
            "align_items": null,
            "align_self": null,
            "border": null,
            "bottom": null,
            "display": null,
            "flex": null,
            "flex_flow": null,
            "grid_area": null,
            "grid_auto_columns": null,
            "grid_auto_flow": null,
            "grid_auto_rows": null,
            "grid_column": null,
            "grid_gap": null,
            "grid_row": null,
            "grid_template_areas": null,
            "grid_template_columns": null,
            "grid_template_rows": null,
            "height": null,
            "justify_content": null,
            "justify_items": null,
            "left": null,
            "margin": null,
            "max_height": null,
            "max_width": null,
            "min_height": null,
            "min_width": null,
            "object_fit": null,
            "object_position": null,
            "order": null,
            "overflow": null,
            "overflow_x": null,
            "overflow_y": null,
            "padding": null,
            "right": null,
            "top": null,
            "visibility": null,
            "width": null
          }
        },
        "d7a846610d284ae98c7336c88a6d75c7": {
          "model_module": "@jupyter-widgets/controls",
          "model_name": "DescriptionStyleModel",
          "model_module_version": "1.5.0",
          "state": {
            "_model_module": "@jupyter-widgets/controls",
            "_model_module_version": "1.5.0",
            "_model_name": "DescriptionStyleModel",
            "_view_count": null,
            "_view_module": "@jupyter-widgets/base",
            "_view_module_version": "1.2.0",
            "_view_name": "StyleView",
            "description_width": ""
          }
        },
        "7cbcc3ba39834f6095b0838678d380e8": {
          "model_module": "@jupyter-widgets/controls",
          "model_name": "HBoxModel",
          "model_module_version": "1.5.0",
          "state": {
            "_dom_classes": [],
            "_model_module": "@jupyter-widgets/controls",
            "_model_module_version": "1.5.0",
            "_model_name": "HBoxModel",
            "_view_count": null,
            "_view_module": "@jupyter-widgets/controls",
            "_view_module_version": "1.5.0",
            "_view_name": "HBoxView",
            "box_style": "",
            "children": [
              "IPY_MODEL_def0ef428c63435193e1dbf802416997",
              "IPY_MODEL_2721ff1314bc493eb3e47e7521542a77",
              "IPY_MODEL_fae6324ede4f4ab59fd8cefc02aee243"
            ],
            "layout": "IPY_MODEL_7a7ea7ab307742cdb187164996aa4c6f"
          }
        },
        "def0ef428c63435193e1dbf802416997": {
          "model_module": "@jupyter-widgets/controls",
          "model_name": "HTMLModel",
          "model_module_version": "1.5.0",
          "state": {
            "_dom_classes": [],
            "_model_module": "@jupyter-widgets/controls",
            "_model_module_version": "1.5.0",
            "_model_name": "HTMLModel",
            "_view_count": null,
            "_view_module": "@jupyter-widgets/controls",
            "_view_module_version": "1.5.0",
            "_view_name": "HTMLView",
            "description": "",
            "description_tooltip": null,
            "layout": "IPY_MODEL_f2b8401e63cf4980990ed301cc86dd1a",
            "placeholder": "​",
            "style": "IPY_MODEL_12f0f2b1451845ae96001b7f9fae8e16",
            "value": "config.json: 100%"
          }
        },
        "2721ff1314bc493eb3e47e7521542a77": {
          "model_module": "@jupyter-widgets/controls",
          "model_name": "FloatProgressModel",
          "model_module_version": "1.5.0",
          "state": {
            "_dom_classes": [],
            "_model_module": "@jupyter-widgets/controls",
            "_model_module_version": "1.5.0",
            "_model_name": "FloatProgressModel",
            "_view_count": null,
            "_view_module": "@jupyter-widgets/controls",
            "_view_module_version": "1.5.0",
            "_view_name": "ProgressView",
            "bar_style": "success",
            "description": "",
            "description_tooltip": null,
            "layout": "IPY_MODEL_ece314d240e54e6d96ae63cc14375038",
            "max": 570,
            "min": 0,
            "orientation": "horizontal",
            "style": "IPY_MODEL_fd1635ec899a49579731554a9517b54c",
            "value": 570
          }
        },
        "fae6324ede4f4ab59fd8cefc02aee243": {
          "model_module": "@jupyter-widgets/controls",
          "model_name": "HTMLModel",
          "model_module_version": "1.5.0",
          "state": {
            "_dom_classes": [],
            "_model_module": "@jupyter-widgets/controls",
            "_model_module_version": "1.5.0",
            "_model_name": "HTMLModel",
            "_view_count": null,
            "_view_module": "@jupyter-widgets/controls",
            "_view_module_version": "1.5.0",
            "_view_name": "HTMLView",
            "description": "",
            "description_tooltip": null,
            "layout": "IPY_MODEL_9b6b59cf6dd64aedaea791757cacae4d",
            "placeholder": "​",
            "style": "IPY_MODEL_f2036eff7cc84da4b1ba0809d28b4c03",
            "value": " 570/570 [00:00&lt;00:00, 15.3kB/s]"
          }
        },
        "7a7ea7ab307742cdb187164996aa4c6f": {
          "model_module": "@jupyter-widgets/base",
          "model_name": "LayoutModel",
          "model_module_version": "1.2.0",
          "state": {
            "_model_module": "@jupyter-widgets/base",
            "_model_module_version": "1.2.0",
            "_model_name": "LayoutModel",
            "_view_count": null,
            "_view_module": "@jupyter-widgets/base",
            "_view_module_version": "1.2.0",
            "_view_name": "LayoutView",
            "align_content": null,
            "align_items": null,
            "align_self": null,
            "border": null,
            "bottom": null,
            "display": null,
            "flex": null,
            "flex_flow": null,
            "grid_area": null,
            "grid_auto_columns": null,
            "grid_auto_flow": null,
            "grid_auto_rows": null,
            "grid_column": null,
            "grid_gap": null,
            "grid_row": null,
            "grid_template_areas": null,
            "grid_template_columns": null,
            "grid_template_rows": null,
            "height": null,
            "justify_content": null,
            "justify_items": null,
            "left": null,
            "margin": null,
            "max_height": null,
            "max_width": null,
            "min_height": null,
            "min_width": null,
            "object_fit": null,
            "object_position": null,
            "order": null,
            "overflow": null,
            "overflow_x": null,
            "overflow_y": null,
            "padding": null,
            "right": null,
            "top": null,
            "visibility": null,
            "width": null
          }
        },
        "f2b8401e63cf4980990ed301cc86dd1a": {
          "model_module": "@jupyter-widgets/base",
          "model_name": "LayoutModel",
          "model_module_version": "1.2.0",
          "state": {
            "_model_module": "@jupyter-widgets/base",
            "_model_module_version": "1.2.0",
            "_model_name": "LayoutModel",
            "_view_count": null,
            "_view_module": "@jupyter-widgets/base",
            "_view_module_version": "1.2.0",
            "_view_name": "LayoutView",
            "align_content": null,
            "align_items": null,
            "align_self": null,
            "border": null,
            "bottom": null,
            "display": null,
            "flex": null,
            "flex_flow": null,
            "grid_area": null,
            "grid_auto_columns": null,
            "grid_auto_flow": null,
            "grid_auto_rows": null,
            "grid_column": null,
            "grid_gap": null,
            "grid_row": null,
            "grid_template_areas": null,
            "grid_template_columns": null,
            "grid_template_rows": null,
            "height": null,
            "justify_content": null,
            "justify_items": null,
            "left": null,
            "margin": null,
            "max_height": null,
            "max_width": null,
            "min_height": null,
            "min_width": null,
            "object_fit": null,
            "object_position": null,
            "order": null,
            "overflow": null,
            "overflow_x": null,
            "overflow_y": null,
            "padding": null,
            "right": null,
            "top": null,
            "visibility": null,
            "width": null
          }
        },
        "12f0f2b1451845ae96001b7f9fae8e16": {
          "model_module": "@jupyter-widgets/controls",
          "model_name": "DescriptionStyleModel",
          "model_module_version": "1.5.0",
          "state": {
            "_model_module": "@jupyter-widgets/controls",
            "_model_module_version": "1.5.0",
            "_model_name": "DescriptionStyleModel",
            "_view_count": null,
            "_view_module": "@jupyter-widgets/base",
            "_view_module_version": "1.2.0",
            "_view_name": "StyleView",
            "description_width": ""
          }
        },
        "ece314d240e54e6d96ae63cc14375038": {
          "model_module": "@jupyter-widgets/base",
          "model_name": "LayoutModel",
          "model_module_version": "1.2.0",
          "state": {
            "_model_module": "@jupyter-widgets/base",
            "_model_module_version": "1.2.0",
            "_model_name": "LayoutModel",
            "_view_count": null,
            "_view_module": "@jupyter-widgets/base",
            "_view_module_version": "1.2.0",
            "_view_name": "LayoutView",
            "align_content": null,
            "align_items": null,
            "align_self": null,
            "border": null,
            "bottom": null,
            "display": null,
            "flex": null,
            "flex_flow": null,
            "grid_area": null,
            "grid_auto_columns": null,
            "grid_auto_flow": null,
            "grid_auto_rows": null,
            "grid_column": null,
            "grid_gap": null,
            "grid_row": null,
            "grid_template_areas": null,
            "grid_template_columns": null,
            "grid_template_rows": null,
            "height": null,
            "justify_content": null,
            "justify_items": null,
            "left": null,
            "margin": null,
            "max_height": null,
            "max_width": null,
            "min_height": null,
            "min_width": null,
            "object_fit": null,
            "object_position": null,
            "order": null,
            "overflow": null,
            "overflow_x": null,
            "overflow_y": null,
            "padding": null,
            "right": null,
            "top": null,
            "visibility": null,
            "width": null
          }
        },
        "fd1635ec899a49579731554a9517b54c": {
          "model_module": "@jupyter-widgets/controls",
          "model_name": "ProgressStyleModel",
          "model_module_version": "1.5.0",
          "state": {
            "_model_module": "@jupyter-widgets/controls",
            "_model_module_version": "1.5.0",
            "_model_name": "ProgressStyleModel",
            "_view_count": null,
            "_view_module": "@jupyter-widgets/base",
            "_view_module_version": "1.2.0",
            "_view_name": "StyleView",
            "bar_color": null,
            "description_width": ""
          }
        },
        "9b6b59cf6dd64aedaea791757cacae4d": {
          "model_module": "@jupyter-widgets/base",
          "model_name": "LayoutModel",
          "model_module_version": "1.2.0",
          "state": {
            "_model_module": "@jupyter-widgets/base",
            "_model_module_version": "1.2.0",
            "_model_name": "LayoutModel",
            "_view_count": null,
            "_view_module": "@jupyter-widgets/base",
            "_view_module_version": "1.2.0",
            "_view_name": "LayoutView",
            "align_content": null,
            "align_items": null,
            "align_self": null,
            "border": null,
            "bottom": null,
            "display": null,
            "flex": null,
            "flex_flow": null,
            "grid_area": null,
            "grid_auto_columns": null,
            "grid_auto_flow": null,
            "grid_auto_rows": null,
            "grid_column": null,
            "grid_gap": null,
            "grid_row": null,
            "grid_template_areas": null,
            "grid_template_columns": null,
            "grid_template_rows": null,
            "height": null,
            "justify_content": null,
            "justify_items": null,
            "left": null,
            "margin": null,
            "max_height": null,
            "max_width": null,
            "min_height": null,
            "min_width": null,
            "object_fit": null,
            "object_position": null,
            "order": null,
            "overflow": null,
            "overflow_x": null,
            "overflow_y": null,
            "padding": null,
            "right": null,
            "top": null,
            "visibility": null,
            "width": null
          }
        },
        "f2036eff7cc84da4b1ba0809d28b4c03": {
          "model_module": "@jupyter-widgets/controls",
          "model_name": "DescriptionStyleModel",
          "model_module_version": "1.5.0",
          "state": {
            "_model_module": "@jupyter-widgets/controls",
            "_model_module_version": "1.5.0",
            "_model_name": "DescriptionStyleModel",
            "_view_count": null,
            "_view_module": "@jupyter-widgets/base",
            "_view_module_version": "1.2.0",
            "_view_name": "StyleView",
            "description_width": ""
          }
        },
        "fa635cfe8afd41bc956913bdf9be73c0": {
          "model_module": "@jupyter-widgets/controls",
          "model_name": "HBoxModel",
          "model_module_version": "1.5.0",
          "state": {
            "_dom_classes": [],
            "_model_module": "@jupyter-widgets/controls",
            "_model_module_version": "1.5.0",
            "_model_name": "HBoxModel",
            "_view_count": null,
            "_view_module": "@jupyter-widgets/controls",
            "_view_module_version": "1.5.0",
            "_view_name": "HBoxView",
            "box_style": "",
            "children": [
              "IPY_MODEL_53b4bde4faa444f9ac2a62d17e207228",
              "IPY_MODEL_544b53863e6a44cab630562c6770b67a",
              "IPY_MODEL_8b8bb6e17c4249c381972fc8b087dc07"
            ],
            "layout": "IPY_MODEL_b4b58c57bd80401d87dd98b5176dfabf"
          }
        },
        "53b4bde4faa444f9ac2a62d17e207228": {
          "model_module": "@jupyter-widgets/controls",
          "model_name": "HTMLModel",
          "model_module_version": "1.5.0",
          "state": {
            "_dom_classes": [],
            "_model_module": "@jupyter-widgets/controls",
            "_model_module_version": "1.5.0",
            "_model_name": "HTMLModel",
            "_view_count": null,
            "_view_module": "@jupyter-widgets/controls",
            "_view_module_version": "1.5.0",
            "_view_name": "HTMLView",
            "description": "",
            "description_tooltip": null,
            "layout": "IPY_MODEL_0e892d1ae13945e0a6b37e58c78547ea",
            "placeholder": "​",
            "style": "IPY_MODEL_59f63ef01fc341ea8365a133a539429f",
            "value": "model.safetensors: 100%"
          }
        },
        "544b53863e6a44cab630562c6770b67a": {
          "model_module": "@jupyter-widgets/controls",
          "model_name": "FloatProgressModel",
          "model_module_version": "1.5.0",
          "state": {
            "_dom_classes": [],
            "_model_module": "@jupyter-widgets/controls",
            "_model_module_version": "1.5.0",
            "_model_name": "FloatProgressModel",
            "_view_count": null,
            "_view_module": "@jupyter-widgets/controls",
            "_view_module_version": "1.5.0",
            "_view_name": "ProgressView",
            "bar_style": "success",
            "description": "",
            "description_tooltip": null,
            "layout": "IPY_MODEL_576f1f9944264c43954bc34ce5c208a9",
            "max": 440449768,
            "min": 0,
            "orientation": "horizontal",
            "style": "IPY_MODEL_29e605282d264541be9a9212e88e0f6c",
            "value": 440449768
          }
        },
        "8b8bb6e17c4249c381972fc8b087dc07": {
          "model_module": "@jupyter-widgets/controls",
          "model_name": "HTMLModel",
          "model_module_version": "1.5.0",
          "state": {
            "_dom_classes": [],
            "_model_module": "@jupyter-widgets/controls",
            "_model_module_version": "1.5.0",
            "_model_name": "HTMLModel",
            "_view_count": null,
            "_view_module": "@jupyter-widgets/controls",
            "_view_module_version": "1.5.0",
            "_view_name": "HTMLView",
            "description": "",
            "description_tooltip": null,
            "layout": "IPY_MODEL_01e315f58abb43899afb83054be08850",
            "placeholder": "​",
            "style": "IPY_MODEL_1fe2f522d65d4cc9b5b363a4399bdd8c",
            "value": " 440M/440M [00:06&lt;00:00, 85.8MB/s]"
          }
        },
        "b4b58c57bd80401d87dd98b5176dfabf": {
          "model_module": "@jupyter-widgets/base",
          "model_name": "LayoutModel",
          "model_module_version": "1.2.0",
          "state": {
            "_model_module": "@jupyter-widgets/base",
            "_model_module_version": "1.2.0",
            "_model_name": "LayoutModel",
            "_view_count": null,
            "_view_module": "@jupyter-widgets/base",
            "_view_module_version": "1.2.0",
            "_view_name": "LayoutView",
            "align_content": null,
            "align_items": null,
            "align_self": null,
            "border": null,
            "bottom": null,
            "display": null,
            "flex": null,
            "flex_flow": null,
            "grid_area": null,
            "grid_auto_columns": null,
            "grid_auto_flow": null,
            "grid_auto_rows": null,
            "grid_column": null,
            "grid_gap": null,
            "grid_row": null,
            "grid_template_areas": null,
            "grid_template_columns": null,
            "grid_template_rows": null,
            "height": null,
            "justify_content": null,
            "justify_items": null,
            "left": null,
            "margin": null,
            "max_height": null,
            "max_width": null,
            "min_height": null,
            "min_width": null,
            "object_fit": null,
            "object_position": null,
            "order": null,
            "overflow": null,
            "overflow_x": null,
            "overflow_y": null,
            "padding": null,
            "right": null,
            "top": null,
            "visibility": null,
            "width": null
          }
        },
        "0e892d1ae13945e0a6b37e58c78547ea": {
          "model_module": "@jupyter-widgets/base",
          "model_name": "LayoutModel",
          "model_module_version": "1.2.0",
          "state": {
            "_model_module": "@jupyter-widgets/base",
            "_model_module_version": "1.2.0",
            "_model_name": "LayoutModel",
            "_view_count": null,
            "_view_module": "@jupyter-widgets/base",
            "_view_module_version": "1.2.0",
            "_view_name": "LayoutView",
            "align_content": null,
            "align_items": null,
            "align_self": null,
            "border": null,
            "bottom": null,
            "display": null,
            "flex": null,
            "flex_flow": null,
            "grid_area": null,
            "grid_auto_columns": null,
            "grid_auto_flow": null,
            "grid_auto_rows": null,
            "grid_column": null,
            "grid_gap": null,
            "grid_row": null,
            "grid_template_areas": null,
            "grid_template_columns": null,
            "grid_template_rows": null,
            "height": null,
            "justify_content": null,
            "justify_items": null,
            "left": null,
            "margin": null,
            "max_height": null,
            "max_width": null,
            "min_height": null,
            "min_width": null,
            "object_fit": null,
            "object_position": null,
            "order": null,
            "overflow": null,
            "overflow_x": null,
            "overflow_y": null,
            "padding": null,
            "right": null,
            "top": null,
            "visibility": null,
            "width": null
          }
        },
        "59f63ef01fc341ea8365a133a539429f": {
          "model_module": "@jupyter-widgets/controls",
          "model_name": "DescriptionStyleModel",
          "model_module_version": "1.5.0",
          "state": {
            "_model_module": "@jupyter-widgets/controls",
            "_model_module_version": "1.5.0",
            "_model_name": "DescriptionStyleModel",
            "_view_count": null,
            "_view_module": "@jupyter-widgets/base",
            "_view_module_version": "1.2.0",
            "_view_name": "StyleView",
            "description_width": ""
          }
        },
        "576f1f9944264c43954bc34ce5c208a9": {
          "model_module": "@jupyter-widgets/base",
          "model_name": "LayoutModel",
          "model_module_version": "1.2.0",
          "state": {
            "_model_module": "@jupyter-widgets/base",
            "_model_module_version": "1.2.0",
            "_model_name": "LayoutModel",
            "_view_count": null,
            "_view_module": "@jupyter-widgets/base",
            "_view_module_version": "1.2.0",
            "_view_name": "LayoutView",
            "align_content": null,
            "align_items": null,
            "align_self": null,
            "border": null,
            "bottom": null,
            "display": null,
            "flex": null,
            "flex_flow": null,
            "grid_area": null,
            "grid_auto_columns": null,
            "grid_auto_flow": null,
            "grid_auto_rows": null,
            "grid_column": null,
            "grid_gap": null,
            "grid_row": null,
            "grid_template_areas": null,
            "grid_template_columns": null,
            "grid_template_rows": null,
            "height": null,
            "justify_content": null,
            "justify_items": null,
            "left": null,
            "margin": null,
            "max_height": null,
            "max_width": null,
            "min_height": null,
            "min_width": null,
            "object_fit": null,
            "object_position": null,
            "order": null,
            "overflow": null,
            "overflow_x": null,
            "overflow_y": null,
            "padding": null,
            "right": null,
            "top": null,
            "visibility": null,
            "width": null
          }
        },
        "29e605282d264541be9a9212e88e0f6c": {
          "model_module": "@jupyter-widgets/controls",
          "model_name": "ProgressStyleModel",
          "model_module_version": "1.5.0",
          "state": {
            "_model_module": "@jupyter-widgets/controls",
            "_model_module_version": "1.5.0",
            "_model_name": "ProgressStyleModel",
            "_view_count": null,
            "_view_module": "@jupyter-widgets/base",
            "_view_module_version": "1.2.0",
            "_view_name": "StyleView",
            "bar_color": null,
            "description_width": ""
          }
        },
        "01e315f58abb43899afb83054be08850": {
          "model_module": "@jupyter-widgets/base",
          "model_name": "LayoutModel",
          "model_module_version": "1.2.0",
          "state": {
            "_model_module": "@jupyter-widgets/base",
            "_model_module_version": "1.2.0",
            "_model_name": "LayoutModel",
            "_view_count": null,
            "_view_module": "@jupyter-widgets/base",
            "_view_module_version": "1.2.0",
            "_view_name": "LayoutView",
            "align_content": null,
            "align_items": null,
            "align_self": null,
            "border": null,
            "bottom": null,
            "display": null,
            "flex": null,
            "flex_flow": null,
            "grid_area": null,
            "grid_auto_columns": null,
            "grid_auto_flow": null,
            "grid_auto_rows": null,
            "grid_column": null,
            "grid_gap": null,
            "grid_row": null,
            "grid_template_areas": null,
            "grid_template_columns": null,
            "grid_template_rows": null,
            "height": null,
            "justify_content": null,
            "justify_items": null,
            "left": null,
            "margin": null,
            "max_height": null,
            "max_width": null,
            "min_height": null,
            "min_width": null,
            "object_fit": null,
            "object_position": null,
            "order": null,
            "overflow": null,
            "overflow_x": null,
            "overflow_y": null,
            "padding": null,
            "right": null,
            "top": null,
            "visibility": null,
            "width": null
          }
        },
        "1fe2f522d65d4cc9b5b363a4399bdd8c": {
          "model_module": "@jupyter-widgets/controls",
          "model_name": "DescriptionStyleModel",
          "model_module_version": "1.5.0",
          "state": {
            "_model_module": "@jupyter-widgets/controls",
            "_model_module_version": "1.5.0",
            "_model_name": "DescriptionStyleModel",
            "_view_count": null,
            "_view_module": "@jupyter-widgets/base",
            "_view_module_version": "1.2.0",
            "_view_name": "StyleView",
            "description_width": ""
          }
        }
      }
    }
  },
  "cells": [
    {
      "cell_type": "markdown",
      "source": [
        "### First, we will collect the last 500 issues (opened and closed) and store them in a dataframe"
      ],
      "metadata": {
        "id": "jRqVNoCm9vte"
      }
    },
    {
      "cell_type": "code",
      "source": [
        "import requests\n",
        "import pandas as pd\n",
        "import re\n",
        "import nltk\n",
        "from nltk.stem import PorterStemmer\n",
        "from nltk.corpus import stopwords\n",
        "from nltk.tokenize import word_tokenize\n",
        "import seaborn as sns\n",
        "import matplotlib.pyplot as plt\n",
        "from ast import literal_eval\n",
        "from wordcloud import WordCloud\n",
        "from matplotlib.dates import DateFormatter, DayLocator, HourLocator\n",
        "\n",
        "# Download NLTK data\n",
        "nltk.download('stopwords')\n",
        "nltk.download('punkt')"
      ],
      "metadata": {
        "colab": {
          "base_uri": "https://localhost:8080/"
        },
        "id": "pfYUZ4WcLHIO",
        "outputId": "b0fe4b2c-af0a-42d3-b942-9859585f7738"
      },
      "execution_count": 1,
      "outputs": [
        {
          "output_type": "stream",
          "name": "stderr",
          "text": [
            "[nltk_data] Downloading package stopwords to /root/nltk_data...\n",
            "[nltk_data]   Unzipping corpora/stopwords.zip.\n",
            "[nltk_data] Downloading package punkt to /root/nltk_data...\n",
            "[nltk_data]   Unzipping tokenizers/punkt.zip.\n"
          ]
        },
        {
          "output_type": "execute_result",
          "data": {
            "text/plain": [
              "True"
            ]
          },
          "metadata": {},
          "execution_count": 1
        }
      ]
    },
    {
      "cell_type": "markdown",
      "source": [
        "## Extracting issues informations"
      ],
      "metadata": {
        "id": "CYbOsnrCu4lu"
      }
    },
    {
      "cell_type": "code",
      "execution_count": 51,
      "metadata": {
        "id": "XY5-49nb8xY5"
      },
      "outputs": [],
      "source": [
        "def get_last_n_issues(repo_owner, repo_name, n=500):\n",
        "    base_url = f\"https://api.github.com/repos/{repo_owner}/{repo_name}/issues\"\n",
        "    per_page = 100  # Maximum number of issues per page\n",
        "    num_pages = (n - 1) // per_page + 1\n",
        "\n",
        "    all_issues = []\n",
        "\n",
        "    for page in range(1, num_pages + 1):\n",
        "        params = {\n",
        "            'state': 'all',\n",
        "            'per_page': per_page,\n",
        "            'page': page,\n",
        "        }\n",
        "\n",
        "        response = requests.get(base_url, params=params)\n",
        "\n",
        "        if response.status_code == 200:\n",
        "            issues = response.json()\n",
        "            all_issues.extend(issues)\n",
        "        else:\n",
        "            print(f\"Error fetching issues. Status code: {response.status_code}\")\n",
        "            return None\n",
        "\n",
        "    return all_issues[:n]  # Return only n issues\n",
        "\n",
        "def create_dataframe(issues):\n",
        "    if issues:\n",
        "        # Extract relevant information from each issue\n",
        "        data = {\n",
        "            'number': [issue['number'] for issue in issues],\n",
        "            'title': [issue['title'] for issue in issues],\n",
        "            'state': [issue['state'] for issue in issues],\n",
        "            'created at': [issue['created_at'] for issue in issues],\n",
        "            'closed at': [issue['closed_at'] if 'closed_at' in issue else None for issue in issues],\n",
        "            'user': [issue['user']['login'] for issue in issues],\n",
        "            'labels': [issue['labels'] for issue in issues],\n",
        "            'description': [issue['body'] if 'body' in issue else None for issue in issues],\n",
        "        }\n",
        "\n",
        "        # Create a DataFrame from the extracted data\n",
        "        df = pd.DataFrame(data)\n",
        "        return df\n",
        "    else:\n",
        "        return None\n",
        "\n",
        "repo_owner = 'rails'\n",
        "repo_name = 'rails'\n",
        "issues = get_last_n_issues(repo_owner, repo_name)\n",
        "\n",
        "if issues:\n",
        "    df = create_dataframe(issues)\n",
        "else:\n",
        "    print(\"Failed to fetch issues.\")"
      ]
    },
    {
      "cell_type": "code",
      "source": [
        "df.head()"
      ],
      "metadata": {
        "colab": {
          "base_uri": "https://localhost:8080/",
          "height": 348
        },
        "id": "p3kV3LuY9RHL",
        "outputId": "df3acffe-849a-4ee9-c5bc-bf1713545b0f"
      },
      "execution_count": 52,
      "outputs": [
        {
          "output_type": "execute_result",
          "data": {
            "text/plain": [
              "   number                                              title   state  \\\n",
              "0   50925  Upgrading Rails 7.0.8 to 7.1.3 broke ActionTex...  closed   \n",
              "1   50924  `ActiveStorage::Analyzer::VideoAnalyzerTest#te...    open   \n",
              "2   50923  BacktraceCleaner silence core internal methods...  closed   \n",
              "3   50922  Fix loading schema cache when all databases ha...    open   \n",
              "4   50921  Require 'uri' explicitly to address `NameError...    open   \n",
              "\n",
              "             created at             closed at          user  \\\n",
              "0  2024-01-30T13:37:50Z  2024-01-30T13:38:01Z      airblade   \n",
              "1  2024-01-30T13:22:24Z                  None       yahonda   \n",
              "2  2024-01-30T12:26:31Z  2024-01-30T12:42:24Z  casperisfine   \n",
              "3  2024-01-30T11:49:46Z                  None     fatkodima   \n",
              "4  2024-01-30T11:33:51Z                  None       yahonda   \n",
              "\n",
              "                                              labels  \\\n",
              "0                                                 []   \n",
              "1  [{'id': 664533972, 'node_id': 'MDU6TGFiZWw2NjQ...   \n",
              "2  [{'id': 107194, 'node_id': 'MDU6TGFiZWwxMDcxOT...   \n",
              "3  [{'id': 107191, 'node_id': 'MDU6TGFiZWwxMDcxOT...   \n",
              "4  [{'id': 107194, 'node_id': 'MDU6TGFiZWwxMDcxOT...   \n",
              "\n",
              "                                         description  \n",
              "0  After upgrading from 7.0.8 to 7.1.3, images th...  \n",
              "1  Managed to reproduce https://buildkite.com/rai...  \n",
              "2  Ref: https://bugs.ruby-lang.org/issues/20227\\r...  \n",
              "3                                      Fixes #50910.  \n",
              "4  ### Motivation / Background\\r\\n\\r\\nThis commit...  "
            ],
            "text/html": [
              "\n",
              "  <div id=\"df-d70ae7a0-f1a3-4f1a-8c39-abcafeb1d730\" class=\"colab-df-container\">\n",
              "    <div>\n",
              "<style scoped>\n",
              "    .dataframe tbody tr th:only-of-type {\n",
              "        vertical-align: middle;\n",
              "    }\n",
              "\n",
              "    .dataframe tbody tr th {\n",
              "        vertical-align: top;\n",
              "    }\n",
              "\n",
              "    .dataframe thead th {\n",
              "        text-align: right;\n",
              "    }\n",
              "</style>\n",
              "<table border=\"1\" class=\"dataframe\">\n",
              "  <thead>\n",
              "    <tr style=\"text-align: right;\">\n",
              "      <th></th>\n",
              "      <th>number</th>\n",
              "      <th>title</th>\n",
              "      <th>state</th>\n",
              "      <th>created at</th>\n",
              "      <th>closed at</th>\n",
              "      <th>user</th>\n",
              "      <th>labels</th>\n",
              "      <th>description</th>\n",
              "    </tr>\n",
              "  </thead>\n",
              "  <tbody>\n",
              "    <tr>\n",
              "      <th>0</th>\n",
              "      <td>50925</td>\n",
              "      <td>Upgrading Rails 7.0.8 to 7.1.3 broke ActionTex...</td>\n",
              "      <td>closed</td>\n",
              "      <td>2024-01-30T13:37:50Z</td>\n",
              "      <td>2024-01-30T13:38:01Z</td>\n",
              "      <td>airblade</td>\n",
              "      <td>[]</td>\n",
              "      <td>After upgrading from 7.0.8 to 7.1.3, images th...</td>\n",
              "    </tr>\n",
              "    <tr>\n",
              "      <th>1</th>\n",
              "      <td>50924</td>\n",
              "      <td>`ActiveStorage::Analyzer::VideoAnalyzerTest#te...</td>\n",
              "      <td>open</td>\n",
              "      <td>2024-01-30T13:22:24Z</td>\n",
              "      <td>None</td>\n",
              "      <td>yahonda</td>\n",
              "      <td>[{'id': 664533972, 'node_id': 'MDU6TGFiZWw2NjQ...</td>\n",
              "      <td>Managed to reproduce https://buildkite.com/rai...</td>\n",
              "    </tr>\n",
              "    <tr>\n",
              "      <th>2</th>\n",
              "      <td>50923</td>\n",
              "      <td>BacktraceCleaner silence core internal methods...</td>\n",
              "      <td>closed</td>\n",
              "      <td>2024-01-30T12:26:31Z</td>\n",
              "      <td>2024-01-30T12:42:24Z</td>\n",
              "      <td>casperisfine</td>\n",
              "      <td>[{'id': 107194, 'node_id': 'MDU6TGFiZWwxMDcxOT...</td>\n",
              "      <td>Ref: https://bugs.ruby-lang.org/issues/20227\\r...</td>\n",
              "    </tr>\n",
              "    <tr>\n",
              "      <th>3</th>\n",
              "      <td>50922</td>\n",
              "      <td>Fix loading schema cache when all databases ha...</td>\n",
              "      <td>open</td>\n",
              "      <td>2024-01-30T11:49:46Z</td>\n",
              "      <td>None</td>\n",
              "      <td>fatkodima</td>\n",
              "      <td>[{'id': 107191, 'node_id': 'MDU6TGFiZWwxMDcxOT...</td>\n",
              "      <td>Fixes #50910.</td>\n",
              "    </tr>\n",
              "    <tr>\n",
              "      <th>4</th>\n",
              "      <td>50921</td>\n",
              "      <td>Require 'uri' explicitly to address `NameError...</td>\n",
              "      <td>open</td>\n",
              "      <td>2024-01-30T11:33:51Z</td>\n",
              "      <td>None</td>\n",
              "      <td>yahonda</td>\n",
              "      <td>[{'id': 107194, 'node_id': 'MDU6TGFiZWwxMDcxOT...</td>\n",
              "      <td>### Motivation / Background\\r\\n\\r\\nThis commit...</td>\n",
              "    </tr>\n",
              "  </tbody>\n",
              "</table>\n",
              "</div>\n",
              "    <div class=\"colab-df-buttons\">\n",
              "\n",
              "  <div class=\"colab-df-container\">\n",
              "    <button class=\"colab-df-convert\" onclick=\"convertToInteractive('df-d70ae7a0-f1a3-4f1a-8c39-abcafeb1d730')\"\n",
              "            title=\"Convert this dataframe to an interactive table.\"\n",
              "            style=\"display:none;\">\n",
              "\n",
              "  <svg xmlns=\"http://www.w3.org/2000/svg\" height=\"24px\" viewBox=\"0 -960 960 960\">\n",
              "    <path d=\"M120-120v-720h720v720H120Zm60-500h600v-160H180v160Zm220 220h160v-160H400v160Zm0 220h160v-160H400v160ZM180-400h160v-160H180v160Zm440 0h160v-160H620v160ZM180-180h160v-160H180v160Zm440 0h160v-160H620v160Z\"/>\n",
              "  </svg>\n",
              "    </button>\n",
              "\n",
              "  <style>\n",
              "    .colab-df-container {\n",
              "      display:flex;\n",
              "      gap: 12px;\n",
              "    }\n",
              "\n",
              "    .colab-df-convert {\n",
              "      background-color: #E8F0FE;\n",
              "      border: none;\n",
              "      border-radius: 50%;\n",
              "      cursor: pointer;\n",
              "      display: none;\n",
              "      fill: #1967D2;\n",
              "      height: 32px;\n",
              "      padding: 0 0 0 0;\n",
              "      width: 32px;\n",
              "    }\n",
              "\n",
              "    .colab-df-convert:hover {\n",
              "      background-color: #E2EBFA;\n",
              "      box-shadow: 0px 1px 2px rgba(60, 64, 67, 0.3), 0px 1px 3px 1px rgba(60, 64, 67, 0.15);\n",
              "      fill: #174EA6;\n",
              "    }\n",
              "\n",
              "    .colab-df-buttons div {\n",
              "      margin-bottom: 4px;\n",
              "    }\n",
              "\n",
              "    [theme=dark] .colab-df-convert {\n",
              "      background-color: #3B4455;\n",
              "      fill: #D2E3FC;\n",
              "    }\n",
              "\n",
              "    [theme=dark] .colab-df-convert:hover {\n",
              "      background-color: #434B5C;\n",
              "      box-shadow: 0px 1px 3px 1px rgba(0, 0, 0, 0.15);\n",
              "      filter: drop-shadow(0px 1px 2px rgba(0, 0, 0, 0.3));\n",
              "      fill: #FFFFFF;\n",
              "    }\n",
              "  </style>\n",
              "\n",
              "    <script>\n",
              "      const buttonEl =\n",
              "        document.querySelector('#df-d70ae7a0-f1a3-4f1a-8c39-abcafeb1d730 button.colab-df-convert');\n",
              "      buttonEl.style.display =\n",
              "        google.colab.kernel.accessAllowed ? 'block' : 'none';\n",
              "\n",
              "      async function convertToInteractive(key) {\n",
              "        const element = document.querySelector('#df-d70ae7a0-f1a3-4f1a-8c39-abcafeb1d730');\n",
              "        const dataTable =\n",
              "          await google.colab.kernel.invokeFunction('convertToInteractive',\n",
              "                                                    [key], {});\n",
              "        if (!dataTable) return;\n",
              "\n",
              "        const docLinkHtml = 'Like what you see? Visit the ' +\n",
              "          '<a target=\"_blank\" href=https://colab.research.google.com/notebooks/data_table.ipynb>data table notebook</a>'\n",
              "          + ' to learn more about interactive tables.';\n",
              "        element.innerHTML = '';\n",
              "        dataTable['output_type'] = 'display_data';\n",
              "        await google.colab.output.renderOutput(dataTable, element);\n",
              "        const docLink = document.createElement('div');\n",
              "        docLink.innerHTML = docLinkHtml;\n",
              "        element.appendChild(docLink);\n",
              "      }\n",
              "    </script>\n",
              "  </div>\n",
              "\n",
              "\n",
              "<div id=\"df-88daf2d1-48a8-4082-b832-b20c262ccc9c\">\n",
              "  <button class=\"colab-df-quickchart\" onclick=\"quickchart('df-88daf2d1-48a8-4082-b832-b20c262ccc9c')\"\n",
              "            title=\"Suggest charts\"\n",
              "            style=\"display:none;\">\n",
              "\n",
              "<svg xmlns=\"http://www.w3.org/2000/svg\" height=\"24px\"viewBox=\"0 0 24 24\"\n",
              "     width=\"24px\">\n",
              "    <g>\n",
              "        <path d=\"M19 3H5c-1.1 0-2 .9-2 2v14c0 1.1.9 2 2 2h14c1.1 0 2-.9 2-2V5c0-1.1-.9-2-2-2zM9 17H7v-7h2v7zm4 0h-2V7h2v10zm4 0h-2v-4h2v4z\"/>\n",
              "    </g>\n",
              "</svg>\n",
              "  </button>\n",
              "\n",
              "<style>\n",
              "  .colab-df-quickchart {\n",
              "      --bg-color: #E8F0FE;\n",
              "      --fill-color: #1967D2;\n",
              "      --hover-bg-color: #E2EBFA;\n",
              "      --hover-fill-color: #174EA6;\n",
              "      --disabled-fill-color: #AAA;\n",
              "      --disabled-bg-color: #DDD;\n",
              "  }\n",
              "\n",
              "  [theme=dark] .colab-df-quickchart {\n",
              "      --bg-color: #3B4455;\n",
              "      --fill-color: #D2E3FC;\n",
              "      --hover-bg-color: #434B5C;\n",
              "      --hover-fill-color: #FFFFFF;\n",
              "      --disabled-bg-color: #3B4455;\n",
              "      --disabled-fill-color: #666;\n",
              "  }\n",
              "\n",
              "  .colab-df-quickchart {\n",
              "    background-color: var(--bg-color);\n",
              "    border: none;\n",
              "    border-radius: 50%;\n",
              "    cursor: pointer;\n",
              "    display: none;\n",
              "    fill: var(--fill-color);\n",
              "    height: 32px;\n",
              "    padding: 0;\n",
              "    width: 32px;\n",
              "  }\n",
              "\n",
              "  .colab-df-quickchart:hover {\n",
              "    background-color: var(--hover-bg-color);\n",
              "    box-shadow: 0 1px 2px rgba(60, 64, 67, 0.3), 0 1px 3px 1px rgba(60, 64, 67, 0.15);\n",
              "    fill: var(--button-hover-fill-color);\n",
              "  }\n",
              "\n",
              "  .colab-df-quickchart-complete:disabled,\n",
              "  .colab-df-quickchart-complete:disabled:hover {\n",
              "    background-color: var(--disabled-bg-color);\n",
              "    fill: var(--disabled-fill-color);\n",
              "    box-shadow: none;\n",
              "  }\n",
              "\n",
              "  .colab-df-spinner {\n",
              "    border: 2px solid var(--fill-color);\n",
              "    border-color: transparent;\n",
              "    border-bottom-color: var(--fill-color);\n",
              "    animation:\n",
              "      spin 1s steps(1) infinite;\n",
              "  }\n",
              "\n",
              "  @keyframes spin {\n",
              "    0% {\n",
              "      border-color: transparent;\n",
              "      border-bottom-color: var(--fill-color);\n",
              "      border-left-color: var(--fill-color);\n",
              "    }\n",
              "    20% {\n",
              "      border-color: transparent;\n",
              "      border-left-color: var(--fill-color);\n",
              "      border-top-color: var(--fill-color);\n",
              "    }\n",
              "    30% {\n",
              "      border-color: transparent;\n",
              "      border-left-color: var(--fill-color);\n",
              "      border-top-color: var(--fill-color);\n",
              "      border-right-color: var(--fill-color);\n",
              "    }\n",
              "    40% {\n",
              "      border-color: transparent;\n",
              "      border-right-color: var(--fill-color);\n",
              "      border-top-color: var(--fill-color);\n",
              "    }\n",
              "    60% {\n",
              "      border-color: transparent;\n",
              "      border-right-color: var(--fill-color);\n",
              "    }\n",
              "    80% {\n",
              "      border-color: transparent;\n",
              "      border-right-color: var(--fill-color);\n",
              "      border-bottom-color: var(--fill-color);\n",
              "    }\n",
              "    90% {\n",
              "      border-color: transparent;\n",
              "      border-bottom-color: var(--fill-color);\n",
              "    }\n",
              "  }\n",
              "</style>\n",
              "\n",
              "  <script>\n",
              "    async function quickchart(key) {\n",
              "      const quickchartButtonEl =\n",
              "        document.querySelector('#' + key + ' button');\n",
              "      quickchartButtonEl.disabled = true;  // To prevent multiple clicks.\n",
              "      quickchartButtonEl.classList.add('colab-df-spinner');\n",
              "      try {\n",
              "        const charts = await google.colab.kernel.invokeFunction(\n",
              "            'suggestCharts', [key], {});\n",
              "      } catch (error) {\n",
              "        console.error('Error during call to suggestCharts:', error);\n",
              "      }\n",
              "      quickchartButtonEl.classList.remove('colab-df-spinner');\n",
              "      quickchartButtonEl.classList.add('colab-df-quickchart-complete');\n",
              "    }\n",
              "    (() => {\n",
              "      let quickchartButtonEl =\n",
              "        document.querySelector('#df-88daf2d1-48a8-4082-b832-b20c262ccc9c button');\n",
              "      quickchartButtonEl.style.display =\n",
              "        google.colab.kernel.accessAllowed ? 'block' : 'none';\n",
              "    })();\n",
              "  </script>\n",
              "</div>\n",
              "    </div>\n",
              "  </div>\n"
            ]
          },
          "metadata": {},
          "execution_count": 52
        }
      ]
    },
    {
      "cell_type": "code",
      "source": [
        "df.iloc[90]['description']"
      ],
      "metadata": {
        "colab": {
          "base_uri": "https://localhost:8080/",
          "height": 140
        },
        "id": "ggEuWMl19fU9",
        "outputId": "4781bd05-03a1-48bc-863f-767477444f6a"
      },
      "execution_count": 53,
      "outputs": [
        {
          "output_type": "execute_result",
          "data": {
            "text/plain": [
              "\"\\r\\nEvery time I have a runtime error running either the rails server or tests my error logs include a massive stack trace that I haven't been able to silence.\\r\\n\\r\\n[Gist of example development.log](https://gist.github.com/bcowell/b48ab2e820f474e3130e8bd2f3f6c140)\\r\\n\\r\\n### Steps to reproduce\\r\\n1. Run `rails s`\\r\\n2. Edit any line in a method to have invalid ruby\\r\\n3. Save the file and execute so it runs the method/test\\r\\n> My console fills with the massive stack trace\\r\\n\\r\\n### Expected behavior\\r\\nI expect an error message to include a reasonable stack trace with a few lines.\\r\\n\\r\\n### Actual behavior\\r\\nStack trace on every error is roughly 10k lines...\\r\\n\\r\\n### System configuration\\r\\nMacBook Pro 2019 Intel \\r\\nmacOS 13.3.1\\r\\n\\r\\n**Rails version**:\\r\\n6.1.7.6\\r\\n**Ruby version**:\\r\\n5.0.2\""
            ],
            "application/vnd.google.colaboratory.intrinsic+json": {
              "type": "string"
            }
          },
          "metadata": {},
          "execution_count": 53
        }
      ]
    },
    {
      "cell_type": "markdown",
      "source": [
        "## Preprocess Dataset"
      ],
      "metadata": {
        "id": "a12hfSmpgh8f"
      }
    },
    {
      "cell_type": "code",
      "source": [
        "def extract_label_names(labels):\n",
        "    if labels is not None:\n",
        "        return [label['name'] for label in labels]\n",
        "    else:\n",
        "        return None\n",
        "\n",
        "def remove_comments(text):\n",
        "    return re.sub(r'<!--(.*?)-->', '', text, flags=re.DOTALL)\n",
        "\n",
        "def remove_markdown(markdown):\n",
        "    # Replace bold and italicized text with plain text\n",
        "    markdown = re.sub(r'\\*\\*(.+?)\\*\\*|__(.+?)__', '', markdown)\n",
        "    markdown = re.sub(r'_([^_]+)_|\\*([^*]+)\\*', '', markdown)\n",
        "\n",
        "    # Replace strikethrough text with plain text\n",
        "    markdown = re.sub(r'~~(.+?)~~', '', markdown)\n",
        "\n",
        "    # Replace inline code blocks with plain text\n",
        "    markdown = re.sub(r'`(.+?)`', '', markdown)\n",
        "\n",
        "    # Replace code blocks with plain text\n",
        "    markdown = re.sub(r'```[\\s\\S]*?```', '', markdown, flags=re.MULTILINE)\n",
        "\n",
        "    # Remove links\n",
        "    markdown = re.sub(r'\\[([^\\]]+?)\\]\\([^)]+?\\)', '', markdown)\n",
        "\n",
        "    # Remove images\n",
        "    markdown = re.sub(r'!\\[([^\\]]+?)\\]\\([^)]+?\\)', '', markdown)\n",
        "\n",
        "    # Remove headings\n",
        "    markdown = re.sub(r'^#+\\s+(.+?)\\s*$', '', markdown, flags=re.MULTILINE)\n",
        "    markdown = re.sub(r'^\\s*=+\\s*$', '', markdown, flags=re.MULTILINE)\n",
        "    markdown = re.sub(r'^\\s*-+\\s*$', '', markdown, flags=re.MULTILINE)\n",
        "\n",
        "    # Remove blockquotes\n",
        "    markdown = re.sub(r'^\\s*>\\s+(.+?)\\s*$', '', markdown, flags=re.MULTILINE)\n",
        "\n",
        "    # Remove lists\n",
        "    markdown = re.sub(r'^\\s*[\\*\\+-]\\s+(.+?)\\s*$', '', markdown, flags=re.MULTILINE)\n",
        "    markdown = re.sub(r'^\\s*\\d+\\.\\s+(.+?)\\s*$', '', markdown, flags=re.MULTILINE)\n",
        "\n",
        "    # Remove horizontal lines\n",
        "    markdown = re.sub(r'^\\s*[-*_]{3,}\\s*$', '', markdown, flags=re.MULTILINE)\n",
        "\n",
        "    # Remove newline characters\n",
        "    markdown = re.sub(r'[\\n\\r]+', ' ', markdown)\n",
        "\n",
        "    return markdown"
      ],
      "metadata": {
        "id": "-KdLCAW9jsbt"
      },
      "execution_count": 54,
      "outputs": []
    },
    {
      "cell_type": "code",
      "source": [
        "def preprocess_dataset(df):\n",
        "    # Handle missing values\n",
        "    df = df.fillna({'closed at': pd.NaT, 'description': ''})\n",
        "\n",
        "    # Convert date columns to datetime\n",
        "    df['created at'] = pd.to_datetime(df['created at'])\n",
        "    df['closed at'] = pd.to_datetime(df['closed at'])\n",
        "\n",
        "    # Extract additional features\n",
        "    df['day of week'] = df['created at'].dt.dayofweek\n",
        "    df['month'] = df['created at'].dt.month\n",
        "    df['year'] = df['created at'].dt.year\n",
        "\n",
        "    # Handle Labels\n",
        "    df['labels'] = df['labels'].apply(extract_label_names)\n",
        "\n",
        "    # Text preprocessing for descriptions\n",
        "    df['description'] = df['description'].apply(remove_comments)\n",
        "    df['description'] = df['description'].apply(remove_markdown)\n",
        "\n",
        "    stop_words = set(stopwords.words('english'))\n",
        "    stemmer = PorterStemmer()\n",
        "\n",
        "    df['description'] = df['description'].apply(lambda x: ' '.join([stemmer.stem(word) for word in word_tokenize(x.lower()) if word.isalnum() and word not in stop_words]))\n",
        "\n",
        "    # Explore data distributions\n",
        "    print(df.describe())\n",
        "\n",
        "    return df"
      ],
      "metadata": {
        "id": "LFb6YBNKbQmU"
      },
      "execution_count": 55,
      "outputs": []
    },
    {
      "cell_type": "code",
      "source": [
        "processed_df = preprocess_dataset(df)"
      ],
      "metadata": {
        "colab": {
          "base_uri": "https://localhost:8080/"
        },
        "id": "DD-sfIWxhesg",
        "outputId": "966dafc1-55b9-4796-9ca6-9d0d2c8b885b"
      },
      "execution_count": 56,
      "outputs": [
        {
          "output_type": "stream",
          "name": "stdout",
          "text": [
            "             number  day of week      month         year\n",
            "count    500.000000   500.000000  500.00000   500.000000\n",
            "mean   50670.660000     2.704000    3.04600  2023.814000\n",
            "std      145.834165     1.898313    4.28446     0.389496\n",
            "min    50415.000000     0.000000    1.00000  2023.000000\n",
            "25%    50545.750000     1.000000    1.00000  2024.000000\n",
            "50%    50670.500000     3.000000    1.00000  2024.000000\n",
            "75%    50796.250000     4.000000    1.00000  2024.000000\n",
            "max    50925.000000     6.000000   12.00000  2024.000000\n"
          ]
        }
      ]
    },
    {
      "cell_type": "code",
      "source": [
        "processed_df.tail(10)"
      ],
      "metadata": {
        "colab": {
          "base_uri": "https://localhost:8080/",
          "height": 1000
        },
        "id": "GoYSk4YKhjDM",
        "outputId": "cfd2cfb8-67a5-42aa-ae43-22b7a37f517c"
      },
      "execution_count": 57,
      "outputs": [
        {
          "output_type": "execute_result",
          "data": {
            "text/plain": [
              "     number                                              title   state  \\\n",
              "490   50425  Remove unused argument in .db_configs_with_ver...  closed   \n",
              "491   50424  Add `explain` support for calculation methods ...  closed   \n",
              "492   50423  Link to query assertions in testing guide [ci-...  closed   \n",
              "493   50422                   Include view tests in rake stats  closed   \n",
              "494   50421  Using `:destroy_async` with `has_many` causes ...  closed   \n",
              "495   50420  Doc: Prevent `Attributes` to be a link [ci-ski...  closed   \n",
              "496   50419   Doc: Prevent `Attributes` to be a link [ci-skip]  closed   \n",
              "497   50418  Use buffered read while generating Blob checks...  closed   \n",
              "498   50417  Add `to_sql` support for calculation methods l...    open   \n",
              "499   50415             I want to optimize rake commands on CI  closed   \n",
              "\n",
              "                   created at                 closed at           user  \\\n",
              "490 2023-12-21 21:48:50+00:00 2023-12-21 22:23:24+00:00     wildmaples   \n",
              "491 2023-12-21 19:56:56+00:00 2023-12-29 15:14:33+00:00             p8   \n",
              "492 2023-12-21 17:03:39+00:00 2023-12-27 22:34:01+00:00             p8   \n",
              "493 2023-12-21 16:47:06+00:00 2024-01-01 17:53:26+00:00        nhorton   \n",
              "494 2023-12-21 15:53:45+00:00 2023-12-21 21:54:48+00:00       ZempTime   \n",
              "495 2023-12-21 15:52:43+00:00 2023-12-21 15:53:23+00:00             p8   \n",
              "496 2023-12-21 15:38:53+00:00 2023-12-21 15:51:20+00:00  okuramasafumi   \n",
              "497 2023-12-21 14:54:58+00:00 2023-12-26 18:38:17+00:00  the-spectator   \n",
              "498 2023-12-21 10:53:01+00:00                       NaT             p8   \n",
              "499 2023-12-21 06:25:39+00:00 2023-12-21 06:53:53+00:00      alpaca-tc   \n",
              "\n",
              "              labels                                        description  \\\n",
              "490   [activerecord]  remov method argument submit pr make sure foll...   \n",
              "491   [activerecord]  allow take oper column name argument rubi coun...   \n",
              "492           [docs]  link recent ad queri edg guid edg api doc read...   \n",
              "493       [railties]  view test ad rail directori contain ad list di...   \n",
              "494               []  rubi requir gemfil true sourc http gitrecord r...   \n",
              "495   [activerecord]                                                      \n",
              "496   [activerecord]  http link http correct pull request prevent li...   \n",
              "497  [activestorage]  debug memori issu app notic larg amount string...   \n",
              "498   [activerecord]  calcul method directli return result possibl c...   \n",
              "499               []  default rail configur run eagerload effect run...   \n",
              "\n",
              "     day of week  month  year  \n",
              "490            3     12  2023  \n",
              "491            3     12  2023  \n",
              "492            3     12  2023  \n",
              "493            3     12  2023  \n",
              "494            3     12  2023  \n",
              "495            3     12  2023  \n",
              "496            3     12  2023  \n",
              "497            3     12  2023  \n",
              "498            3     12  2023  \n",
              "499            3     12  2023  "
            ],
            "text/html": [
              "\n",
              "  <div id=\"df-9b85a458-286a-4978-9535-102ec57f538d\" class=\"colab-df-container\">\n",
              "    <div>\n",
              "<style scoped>\n",
              "    .dataframe tbody tr th:only-of-type {\n",
              "        vertical-align: middle;\n",
              "    }\n",
              "\n",
              "    .dataframe tbody tr th {\n",
              "        vertical-align: top;\n",
              "    }\n",
              "\n",
              "    .dataframe thead th {\n",
              "        text-align: right;\n",
              "    }\n",
              "</style>\n",
              "<table border=\"1\" class=\"dataframe\">\n",
              "  <thead>\n",
              "    <tr style=\"text-align: right;\">\n",
              "      <th></th>\n",
              "      <th>number</th>\n",
              "      <th>title</th>\n",
              "      <th>state</th>\n",
              "      <th>created at</th>\n",
              "      <th>closed at</th>\n",
              "      <th>user</th>\n",
              "      <th>labels</th>\n",
              "      <th>description</th>\n",
              "      <th>day of week</th>\n",
              "      <th>month</th>\n",
              "      <th>year</th>\n",
              "    </tr>\n",
              "  </thead>\n",
              "  <tbody>\n",
              "    <tr>\n",
              "      <th>490</th>\n",
              "      <td>50425</td>\n",
              "      <td>Remove unused argument in .db_configs_with_ver...</td>\n",
              "      <td>closed</td>\n",
              "      <td>2023-12-21 21:48:50+00:00</td>\n",
              "      <td>2023-12-21 22:23:24+00:00</td>\n",
              "      <td>wildmaples</td>\n",
              "      <td>[activerecord]</td>\n",
              "      <td>remov method argument submit pr make sure foll...</td>\n",
              "      <td>3</td>\n",
              "      <td>12</td>\n",
              "      <td>2023</td>\n",
              "    </tr>\n",
              "    <tr>\n",
              "      <th>491</th>\n",
              "      <td>50424</td>\n",
              "      <td>Add `explain` support for calculation methods ...</td>\n",
              "      <td>closed</td>\n",
              "      <td>2023-12-21 19:56:56+00:00</td>\n",
              "      <td>2023-12-29 15:14:33+00:00</td>\n",
              "      <td>p8</td>\n",
              "      <td>[activerecord]</td>\n",
              "      <td>allow take oper column name argument rubi coun...</td>\n",
              "      <td>3</td>\n",
              "      <td>12</td>\n",
              "      <td>2023</td>\n",
              "    </tr>\n",
              "    <tr>\n",
              "      <th>492</th>\n",
              "      <td>50423</td>\n",
              "      <td>Link to query assertions in testing guide [ci-...</td>\n",
              "      <td>closed</td>\n",
              "      <td>2023-12-21 17:03:39+00:00</td>\n",
              "      <td>2023-12-27 22:34:01+00:00</td>\n",
              "      <td>p8</td>\n",
              "      <td>[docs]</td>\n",
              "      <td>link recent ad queri edg guid edg api doc read...</td>\n",
              "      <td>3</td>\n",
              "      <td>12</td>\n",
              "      <td>2023</td>\n",
              "    </tr>\n",
              "    <tr>\n",
              "      <th>493</th>\n",
              "      <td>50422</td>\n",
              "      <td>Include view tests in rake stats</td>\n",
              "      <td>closed</td>\n",
              "      <td>2023-12-21 16:47:06+00:00</td>\n",
              "      <td>2024-01-01 17:53:26+00:00</td>\n",
              "      <td>nhorton</td>\n",
              "      <td>[railties]</td>\n",
              "      <td>view test ad rail directori contain ad list di...</td>\n",
              "      <td>3</td>\n",
              "      <td>12</td>\n",
              "      <td>2023</td>\n",
              "    </tr>\n",
              "    <tr>\n",
              "      <th>494</th>\n",
              "      <td>50421</td>\n",
              "      <td>Using `:destroy_async` with `has_many` causes ...</td>\n",
              "      <td>closed</td>\n",
              "      <td>2023-12-21 15:53:45+00:00</td>\n",
              "      <td>2023-12-21 21:54:48+00:00</td>\n",
              "      <td>ZempTime</td>\n",
              "      <td>[]</td>\n",
              "      <td>rubi requir gemfil true sourc http gitrecord r...</td>\n",
              "      <td>3</td>\n",
              "      <td>12</td>\n",
              "      <td>2023</td>\n",
              "    </tr>\n",
              "    <tr>\n",
              "      <th>495</th>\n",
              "      <td>50420</td>\n",
              "      <td>Doc: Prevent `Attributes` to be a link [ci-ski...</td>\n",
              "      <td>closed</td>\n",
              "      <td>2023-12-21 15:52:43+00:00</td>\n",
              "      <td>2023-12-21 15:53:23+00:00</td>\n",
              "      <td>p8</td>\n",
              "      <td>[activerecord]</td>\n",
              "      <td></td>\n",
              "      <td>3</td>\n",
              "      <td>12</td>\n",
              "      <td>2023</td>\n",
              "    </tr>\n",
              "    <tr>\n",
              "      <th>496</th>\n",
              "      <td>50419</td>\n",
              "      <td>Doc: Prevent `Attributes` to be a link [ci-skip]</td>\n",
              "      <td>closed</td>\n",
              "      <td>2023-12-21 15:38:53+00:00</td>\n",
              "      <td>2023-12-21 15:51:20+00:00</td>\n",
              "      <td>okuramasafumi</td>\n",
              "      <td>[activerecord]</td>\n",
              "      <td>http link http correct pull request prevent li...</td>\n",
              "      <td>3</td>\n",
              "      <td>12</td>\n",
              "      <td>2023</td>\n",
              "    </tr>\n",
              "    <tr>\n",
              "      <th>497</th>\n",
              "      <td>50418</td>\n",
              "      <td>Use buffered read while generating Blob checks...</td>\n",
              "      <td>closed</td>\n",
              "      <td>2023-12-21 14:54:58+00:00</td>\n",
              "      <td>2023-12-26 18:38:17+00:00</td>\n",
              "      <td>the-spectator</td>\n",
              "      <td>[activestorage]</td>\n",
              "      <td>debug memori issu app notic larg amount string...</td>\n",
              "      <td>3</td>\n",
              "      <td>12</td>\n",
              "      <td>2023</td>\n",
              "    </tr>\n",
              "    <tr>\n",
              "      <th>498</th>\n",
              "      <td>50417</td>\n",
              "      <td>Add `to_sql` support for calculation methods l...</td>\n",
              "      <td>open</td>\n",
              "      <td>2023-12-21 10:53:01+00:00</td>\n",
              "      <td>NaT</td>\n",
              "      <td>p8</td>\n",
              "      <td>[activerecord]</td>\n",
              "      <td>calcul method directli return result possibl c...</td>\n",
              "      <td>3</td>\n",
              "      <td>12</td>\n",
              "      <td>2023</td>\n",
              "    </tr>\n",
              "    <tr>\n",
              "      <th>499</th>\n",
              "      <td>50415</td>\n",
              "      <td>I want to optimize rake commands on CI</td>\n",
              "      <td>closed</td>\n",
              "      <td>2023-12-21 06:25:39+00:00</td>\n",
              "      <td>2023-12-21 06:53:53+00:00</td>\n",
              "      <td>alpaca-tc</td>\n",
              "      <td>[]</td>\n",
              "      <td>default rail configur run eagerload effect run...</td>\n",
              "      <td>3</td>\n",
              "      <td>12</td>\n",
              "      <td>2023</td>\n",
              "    </tr>\n",
              "  </tbody>\n",
              "</table>\n",
              "</div>\n",
              "    <div class=\"colab-df-buttons\">\n",
              "\n",
              "  <div class=\"colab-df-container\">\n",
              "    <button class=\"colab-df-convert\" onclick=\"convertToInteractive('df-9b85a458-286a-4978-9535-102ec57f538d')\"\n",
              "            title=\"Convert this dataframe to an interactive table.\"\n",
              "            style=\"display:none;\">\n",
              "\n",
              "  <svg xmlns=\"http://www.w3.org/2000/svg\" height=\"24px\" viewBox=\"0 -960 960 960\">\n",
              "    <path d=\"M120-120v-720h720v720H120Zm60-500h600v-160H180v160Zm220 220h160v-160H400v160Zm0 220h160v-160H400v160ZM180-400h160v-160H180v160Zm440 0h160v-160H620v160ZM180-180h160v-160H180v160Zm440 0h160v-160H620v160Z\"/>\n",
              "  </svg>\n",
              "    </button>\n",
              "\n",
              "  <style>\n",
              "    .colab-df-container {\n",
              "      display:flex;\n",
              "      gap: 12px;\n",
              "    }\n",
              "\n",
              "    .colab-df-convert {\n",
              "      background-color: #E8F0FE;\n",
              "      border: none;\n",
              "      border-radius: 50%;\n",
              "      cursor: pointer;\n",
              "      display: none;\n",
              "      fill: #1967D2;\n",
              "      height: 32px;\n",
              "      padding: 0 0 0 0;\n",
              "      width: 32px;\n",
              "    }\n",
              "\n",
              "    .colab-df-convert:hover {\n",
              "      background-color: #E2EBFA;\n",
              "      box-shadow: 0px 1px 2px rgba(60, 64, 67, 0.3), 0px 1px 3px 1px rgba(60, 64, 67, 0.15);\n",
              "      fill: #174EA6;\n",
              "    }\n",
              "\n",
              "    .colab-df-buttons div {\n",
              "      margin-bottom: 4px;\n",
              "    }\n",
              "\n",
              "    [theme=dark] .colab-df-convert {\n",
              "      background-color: #3B4455;\n",
              "      fill: #D2E3FC;\n",
              "    }\n",
              "\n",
              "    [theme=dark] .colab-df-convert:hover {\n",
              "      background-color: #434B5C;\n",
              "      box-shadow: 0px 1px 3px 1px rgba(0, 0, 0, 0.15);\n",
              "      filter: drop-shadow(0px 1px 2px rgba(0, 0, 0, 0.3));\n",
              "      fill: #FFFFFF;\n",
              "    }\n",
              "  </style>\n",
              "\n",
              "    <script>\n",
              "      const buttonEl =\n",
              "        document.querySelector('#df-9b85a458-286a-4978-9535-102ec57f538d button.colab-df-convert');\n",
              "      buttonEl.style.display =\n",
              "        google.colab.kernel.accessAllowed ? 'block' : 'none';\n",
              "\n",
              "      async function convertToInteractive(key) {\n",
              "        const element = document.querySelector('#df-9b85a458-286a-4978-9535-102ec57f538d');\n",
              "        const dataTable =\n",
              "          await google.colab.kernel.invokeFunction('convertToInteractive',\n",
              "                                                    [key], {});\n",
              "        if (!dataTable) return;\n",
              "\n",
              "        const docLinkHtml = 'Like what you see? Visit the ' +\n",
              "          '<a target=\"_blank\" href=https://colab.research.google.com/notebooks/data_table.ipynb>data table notebook</a>'\n",
              "          + ' to learn more about interactive tables.';\n",
              "        element.innerHTML = '';\n",
              "        dataTable['output_type'] = 'display_data';\n",
              "        await google.colab.output.renderOutput(dataTable, element);\n",
              "        const docLink = document.createElement('div');\n",
              "        docLink.innerHTML = docLinkHtml;\n",
              "        element.appendChild(docLink);\n",
              "      }\n",
              "    </script>\n",
              "  </div>\n",
              "\n",
              "\n",
              "<div id=\"df-0bdf4447-534c-4022-96ea-397d6aa7d977\">\n",
              "  <button class=\"colab-df-quickchart\" onclick=\"quickchart('df-0bdf4447-534c-4022-96ea-397d6aa7d977')\"\n",
              "            title=\"Suggest charts\"\n",
              "            style=\"display:none;\">\n",
              "\n",
              "<svg xmlns=\"http://www.w3.org/2000/svg\" height=\"24px\"viewBox=\"0 0 24 24\"\n",
              "     width=\"24px\">\n",
              "    <g>\n",
              "        <path d=\"M19 3H5c-1.1 0-2 .9-2 2v14c0 1.1.9 2 2 2h14c1.1 0 2-.9 2-2V5c0-1.1-.9-2-2-2zM9 17H7v-7h2v7zm4 0h-2V7h2v10zm4 0h-2v-4h2v4z\"/>\n",
              "    </g>\n",
              "</svg>\n",
              "  </button>\n",
              "\n",
              "<style>\n",
              "  .colab-df-quickchart {\n",
              "      --bg-color: #E8F0FE;\n",
              "      --fill-color: #1967D2;\n",
              "      --hover-bg-color: #E2EBFA;\n",
              "      --hover-fill-color: #174EA6;\n",
              "      --disabled-fill-color: #AAA;\n",
              "      --disabled-bg-color: #DDD;\n",
              "  }\n",
              "\n",
              "  [theme=dark] .colab-df-quickchart {\n",
              "      --bg-color: #3B4455;\n",
              "      --fill-color: #D2E3FC;\n",
              "      --hover-bg-color: #434B5C;\n",
              "      --hover-fill-color: #FFFFFF;\n",
              "      --disabled-bg-color: #3B4455;\n",
              "      --disabled-fill-color: #666;\n",
              "  }\n",
              "\n",
              "  .colab-df-quickchart {\n",
              "    background-color: var(--bg-color);\n",
              "    border: none;\n",
              "    border-radius: 50%;\n",
              "    cursor: pointer;\n",
              "    display: none;\n",
              "    fill: var(--fill-color);\n",
              "    height: 32px;\n",
              "    padding: 0;\n",
              "    width: 32px;\n",
              "  }\n",
              "\n",
              "  .colab-df-quickchart:hover {\n",
              "    background-color: var(--hover-bg-color);\n",
              "    box-shadow: 0 1px 2px rgba(60, 64, 67, 0.3), 0 1px 3px 1px rgba(60, 64, 67, 0.15);\n",
              "    fill: var(--button-hover-fill-color);\n",
              "  }\n",
              "\n",
              "  .colab-df-quickchart-complete:disabled,\n",
              "  .colab-df-quickchart-complete:disabled:hover {\n",
              "    background-color: var(--disabled-bg-color);\n",
              "    fill: var(--disabled-fill-color);\n",
              "    box-shadow: none;\n",
              "  }\n",
              "\n",
              "  .colab-df-spinner {\n",
              "    border: 2px solid var(--fill-color);\n",
              "    border-color: transparent;\n",
              "    border-bottom-color: var(--fill-color);\n",
              "    animation:\n",
              "      spin 1s steps(1) infinite;\n",
              "  }\n",
              "\n",
              "  @keyframes spin {\n",
              "    0% {\n",
              "      border-color: transparent;\n",
              "      border-bottom-color: var(--fill-color);\n",
              "      border-left-color: var(--fill-color);\n",
              "    }\n",
              "    20% {\n",
              "      border-color: transparent;\n",
              "      border-left-color: var(--fill-color);\n",
              "      border-top-color: var(--fill-color);\n",
              "    }\n",
              "    30% {\n",
              "      border-color: transparent;\n",
              "      border-left-color: var(--fill-color);\n",
              "      border-top-color: var(--fill-color);\n",
              "      border-right-color: var(--fill-color);\n",
              "    }\n",
              "    40% {\n",
              "      border-color: transparent;\n",
              "      border-right-color: var(--fill-color);\n",
              "      border-top-color: var(--fill-color);\n",
              "    }\n",
              "    60% {\n",
              "      border-color: transparent;\n",
              "      border-right-color: var(--fill-color);\n",
              "    }\n",
              "    80% {\n",
              "      border-color: transparent;\n",
              "      border-right-color: var(--fill-color);\n",
              "      border-bottom-color: var(--fill-color);\n",
              "    }\n",
              "    90% {\n",
              "      border-color: transparent;\n",
              "      border-bottom-color: var(--fill-color);\n",
              "    }\n",
              "  }\n",
              "</style>\n",
              "\n",
              "  <script>\n",
              "    async function quickchart(key) {\n",
              "      const quickchartButtonEl =\n",
              "        document.querySelector('#' + key + ' button');\n",
              "      quickchartButtonEl.disabled = true;  // To prevent multiple clicks.\n",
              "      quickchartButtonEl.classList.add('colab-df-spinner');\n",
              "      try {\n",
              "        const charts = await google.colab.kernel.invokeFunction(\n",
              "            'suggestCharts', [key], {});\n",
              "      } catch (error) {\n",
              "        console.error('Error during call to suggestCharts:', error);\n",
              "      }\n",
              "      quickchartButtonEl.classList.remove('colab-df-spinner');\n",
              "      quickchartButtonEl.classList.add('colab-df-quickchart-complete');\n",
              "    }\n",
              "    (() => {\n",
              "      let quickchartButtonEl =\n",
              "        document.querySelector('#df-0bdf4447-534c-4022-96ea-397d6aa7d977 button');\n",
              "      quickchartButtonEl.style.display =\n",
              "        google.colab.kernel.accessAllowed ? 'block' : 'none';\n",
              "    })();\n",
              "  </script>\n",
              "</div>\n",
              "    </div>\n",
              "  </div>\n"
            ]
          },
          "metadata": {},
          "execution_count": 57
        }
      ]
    },
    {
      "cell_type": "code",
      "source": [
        "processed_df.iloc[90]['description']"
      ],
      "metadata": {
        "colab": {
          "base_uri": "https://localhost:8080/",
          "height": 53
        },
        "id": "PZKX_Tz-kjjL",
        "outputId": "55a3bce9-165c-4d79-c683-47a679b3211e"
      },
      "execution_count": 58,
      "outputs": [
        {
          "output_type": "execute_result",
          "data": {
            "text/plain": [
              "'everi time runtim error run either rail server test error log includ massiv stack trace abl silenc expect error messag includ reason stack trace line stack trace everi error roughli 10k line macbook pro 2019 intel maco'"
            ],
            "application/vnd.google.colaboratory.intrinsic+json": {
              "type": "string"
            }
          },
          "metadata": {},
          "execution_count": 58
        }
      ]
    },
    {
      "cell_type": "code",
      "source": [
        "processed_df.iloc[90]['labels']"
      ],
      "metadata": {
        "colab": {
          "base_uri": "https://localhost:8080/"
        },
        "id": "m-anaPoMkXkK",
        "outputId": "8e37250b-6f34-41e4-cd33-a9c0e39be436"
      },
      "execution_count": 59,
      "outputs": [
        {
          "output_type": "execute_result",
          "data": {
            "text/plain": [
              "[]"
            ]
          },
          "metadata": {},
          "execution_count": 59
        }
      ]
    },
    {
      "cell_type": "markdown",
      "source": [
        "### Export dataset"
      ],
      "metadata": {
        "id": "BKL58Pc4Dk9N"
      }
    },
    {
      "cell_type": "code",
      "source": [
        "processed_df.to_csv('rails_issues.csv', index=False)"
      ],
      "metadata": {
        "id": "9cqOpymm2aH-"
      },
      "execution_count": 36,
      "outputs": []
    },
    {
      "cell_type": "markdown",
      "source": [
        "### Import dataset"
      ],
      "metadata": {
        "id": "VZWQU0hQw6My"
      }
    },
    {
      "cell_type": "code",
      "source": [
        "processed_df = pd.read_csv('/content/rails_issues.csv')\n",
        "\n",
        "processed_df['created at'] = pd.to_datetime(processed_df['created at'])\n",
        "processed_df['closed at'] = pd.to_datetime(processed_df['closed at'])\n",
        "processed_df['labels'] = processed_df['labels'].apply(literal_eval)"
      ],
      "metadata": {
        "id": "37rL2WBnw9gI"
      },
      "execution_count": 2,
      "outputs": []
    },
    {
      "cell_type": "markdown",
      "source": [
        "## General Overview"
      ],
      "metadata": {
        "id": "jc6tfVRb0FCn"
      }
    },
    {
      "cell_type": "code",
      "source": [
        "processed_df.info()"
      ],
      "metadata": {
        "colab": {
          "base_uri": "https://localhost:8080/"
        },
        "id": "EVqWxs4ipk6k",
        "outputId": "6f79fb35-4460-4778-9a1f-7eeeed78cb56"
      },
      "execution_count": 104,
      "outputs": [
        {
          "output_type": "stream",
          "name": "stdout",
          "text": [
            "<class 'pandas.core.frame.DataFrame'>\n",
            "RangeIndex: 500 entries, 0 to 499\n",
            "Data columns (total 11 columns):\n",
            " #   Column       Non-Null Count  Dtype              \n",
            "---  ------       --------------  -----              \n",
            " 0   number       500 non-null    int64              \n",
            " 1   title        500 non-null    object             \n",
            " 2   state        500 non-null    object             \n",
            " 3   created at   500 non-null    datetime64[ns, UTC]\n",
            " 4   closed at    376 non-null    datetime64[ns, UTC]\n",
            " 5   user         500 non-null    object             \n",
            " 6   labels       500 non-null    object             \n",
            " 7   description  491 non-null    object             \n",
            " 8   day of week  500 non-null    int64              \n",
            " 9   month        500 non-null    int64              \n",
            " 10  year         500 non-null    int64              \n",
            "dtypes: datetime64[ns, UTC](2), int64(4), object(5)\n",
            "memory usage: 43.1+ KB\n"
          ]
        }
      ]
    },
    {
      "cell_type": "code",
      "source": [
        "processed_df.iloc[3]['labels']"
      ],
      "metadata": {
        "colab": {
          "base_uri": "https://localhost:8080/"
        },
        "id": "7AnrjEJPBDVa",
        "outputId": "16558174-af13-4483-d8c6-e3a3d28a694b"
      },
      "execution_count": 113,
      "outputs": [
        {
          "output_type": "execute_result",
          "data": {
            "text/plain": [
              "['activerecord', 'railties']"
            ]
          },
          "metadata": {},
          "execution_count": 113
        }
      ]
    },
    {
      "cell_type": "code",
      "source": [
        "# Number of rows that don't have any labels\n",
        "empty_labels_count = processed_df[processed_df['labels'].apply(lambda x: len(x) == 0)].shape[0]\n",
        "\n",
        "print(f\"Number of rows with empty labels: {empty_labels_count}\")"
      ],
      "metadata": {
        "colab": {
          "base_uri": "https://localhost:8080/"
        },
        "id": "Zuahtw0i0GkA",
        "outputId": "d9baa2d1-ff6c-4852-f179-7a7a256e6875"
      },
      "execution_count": 106,
      "outputs": [
        {
          "output_type": "stream",
          "name": "stdout",
          "text": [
            "Number of rows with empty labels: 87\n"
          ]
        }
      ]
    },
    {
      "cell_type": "code",
      "source": [
        "# Number of rows that have many labels\n",
        "more_than_one_label_count = processed_df[processed_df['labels'].apply(lambda x: len(x) > 1)].shape[0]\n",
        "\n",
        "print(f\"Number of rows with more than one label: {more_than_one_label_count}\")"
      ],
      "metadata": {
        "colab": {
          "base_uri": "https://localhost:8080/"
        },
        "id": "KnkTlVSFGut7",
        "outputId": "785ef2f1-3bfa-42a0-b725-ea348f5f3f11"
      },
      "execution_count": 107,
      "outputs": [
        {
          "output_type": "stream",
          "name": "stdout",
          "text": [
            "Number of rows with more than one label: 101\n"
          ]
        }
      ]
    },
    {
      "cell_type": "code",
      "source": [
        "unique_labels = pd.unique(processed_df['labels'].explode().dropna())\n",
        "\n",
        "print(\"Number of Unique Labels:\")\n",
        "print(len(unique_labels))"
      ],
      "metadata": {
        "colab": {
          "base_uri": "https://localhost:8080/"
        },
        "id": "F0qigrVt9qYN",
        "outputId": "3d188c63-8380-49ba-8bcd-15a48275b363"
      },
      "execution_count": 23,
      "outputs": [
        {
          "output_type": "stream",
          "name": "stdout",
          "text": [
            "Number of Unique Labels:\n",
            "20\n"
          ]
        }
      ]
    },
    {
      "cell_type": "code",
      "source": [
        "unique_labels"
      ],
      "metadata": {
        "colab": {
          "base_uri": "https://localhost:8080/"
        },
        "id": "fwOc3S-o-GkZ",
        "outputId": "61e87ad5-a0ed-4ff3-99d4-dcb18ae6302c"
      },
      "execution_count": 115,
      "outputs": [
        {
          "output_type": "execute_result",
          "data": {
            "text/plain": [
              "array(['activestorage', 'ci issues', 'activesupport', 'activerecord',\n",
              "       'railties', 'actionmailer', 'actionpack', 'actionmailbox',\n",
              "       'actiontext', 'docs', 'attached PR', 'actionview', 'activemodel',\n",
              "       'activejob', 'actioncable', 'With reproduction steps',\n",
              "       'more-information-needed', 'needs backport', 'regression',\n",
              "       'good first issue'], dtype=object)"
            ]
          },
          "metadata": {},
          "execution_count": 115
        }
      ]
    },
    {
      "cell_type": "code",
      "source": [
        "max_labels_length = processed_df['labels'].apply(len).max()\n",
        "\n",
        "print(f\"Maximum length of labels array: {max_labels_length}\")"
      ],
      "metadata": {
        "colab": {
          "base_uri": "https://localhost:8080/"
        },
        "id": "YDw9_IlLVjuv",
        "outputId": "335de1ba-ff78-48f0-96a2-be6b275c9ba2"
      },
      "execution_count": 127,
      "outputs": [
        {
          "output_type": "stream",
          "name": "stdout",
          "text": [
            "Maximum length of labels array: 13\n"
          ]
        }
      ]
    },
    {
      "cell_type": "code",
      "source": [
        "row_with_max_labels = processed_df[processed_df['labels'].apply(len) == max_labels_length]\n",
        "\n",
        "print(\"Row with the maximum length of labels:\")\n",
        "row_with_max_labels['labels']"
      ],
      "metadata": {
        "colab": {
          "base_uri": "https://localhost:8080/"
        },
        "id": "7Cf8G5PcV132",
        "outputId": "b8cfdcec-ce74-4e22-e5e9-3efa5611fa4f"
      },
      "execution_count": 130,
      "outputs": [
        {
          "output_type": "stream",
          "name": "stdout",
          "text": [
            "Row with the maximum length of labels:\n"
          ]
        },
        {
          "output_type": "execute_result",
          "data": {
            "text/plain": [
              "429    [actionmailer, actionpack, activemodel, active...\n",
              "Name: labels, dtype: object"
            ]
          },
          "metadata": {},
          "execution_count": 130
        }
      ]
    },
    {
      "cell_type": "code",
      "source": [
        "# Periode of creation of the issues\n",
        "first_date = processed_df['created at'].min()\n",
        "last_date = processed_df['created at'].max()\n",
        "\n",
        "print(f\"First Date: {first_date}\")\n",
        "print(f\"Last Date: {last_date}\")"
      ],
      "metadata": {
        "colab": {
          "base_uri": "https://localhost:8080/"
        },
        "id": "p7QCdFrn1Ezf",
        "outputId": "43d85657-f03a-4a5b-c5be-fc91beaf4ec9"
      },
      "execution_count": 63,
      "outputs": [
        {
          "output_type": "stream",
          "name": "stdout",
          "text": [
            "First Date: 2023-12-21 06:25:39+00:00\n",
            "Last Date: 2024-01-30 13:37:50+00:00\n"
          ]
        }
      ]
    },
    {
      "cell_type": "code",
      "source": [
        "days_difference = (last_date - first_date).days\n",
        "\n",
        "print(f\"Number of days between the two dates: {days_difference} days\")"
      ],
      "metadata": {
        "colab": {
          "base_uri": "https://localhost:8080/"
        },
        "id": "bfQDkHF32uSf",
        "outputId": "c396e486-2ca5-4994-9485-331e679e1876"
      },
      "execution_count": 64,
      "outputs": [
        {
          "output_type": "stream",
          "name": "stdout",
          "text": [
            "Number of days between the two dates: 40 days\n"
          ]
        }
      ]
    },
    {
      "cell_type": "code",
      "source": [
        "# Number of users\n",
        "num_users = processed_df['user'].nunique()\n",
        "\n",
        "print(f\"Number of unique users who created issues: {num_users}\")"
      ],
      "metadata": {
        "colab": {
          "base_uri": "https://localhost:8080/"
        },
        "id": "O3EZ8_CrFNY_",
        "outputId": "1ed6c3a4-6ec4-4161-e262-4754d11b43e0"
      },
      "execution_count": 65,
      "outputs": [
        {
          "output_type": "stream",
          "name": "stdout",
          "text": [
            "Number of unique users who created issues: 196\n"
          ]
        }
      ]
    },
    {
      "cell_type": "code",
      "source": [
        "empty_description_count = processed_df[processed_df['description'].apply(lambda x: not(x))].shape[0]\n",
        "\n",
        "print(f\"Number of rows with empty or null 'Description': {empty_description_count}\")"
      ],
      "metadata": {
        "colab": {
          "base_uri": "https://localhost:8080/"
        },
        "id": "z0oKkKXuFiAR",
        "outputId": "076bd8b3-671f-41a4-fde9-04f67cc30b62"
      },
      "execution_count": 68,
      "outputs": [
        {
          "output_type": "stream",
          "name": "stdout",
          "text": [
            "Number of rows with empty or null 'Description': 9\n"
          ]
        }
      ]
    },
    {
      "cell_type": "code",
      "source": [
        "rows_with_empty_description = processed_df[processed_df['description'].apply(lambda x: not(x))]\n",
        "\n",
        "# Print the DataFrame with relevant columns\n",
        "print(\"DataFrame with rows where 'Description' is empty or null:\")\n",
        "rows_with_empty_description"
      ],
      "metadata": {
        "colab": {
          "base_uri": "https://localhost:8080/",
          "height": 751
        },
        "id": "veez4hL_xi4O",
        "outputId": "9e0e0e60-f514-42db-d062-7e67b6530a76"
      },
      "execution_count": 69,
      "outputs": [
        {
          "output_type": "stream",
          "name": "stdout",
          "text": [
            "DataFrame with rows where 'Description' is empty or null:\n"
          ]
        },
        {
          "output_type": "execute_result",
          "data": {
            "text/plain": [
              "     number                                              title   state  \\\n",
              "184   50736  Add examples to #slice and #values_at document...  closed   \n",
              "227   50693  Merge pull request #50682 from p8/activerecord...  closed   \n",
              "228   50692  Document `Calculations#count` and `Calculation...  closed   \n",
              "268   50652  Merge pull request #50595 from p8/guides/api-d...  closed   \n",
              "269   50651  Merge pull request #50592 from p8/guides/expan...  closed   \n",
              "285   50635         Minor improvements to Connection Pool docs  closed   \n",
              "371   50549                                Backport 1ea796d6a8  closed   \n",
              "422   50498             Document Cache::WriteOptions [ci-skip]  closed   \n",
              "495   50420  Doc: Prevent `Attributes` to be a link [ci-ski...  closed   \n",
              "\n",
              "                   created at                 closed at        user  \\\n",
              "184 2024-01-12 19:53:51+00:00 2024-01-12 19:53:58+00:00          p8   \n",
              "227 2024-01-10 09:29:22+00:00 2024-01-10 09:29:39+00:00          p8   \n",
              "228 2024-01-10 09:27:43+00:00 2024-01-10 09:27:57+00:00          p8   \n",
              "268 2024-01-08 18:14:40+00:00 2024-01-08 18:14:56+00:00          p8   \n",
              "269 2024-01-08 18:12:30+00:00 2024-01-08 18:12:52+00:00          p8   \n",
              "285 2024-01-08 00:00:11+00:00 2024-01-08 08:56:49+00:00  ghiculescu   \n",
              "371 2024-01-03 07:19:18+00:00 2024-01-03 07:20:21+00:00          p8   \n",
              "422 2023-12-31 05:37:49+00:00 2023-12-31 05:45:26+00:00  skipkayhil   \n",
              "495 2023-12-21 15:52:43+00:00 2023-12-21 15:53:23+00:00          p8   \n",
              "\n",
              "                                                labels description  \\\n",
              "184                        [activemodel, activerecord]               \n",
              "227                               [activerecord, docs]               \n",
              "228                                     [activerecord]               \n",
              "268                                             [docs]               \n",
              "269                                             [docs]               \n",
              "285                               [activerecord, docs]               \n",
              "371  [actionmailer, actionpack, actioncable, action...               \n",
              "422                                    [activesupport]               \n",
              "495                                     [activerecord]               \n",
              "\n",
              "     day of week  month  year  \n",
              "184            4      1  2024  \n",
              "227            2      1  2024  \n",
              "228            2      1  2024  \n",
              "268            0      1  2024  \n",
              "269            0      1  2024  \n",
              "285            0      1  2024  \n",
              "371            2      1  2024  \n",
              "422            6     12  2023  \n",
              "495            3     12  2023  "
            ],
            "text/html": [
              "\n",
              "  <div id=\"df-3ca3c2b7-163d-4950-99fa-b9eabca7e95f\" class=\"colab-df-container\">\n",
              "    <div>\n",
              "<style scoped>\n",
              "    .dataframe tbody tr th:only-of-type {\n",
              "        vertical-align: middle;\n",
              "    }\n",
              "\n",
              "    .dataframe tbody tr th {\n",
              "        vertical-align: top;\n",
              "    }\n",
              "\n",
              "    .dataframe thead th {\n",
              "        text-align: right;\n",
              "    }\n",
              "</style>\n",
              "<table border=\"1\" class=\"dataframe\">\n",
              "  <thead>\n",
              "    <tr style=\"text-align: right;\">\n",
              "      <th></th>\n",
              "      <th>number</th>\n",
              "      <th>title</th>\n",
              "      <th>state</th>\n",
              "      <th>created at</th>\n",
              "      <th>closed at</th>\n",
              "      <th>user</th>\n",
              "      <th>labels</th>\n",
              "      <th>description</th>\n",
              "      <th>day of week</th>\n",
              "      <th>month</th>\n",
              "      <th>year</th>\n",
              "    </tr>\n",
              "  </thead>\n",
              "  <tbody>\n",
              "    <tr>\n",
              "      <th>184</th>\n",
              "      <td>50736</td>\n",
              "      <td>Add examples to #slice and #values_at document...</td>\n",
              "      <td>closed</td>\n",
              "      <td>2024-01-12 19:53:51+00:00</td>\n",
              "      <td>2024-01-12 19:53:58+00:00</td>\n",
              "      <td>p8</td>\n",
              "      <td>[activemodel, activerecord]</td>\n",
              "      <td></td>\n",
              "      <td>4</td>\n",
              "      <td>1</td>\n",
              "      <td>2024</td>\n",
              "    </tr>\n",
              "    <tr>\n",
              "      <th>227</th>\n",
              "      <td>50693</td>\n",
              "      <td>Merge pull request #50682 from p8/activerecord...</td>\n",
              "      <td>closed</td>\n",
              "      <td>2024-01-10 09:29:22+00:00</td>\n",
              "      <td>2024-01-10 09:29:39+00:00</td>\n",
              "      <td>p8</td>\n",
              "      <td>[activerecord, docs]</td>\n",
              "      <td></td>\n",
              "      <td>2</td>\n",
              "      <td>1</td>\n",
              "      <td>2024</td>\n",
              "    </tr>\n",
              "    <tr>\n",
              "      <th>228</th>\n",
              "      <td>50692</td>\n",
              "      <td>Document `Calculations#count` and `Calculation...</td>\n",
              "      <td>closed</td>\n",
              "      <td>2024-01-10 09:27:43+00:00</td>\n",
              "      <td>2024-01-10 09:27:57+00:00</td>\n",
              "      <td>p8</td>\n",
              "      <td>[activerecord]</td>\n",
              "      <td></td>\n",
              "      <td>2</td>\n",
              "      <td>1</td>\n",
              "      <td>2024</td>\n",
              "    </tr>\n",
              "    <tr>\n",
              "      <th>268</th>\n",
              "      <td>50652</td>\n",
              "      <td>Merge pull request #50595 from p8/guides/api-d...</td>\n",
              "      <td>closed</td>\n",
              "      <td>2024-01-08 18:14:40+00:00</td>\n",
              "      <td>2024-01-08 18:14:56+00:00</td>\n",
              "      <td>p8</td>\n",
              "      <td>[docs]</td>\n",
              "      <td></td>\n",
              "      <td>0</td>\n",
              "      <td>1</td>\n",
              "      <td>2024</td>\n",
              "    </tr>\n",
              "    <tr>\n",
              "      <th>269</th>\n",
              "      <td>50651</td>\n",
              "      <td>Merge pull request #50592 from p8/guides/expan...</td>\n",
              "      <td>closed</td>\n",
              "      <td>2024-01-08 18:12:30+00:00</td>\n",
              "      <td>2024-01-08 18:12:52+00:00</td>\n",
              "      <td>p8</td>\n",
              "      <td>[docs]</td>\n",
              "      <td></td>\n",
              "      <td>0</td>\n",
              "      <td>1</td>\n",
              "      <td>2024</td>\n",
              "    </tr>\n",
              "    <tr>\n",
              "      <th>285</th>\n",
              "      <td>50635</td>\n",
              "      <td>Minor improvements to Connection Pool docs</td>\n",
              "      <td>closed</td>\n",
              "      <td>2024-01-08 00:00:11+00:00</td>\n",
              "      <td>2024-01-08 08:56:49+00:00</td>\n",
              "      <td>ghiculescu</td>\n",
              "      <td>[activerecord, docs]</td>\n",
              "      <td></td>\n",
              "      <td>0</td>\n",
              "      <td>1</td>\n",
              "      <td>2024</td>\n",
              "    </tr>\n",
              "    <tr>\n",
              "      <th>371</th>\n",
              "      <td>50549</td>\n",
              "      <td>Backport 1ea796d6a8</td>\n",
              "      <td>closed</td>\n",
              "      <td>2024-01-03 07:19:18+00:00</td>\n",
              "      <td>2024-01-03 07:20:21+00:00</td>\n",
              "      <td>p8</td>\n",
              "      <td>[actionmailer, actionpack, actioncable, action...</td>\n",
              "      <td></td>\n",
              "      <td>2</td>\n",
              "      <td>1</td>\n",
              "      <td>2024</td>\n",
              "    </tr>\n",
              "    <tr>\n",
              "      <th>422</th>\n",
              "      <td>50498</td>\n",
              "      <td>Document Cache::WriteOptions [ci-skip]</td>\n",
              "      <td>closed</td>\n",
              "      <td>2023-12-31 05:37:49+00:00</td>\n",
              "      <td>2023-12-31 05:45:26+00:00</td>\n",
              "      <td>skipkayhil</td>\n",
              "      <td>[activesupport]</td>\n",
              "      <td></td>\n",
              "      <td>6</td>\n",
              "      <td>12</td>\n",
              "      <td>2023</td>\n",
              "    </tr>\n",
              "    <tr>\n",
              "      <th>495</th>\n",
              "      <td>50420</td>\n",
              "      <td>Doc: Prevent `Attributes` to be a link [ci-ski...</td>\n",
              "      <td>closed</td>\n",
              "      <td>2023-12-21 15:52:43+00:00</td>\n",
              "      <td>2023-12-21 15:53:23+00:00</td>\n",
              "      <td>p8</td>\n",
              "      <td>[activerecord]</td>\n",
              "      <td></td>\n",
              "      <td>3</td>\n",
              "      <td>12</td>\n",
              "      <td>2023</td>\n",
              "    </tr>\n",
              "  </tbody>\n",
              "</table>\n",
              "</div>\n",
              "    <div class=\"colab-df-buttons\">\n",
              "\n",
              "  <div class=\"colab-df-container\">\n",
              "    <button class=\"colab-df-convert\" onclick=\"convertToInteractive('df-3ca3c2b7-163d-4950-99fa-b9eabca7e95f')\"\n",
              "            title=\"Convert this dataframe to an interactive table.\"\n",
              "            style=\"display:none;\">\n",
              "\n",
              "  <svg xmlns=\"http://www.w3.org/2000/svg\" height=\"24px\" viewBox=\"0 -960 960 960\">\n",
              "    <path d=\"M120-120v-720h720v720H120Zm60-500h600v-160H180v160Zm220 220h160v-160H400v160Zm0 220h160v-160H400v160ZM180-400h160v-160H180v160Zm440 0h160v-160H620v160ZM180-180h160v-160H180v160Zm440 0h160v-160H620v160Z\"/>\n",
              "  </svg>\n",
              "    </button>\n",
              "\n",
              "  <style>\n",
              "    .colab-df-container {\n",
              "      display:flex;\n",
              "      gap: 12px;\n",
              "    }\n",
              "\n",
              "    .colab-df-convert {\n",
              "      background-color: #E8F0FE;\n",
              "      border: none;\n",
              "      border-radius: 50%;\n",
              "      cursor: pointer;\n",
              "      display: none;\n",
              "      fill: #1967D2;\n",
              "      height: 32px;\n",
              "      padding: 0 0 0 0;\n",
              "      width: 32px;\n",
              "    }\n",
              "\n",
              "    .colab-df-convert:hover {\n",
              "      background-color: #E2EBFA;\n",
              "      box-shadow: 0px 1px 2px rgba(60, 64, 67, 0.3), 0px 1px 3px 1px rgba(60, 64, 67, 0.15);\n",
              "      fill: #174EA6;\n",
              "    }\n",
              "\n",
              "    .colab-df-buttons div {\n",
              "      margin-bottom: 4px;\n",
              "    }\n",
              "\n",
              "    [theme=dark] .colab-df-convert {\n",
              "      background-color: #3B4455;\n",
              "      fill: #D2E3FC;\n",
              "    }\n",
              "\n",
              "    [theme=dark] .colab-df-convert:hover {\n",
              "      background-color: #434B5C;\n",
              "      box-shadow: 0px 1px 3px 1px rgba(0, 0, 0, 0.15);\n",
              "      filter: drop-shadow(0px 1px 2px rgba(0, 0, 0, 0.3));\n",
              "      fill: #FFFFFF;\n",
              "    }\n",
              "  </style>\n",
              "\n",
              "    <script>\n",
              "      const buttonEl =\n",
              "        document.querySelector('#df-3ca3c2b7-163d-4950-99fa-b9eabca7e95f button.colab-df-convert');\n",
              "      buttonEl.style.display =\n",
              "        google.colab.kernel.accessAllowed ? 'block' : 'none';\n",
              "\n",
              "      async function convertToInteractive(key) {\n",
              "        const element = document.querySelector('#df-3ca3c2b7-163d-4950-99fa-b9eabca7e95f');\n",
              "        const dataTable =\n",
              "          await google.colab.kernel.invokeFunction('convertToInteractive',\n",
              "                                                    [key], {});\n",
              "        if (!dataTable) return;\n",
              "\n",
              "        const docLinkHtml = 'Like what you see? Visit the ' +\n",
              "          '<a target=\"_blank\" href=https://colab.research.google.com/notebooks/data_table.ipynb>data table notebook</a>'\n",
              "          + ' to learn more about interactive tables.';\n",
              "        element.innerHTML = '';\n",
              "        dataTable['output_type'] = 'display_data';\n",
              "        await google.colab.output.renderOutput(dataTable, element);\n",
              "        const docLink = document.createElement('div');\n",
              "        docLink.innerHTML = docLinkHtml;\n",
              "        element.appendChild(docLink);\n",
              "      }\n",
              "    </script>\n",
              "  </div>\n",
              "\n",
              "\n",
              "<div id=\"df-a51f8f43-2a36-44db-82b2-75db1f2eb9c7\">\n",
              "  <button class=\"colab-df-quickchart\" onclick=\"quickchart('df-a51f8f43-2a36-44db-82b2-75db1f2eb9c7')\"\n",
              "            title=\"Suggest charts\"\n",
              "            style=\"display:none;\">\n",
              "\n",
              "<svg xmlns=\"http://www.w3.org/2000/svg\" height=\"24px\"viewBox=\"0 0 24 24\"\n",
              "     width=\"24px\">\n",
              "    <g>\n",
              "        <path d=\"M19 3H5c-1.1 0-2 .9-2 2v14c0 1.1.9 2 2 2h14c1.1 0 2-.9 2-2V5c0-1.1-.9-2-2-2zM9 17H7v-7h2v7zm4 0h-2V7h2v10zm4 0h-2v-4h2v4z\"/>\n",
              "    </g>\n",
              "</svg>\n",
              "  </button>\n",
              "\n",
              "<style>\n",
              "  .colab-df-quickchart {\n",
              "      --bg-color: #E8F0FE;\n",
              "      --fill-color: #1967D2;\n",
              "      --hover-bg-color: #E2EBFA;\n",
              "      --hover-fill-color: #174EA6;\n",
              "      --disabled-fill-color: #AAA;\n",
              "      --disabled-bg-color: #DDD;\n",
              "  }\n",
              "\n",
              "  [theme=dark] .colab-df-quickchart {\n",
              "      --bg-color: #3B4455;\n",
              "      --fill-color: #D2E3FC;\n",
              "      --hover-bg-color: #434B5C;\n",
              "      --hover-fill-color: #FFFFFF;\n",
              "      --disabled-bg-color: #3B4455;\n",
              "      --disabled-fill-color: #666;\n",
              "  }\n",
              "\n",
              "  .colab-df-quickchart {\n",
              "    background-color: var(--bg-color);\n",
              "    border: none;\n",
              "    border-radius: 50%;\n",
              "    cursor: pointer;\n",
              "    display: none;\n",
              "    fill: var(--fill-color);\n",
              "    height: 32px;\n",
              "    padding: 0;\n",
              "    width: 32px;\n",
              "  }\n",
              "\n",
              "  .colab-df-quickchart:hover {\n",
              "    background-color: var(--hover-bg-color);\n",
              "    box-shadow: 0 1px 2px rgba(60, 64, 67, 0.3), 0 1px 3px 1px rgba(60, 64, 67, 0.15);\n",
              "    fill: var(--button-hover-fill-color);\n",
              "  }\n",
              "\n",
              "  .colab-df-quickchart-complete:disabled,\n",
              "  .colab-df-quickchart-complete:disabled:hover {\n",
              "    background-color: var(--disabled-bg-color);\n",
              "    fill: var(--disabled-fill-color);\n",
              "    box-shadow: none;\n",
              "  }\n",
              "\n",
              "  .colab-df-spinner {\n",
              "    border: 2px solid var(--fill-color);\n",
              "    border-color: transparent;\n",
              "    border-bottom-color: var(--fill-color);\n",
              "    animation:\n",
              "      spin 1s steps(1) infinite;\n",
              "  }\n",
              "\n",
              "  @keyframes spin {\n",
              "    0% {\n",
              "      border-color: transparent;\n",
              "      border-bottom-color: var(--fill-color);\n",
              "      border-left-color: var(--fill-color);\n",
              "    }\n",
              "    20% {\n",
              "      border-color: transparent;\n",
              "      border-left-color: var(--fill-color);\n",
              "      border-top-color: var(--fill-color);\n",
              "    }\n",
              "    30% {\n",
              "      border-color: transparent;\n",
              "      border-left-color: var(--fill-color);\n",
              "      border-top-color: var(--fill-color);\n",
              "      border-right-color: var(--fill-color);\n",
              "    }\n",
              "    40% {\n",
              "      border-color: transparent;\n",
              "      border-right-color: var(--fill-color);\n",
              "      border-top-color: var(--fill-color);\n",
              "    }\n",
              "    60% {\n",
              "      border-color: transparent;\n",
              "      border-right-color: var(--fill-color);\n",
              "    }\n",
              "    80% {\n",
              "      border-color: transparent;\n",
              "      border-right-color: var(--fill-color);\n",
              "      border-bottom-color: var(--fill-color);\n",
              "    }\n",
              "    90% {\n",
              "      border-color: transparent;\n",
              "      border-bottom-color: var(--fill-color);\n",
              "    }\n",
              "  }\n",
              "</style>\n",
              "\n",
              "  <script>\n",
              "    async function quickchart(key) {\n",
              "      const quickchartButtonEl =\n",
              "        document.querySelector('#' + key + ' button');\n",
              "      quickchartButtonEl.disabled = true;  // To prevent multiple clicks.\n",
              "      quickchartButtonEl.classList.add('colab-df-spinner');\n",
              "      try {\n",
              "        const charts = await google.colab.kernel.invokeFunction(\n",
              "            'suggestCharts', [key], {});\n",
              "      } catch (error) {\n",
              "        console.error('Error during call to suggestCharts:', error);\n",
              "      }\n",
              "      quickchartButtonEl.classList.remove('colab-df-spinner');\n",
              "      quickchartButtonEl.classList.add('colab-df-quickchart-complete');\n",
              "    }\n",
              "    (() => {\n",
              "      let quickchartButtonEl =\n",
              "        document.querySelector('#df-a51f8f43-2a36-44db-82b2-75db1f2eb9c7 button');\n",
              "      quickchartButtonEl.style.display =\n",
              "        google.colab.kernel.accessAllowed ? 'block' : 'none';\n",
              "    })();\n",
              "  </script>\n",
              "</div>\n",
              "    </div>\n",
              "  </div>\n"
            ]
          },
          "metadata": {},
          "execution_count": 69
        }
      ]
    },
    {
      "cell_type": "markdown",
      "source": [
        "### Deeper Exploratory Analysis"
      ],
      "metadata": {
        "id": "-STZl9uS5Z1G"
      }
    },
    {
      "cell_type": "code",
      "source": [
        "# Closing rate of no-label issues\n",
        "total_no_label_issues = processed_df[processed_df['labels'].apply(len) == 0].shape[0]\n",
        "closed_no_label_issues = processed_df[(processed_df['labels'].apply(len) == 0) & (processed_df['state'] == 'closed')].shape[0]\n",
        "\n",
        "closing_rate_no_label = closed_no_label_issues / total_no_label_issues if total_no_label_issues > 0 else 0\n",
        "\n",
        "print(f\"Closing rate of issues with no labels: {closing_rate_no_label:.2%}\")"
      ],
      "metadata": {
        "colab": {
          "base_uri": "https://localhost:8080/"
        },
        "id": "dp8uweIeP5M4",
        "outputId": "9492a245-1e2c-4bab-c6a4-830bae217ff1"
      },
      "execution_count": 122,
      "outputs": [
        {
          "output_type": "stream",
          "name": "stdout",
          "text": [
            "Closing rate of issues with no labels: 81.61%\n"
          ]
        }
      ]
    },
    {
      "cell_type": "code",
      "source": [
        "# Closing rate of single-label issues\n",
        "total_single_label_issues = processed_df[processed_df['labels'].apply(len) == 1].shape[0]\n",
        "closed_single_label_issues = processed_df[(processed_df['labels'].apply(len) == 1) & (processed_df['state'] == 'closed')].shape[0]\n",
        "\n",
        "closing_rate_single_label = closed_single_label_issues / total_single_label_issues if total_single_label_issues > 0 else 0\n",
        "\n",
        "print(f\"Closing rate of issues with single labels: {closing_rate_single_label:.2%}\")"
      ],
      "metadata": {
        "colab": {
          "base_uri": "https://localhost:8080/"
        },
        "id": "SGHR1dVWQX3M",
        "outputId": "b198930a-ddf1-435b-ef89-0abb60ceabbf"
      },
      "execution_count": 123,
      "outputs": [
        {
          "output_type": "stream",
          "name": "stdout",
          "text": [
            "Closing rate of issues with single labels: 73.72%\n"
          ]
        }
      ]
    },
    {
      "cell_type": "code",
      "source": [
        "# Closing rate of multi-labels issues\n",
        "total_multi_labels_issues = processed_df[processed_df['labels'].apply(len) > 1].shape[0]\n",
        "closed_multi_labels_issues = processed_df[(processed_df['labels'].apply(len) > 1) & (processed_df['state'] == 'closed')].shape[0]\n",
        "\n",
        "closing_rate_multi_labels = closed_multi_labels_issues / total_multi_labels_issues if total_multi_labels_issues > 0 else 0\n",
        "\n",
        "print(f\"Closing rate of issues with multi-labels: {closing_rate_multi_labels:.2%}\")"
      ],
      "metadata": {
        "colab": {
          "base_uri": "https://localhost:8080/"
        },
        "id": "atTGCHnbRbgq",
        "outputId": "d38cc560-9b48-40a6-9b73-61cd9d05c0eb"
      },
      "execution_count": 125,
      "outputs": [
        {
          "output_type": "stream",
          "name": "stdout",
          "text": [
            "Closing rate of issues with multi-labels: 74.26%\n"
          ]
        }
      ]
    },
    {
      "cell_type": "code",
      "source": [
        "max_labels_length = 13\n",
        "\n",
        "# Calculate the number of issues for each length of labels, including zero counts\n",
        "labels_length_counts = processed_df['labels'].apply(len).value_counts().reindex(range(0, max_labels_length + 1), fill_value=0)\n",
        "\n",
        "# Plotting\n",
        "plt.bar(labels_length_counts.index, labels_length_counts.values, color='red')\n",
        "plt.xlabel('Number of Labels')\n",
        "plt.ylabel('Number of Issues')\n",
        "plt.title('Number of Issues by Length of Labels')\n",
        "plt.xticks(range(0, max_labels_length + 1))  # Set x-axis ticks for each possible length of labels\n",
        "\n",
        "# Show the number on top of each bar\n",
        "for i, value in enumerate(labels_length_counts.values):\n",
        "    plt.text(i , value + 0.1, str(value), ha='center', va='bottom', fontsize=8)\n",
        "\n",
        "plt.show()"
      ],
      "metadata": {
        "colab": {
          "base_uri": "https://localhost:8080/",
          "height": 472
        },
        "id": "08fQVC6uSJ15",
        "outputId": "c1b0c87f-3171-4825-f4ae-46191ad3aecf"
      },
      "execution_count": 142,
      "outputs": [
        {
          "output_type": "display_data",
          "data": {
            "text/plain": [
              "<Figure size 640x480 with 1 Axes>"
            ],
            "image/png": "[encoded data removed]"
          },
          "metadata": {}
        }
      ]
    },
    {
      "cell_type": "code",
      "source": [
        "label_counts = processed_df['labels'].explode().value_counts()\n",
        "\n",
        "# Plotting a horizontal bar plot with numbers next to each bar\n",
        "plt.figure(figsize=(10, 6))\n",
        "ax = label_counts.sort_values().plot(kind='barh', color='red')\n",
        "plt.xlabel('Number of Issues')\n",
        "plt.ylabel('Label')\n",
        "plt.title('Label Frequencies')\n",
        "\n",
        "# Add numbers next to each bar\n",
        "for i, value in enumerate(label_counts.sort_values()):\n",
        "    ax.text(value + 0.1, i, str(value), ha='left', va='center', fontsize=8)\n",
        "\n",
        "plt.show()"
      ],
      "metadata": {
        "colab": {
          "base_uri": "https://localhost:8080/",
          "height": 531
        },
        "id": "_kHJC_xHi1j4",
        "outputId": "8e1b0ceb-48a5-4298-b1de-bccc2e09ec37"
      },
      "execution_count": 146,
      "outputs": [
        {
          "output_type": "display_data",
          "data": {
            "text/plain": [
              "<Figure size 1000x600 with 1 Axes>"
            ],
            "image/png": "[encoded data removed]"
          },
          "metadata": {}
        }
      ]
    },
    {
      "cell_type": "code",
      "source": [
        "import plotly.express as px\n",
        "\n",
        "# Assuming label_counts is a Series with label frequencies\n",
        "label_counts = processed_df['labels'].explode().value_counts()\n",
        "\n",
        "# Create a DataFrame from the label counts\n",
        "df = pd.DataFrame({'Label': label_counts.index, 'Frequency': label_counts.values})\n",
        "\n",
        "# Create and display the treemap\n",
        "fig = px.treemap(df, path=['Label'], values='Frequency', title='Label Frequencies Treemap')\n",
        "fig.show()"
      ],
      "metadata": {
        "colab": {
          "base_uri": "https://localhost:8080/",
          "height": 542
        },
        "id": "vwvwQOCVleIC",
        "outputId": "96b0d0c4-65f7-4ff6-8823-ccf3bbb3d323"
      },
      "execution_count": 157,
      "outputs": [
        {
          "output_type": "display_data",
          "data": {
            "text/html": [
              "<html>\n",
              "<head><meta charset=\"utf-8\" /></head>\n",
              "<body>\n",
              "    <div>            <script src=\"https://cdnjs.cloudflare.com/ajax/libs/mathjax/2.7.5/MathJax.js?config=TeX-AMS-MML_SVG\"></script><script type=\"text/javascript\">if (window.MathJax && window.MathJax.Hub && window.MathJax.Hub.Config) {window.MathJax.Hub.Config({SVG: {font: \"STIX-Web\"}});}</script>                <script type=\"text/javascript\">window.PlotlyConfig = {MathJaxConfig: 'local'};</script>\n",
              "        <script charset=\"utf-8\" src=\"https://cdn.plot.ly/plotly-2.24.1.min.js\"></script>                <div id=\"cd284fee-2dc2-46f4-b17f-91a45d582a7a\" class=\"plotly-graph-div\" style=\"height:525px; width:100%;\"></div>            <script type=\"text/javascript\">                                    window.PLOTLYENV=window.PLOTLYENV || {};                                    if (document.getElementById(\"cd284fee-2dc2-46f4-b17f-91a45d582a7a\")) {                    Plotly.newPlot(                        \"cd284fee-2dc2-46f4-b17f-91a45d582a7a\",                        [{\"branchvalues\":\"total\",\"domain\":{\"x\":[0.0,1.0],\"y\":[0.0,1.0]},\"hovertemplate\":\"labels=%{label}\\u003cbr\\u003eFrequency=%{value}\\u003cbr\\u003eparent=%{parent}\\u003cbr\\u003eid=%{id}\\u003cextra\\u003e\\u003c\\u002fextra\\u003e\",\"ids\":[\"With reproduction steps\",\"actioncable\",\"actionmailbox\",\"actionmailer\",\"actionpack\",\"actiontext\",\"actionview\",\"activejob\",\"activemodel\",\"activerecord\",\"activestorage\",\"activesupport\",\"attached PR\",\"ci issues\",\"docs\",\"good first issue\",\"more-information-needed\",\"needs backport\",\"railties\",\"regression\"],\"labels\":[\"With reproduction steps\",\"actioncable\",\"actionmailbox\",\"actionmailer\",\"actionpack\",\"actiontext\",\"actionview\",\"activejob\",\"activemodel\",\"activerecord\",\"activestorage\",\"activesupport\",\"attached PR\",\"ci issues\",\"docs\",\"good first issue\",\"more-information-needed\",\"needs backport\",\"railties\",\"regression\"],\"name\":\"\",\"parents\":[\"\",\"\",\"\",\"\",\"\",\"\",\"\",\"\",\"\",\"\",\"\",\"\",\"\",\"\",\"\",\"\",\"\",\"\",\"\",\"\"],\"values\":[8,8,11,11,42,18,42,13,15,126,33,55,13,4,73,1,3,3,115,1],\"type\":\"treemap\"}],                        {\"template\":{\"data\":{\"histogram2dcontour\":[{\"type\":\"histogram2dcontour\",\"colorbar\":{\"outlinewidth\":0,\"ticks\":\"\"},\"colorscale\":[[0.0,\"#0d0887\"],[0.1111111111111111,\"#46039f\"],[0.2222222222222222,\"#7201a8\"],[0.3333333333333333,\"#9c179e\"],[0.4444444444444444,\"#bd3786\"],[0.5555555555555556,\"#d8576b\"],[0.6666666666666666,\"#ed7953\"],[0.7777777777777778,\"#fb9f3a\"],[0.8888888888888888,\"#fdca26\"],[1.0,\"#f0f921\"]]}],\"choropleth\":[{\"type\":\"choropleth\",\"colorbar\":{\"outlinewidth\":0,\"ticks\":\"\"}}],\"histogram2d\":[{\"type\":\"histogram2d\",\"colorbar\":{\"outlinewidth\":0,\"ticks\":\"\"},\"colorscale\":[[0.0,\"#0d0887\"],[0.1111111111111111,\"#46039f\"],[0.2222222222222222,\"#7201a8\"],[0.3333333333333333,\"#9c179e\"],[0.4444444444444444,\"#bd3786\"],[0.5555555555555556,\"#d8576b\"],[0.6666666666666666,\"#ed7953\"],[0.7777777777777778,\"#fb9f3a\"],[0.8888888888888888,\"#fdca26\"],[1.0,\"#f0f921\"]]}],\"heatmap\":[{\"type\":\"heatmap\",\"colorbar\":{\"outlinewidth\":0,\"ticks\":\"\"},\"colorscale\":[[0.0,\"#0d0887\"],[0.1111111111111111,\"#46039f\"],[0.2222222222222222,\"#7201a8\"],[0.3333333333333333,\"#9c179e\"],[0.4444444444444444,\"#bd3786\"],[0.5555555555555556,\"#d8576b\"],[0.6666666666666666,\"#ed7953\"],[0.7777777777777778,\"#fb9f3a\"],[0.8888888888888888,\"#fdca26\"],[1.0,\"#f0f921\"]]}],\"heatmapgl\":[{\"type\":\"heatmapgl\",\"colorbar\":{\"outlinewidth\":0,\"ticks\":\"\"},\"colorscale\":[[0.0,\"#0d0887\"],[0.1111111111111111,\"#46039f\"],[0.2222222222222222,\"#7201a8\"],[0.3333333333333333,\"#9c179e\"],[0.4444444444444444,\"#bd3786\"],[0.5555555555555556,\"#d8576b\"],[0.6666666666666666,\"#ed7953\"],[0.7777777777777778,\"#fb9f3a\"],[0.8888888888888888,\"#fdca26\"],[1.0,\"#f0f921\"]]}],\"contourcarpet\":[{\"type\":\"contourcarpet\",\"colorbar\":{\"outlinewidth\":0,\"ticks\":\"\"}}],\"contour\":[{\"type\":\"contour\",\"colorbar\":{\"outlinewidth\":0,\"ticks\":\"\"},\"colorscale\":[[0.0,\"#0d0887\"],[0.1111111111111111,\"#46039f\"],[0.2222222222222222,\"#7201a8\"],[0.3333333333333333,\"#9c179e\"],[0.4444444444444444,\"#bd3786\"],[0.5555555555555556,\"#d8576b\"],[0.6666666666666666,\"#ed7953\"],[0.7777777777777778,\"#fb9f3a\"],[0.8888888888888888,\"#fdca26\"],[1.0,\"#f0f921\"]]}],\"surface\":[{\"type\":\"surface\",\"colorbar\":{\"outlinewidth\":0,\"ticks\":\"\"},\"colorscale\":[[0.0,\"#0d0887\"],[0.1111111111111111,\"#46039f\"],[0.2222222222222222,\"#7201a8\"],[0.3333333333333333,\"#9c179e\"],[0.4444444444444444,\"#bd3786\"],[0.5555555555555556,\"#d8576b\"],[0.6666666666666666,\"#ed7953\"],[0.7777777777777778,\"#fb9f3a\"],[0.8888888888888888,\"#fdca26\"],[1.0,\"#f0f921\"]]}],\"mesh3d\":[{\"type\":\"mesh3d\",\"colorbar\":{\"outlinewidth\":0,\"ticks\":\"\"}}],\"scatter\":[{\"fillpattern\":{\"fillmode\":\"overlay\",\"size\":10,\"solidity\":0.2},\"type\":\"scatter\"}],\"parcoords\":[{\"type\":\"parcoords\",\"line\":{\"colorbar\":{\"outlinewidth\":0,\"ticks\":\"\"}}}],\"scatterpolargl\":[{\"type\":\"scatterpolargl\",\"marker\":{\"colorbar\":{\"outlinewidth\":0,\"ticks\":\"\"}}}],\"bar\":[{\"error_x\":{\"color\":\"#2a3f5f\"},\"error_y\":{\"color\":\"#2a3f5f\"},\"marker\":{\"line\":{\"color\":\"#E5ECF6\",\"width\":0.5},\"pattern\":{\"fillmode\":\"overlay\",\"size\":10,\"solidity\":0.2}},\"type\":\"bar\"}],\"scattergeo\":[{\"type\":\"scattergeo\",\"marker\":{\"colorbar\":{\"outlinewidth\":0,\"ticks\":\"\"}}}],\"scatterpolar\":[{\"type\":\"scatterpolar\",\"marker\":{\"colorbar\":{\"outlinewidth\":0,\"ticks\":\"\"}}}],\"histogram\":[{\"marker\":{\"pattern\":{\"fillmode\":\"overlay\",\"size\":10,\"solidity\":0.2}},\"type\":\"histogram\"}],\"scattergl\":[{\"type\":\"scattergl\",\"marker\":{\"colorbar\":{\"outlinewidth\":0,\"ticks\":\"\"}}}],\"scatter3d\":[{\"type\":\"scatter3d\",\"line\":{\"colorbar\":{\"outlinewidth\":0,\"ticks\":\"\"}},\"marker\":{\"colorbar\":{\"outlinewidth\":0,\"ticks\":\"\"}}}],\"scattermapbox\":[{\"type\":\"scattermapbox\",\"marker\":{\"colorbar\":{\"outlinewidth\":0,\"ticks\":\"\"}}}],\"scatterternary\":[{\"type\":\"scatterternary\",\"marker\":{\"colorbar\":{\"outlinewidth\":0,\"ticks\":\"\"}}}],\"scattercarpet\":[{\"type\":\"scattercarpet\",\"marker\":{\"colorbar\":{\"outlinewidth\":0,\"ticks\":\"\"}}}],\"carpet\":[{\"aaxis\":{\"endlinecolor\":\"#2a3f5f\",\"gridcolor\":\"white\",\"linecolor\":\"white\",\"minorgridcolor\":\"white\",\"startlinecolor\":\"#2a3f5f\"},\"baxis\":{\"endlinecolor\":\"#2a3f5f\",\"gridcolor\":\"white\",\"linecolor\":\"white\",\"minorgridcolor\":\"white\",\"startlinecolor\":\"#2a3f5f\"},\"type\":\"carpet\"}],\"table\":[{\"cells\":{\"fill\":{\"color\":\"#EBF0F8\"},\"line\":{\"color\":\"white\"}},\"header\":{\"fill\":{\"color\":\"#C8D4E3\"},\"line\":{\"color\":\"white\"}},\"type\":\"table\"}],\"barpolar\":[{\"marker\":{\"line\":{\"color\":\"#E5ECF6\",\"width\":0.5},\"pattern\":{\"fillmode\":\"overlay\",\"size\":10,\"solidity\":0.2}},\"type\":\"barpolar\"}],\"pie\":[{\"automargin\":true,\"type\":\"pie\"}]},\"layout\":{\"autotypenumbers\":\"strict\",\"colorway\":[\"#636efa\",\"#EF553B\",\"#00cc96\",\"#ab63fa\",\"#FFA15A\",\"#19d3f3\",\"#FF6692\",\"#B6E880\",\"#FF97FF\",\"#FECB52\"],\"font\":{\"color\":\"#2a3f5f\"},\"hovermode\":\"closest\",\"hoverlabel\":{\"align\":\"left\"},\"paper_bgcolor\":\"white\",\"plot_bgcolor\":\"#E5ECF6\",\"polar\":{\"bgcolor\":\"#E5ECF6\",\"angularaxis\":{\"gridcolor\":\"white\",\"linecolor\":\"white\",\"ticks\":\"\"},\"radialaxis\":{\"gridcolor\":\"white\",\"linecolor\":\"white\",\"ticks\":\"\"}},\"ternary\":{\"bgcolor\":\"#E5ECF6\",\"aaxis\":{\"gridcolor\":\"white\",\"linecolor\":\"white\",\"ticks\":\"\"},\"baxis\":{\"gridcolor\":\"white\",\"linecolor\":\"white\",\"ticks\":\"\"},\"caxis\":{\"gridcolor\":\"white\",\"linecolor\":\"white\",\"ticks\":\"\"}},\"coloraxis\":{\"colorbar\":{\"outlinewidth\":0,\"ticks\":\"\"}},\"colorscale\":{\"sequential\":[[0.0,\"#0d0887\"],[0.1111111111111111,\"#46039f\"],[0.2222222222222222,\"#7201a8\"],[0.3333333333333333,\"#9c179e\"],[0.4444444444444444,\"#bd3786\"],[0.5555555555555556,\"#d8576b\"],[0.6666666666666666,\"#ed7953\"],[0.7777777777777778,\"#fb9f3a\"],[0.8888888888888888,\"#fdca26\"],[1.0,\"#f0f921\"]],\"sequentialminus\":[[0.0,\"#0d0887\"],[0.1111111111111111,\"#46039f\"],[0.2222222222222222,\"#7201a8\"],[0.3333333333333333,\"#9c179e\"],[0.4444444444444444,\"#bd3786\"],[0.5555555555555556,\"#d8576b\"],[0.6666666666666666,\"#ed7953\"],[0.7777777777777778,\"#fb9f3a\"],[0.8888888888888888,\"#fdca26\"],[1.0,\"#f0f921\"]],\"diverging\":[[0,\"#8e0152\"],[0.1,\"#c51b7d\"],[0.2,\"#de77ae\"],[0.3,\"#f1b6da\"],[0.4,\"#fde0ef\"],[0.5,\"#f7f7f7\"],[0.6,\"#e6f5d0\"],[0.7,\"#b8e186\"],[0.8,\"#7fbc41\"],[0.9,\"#4d9221\"],[1,\"#276419\"]]},\"xaxis\":{\"gridcolor\":\"white\",\"linecolor\":\"white\",\"ticks\":\"\",\"title\":{\"standoff\":15},\"zerolinecolor\":\"white\",\"automargin\":true,\"zerolinewidth\":2},\"yaxis\":{\"gridcolor\":\"white\",\"linecolor\":\"white\",\"ticks\":\"\",\"title\":{\"standoff\":15},\"zerolinecolor\":\"white\",\"automargin\":true,\"zerolinewidth\":2},\"scene\":{\"xaxis\":{\"backgroundcolor\":\"#E5ECF6\",\"gridcolor\":\"white\",\"linecolor\":\"white\",\"showbackground\":true,\"ticks\":\"\",\"zerolinecolor\":\"white\",\"gridwidth\":2},\"yaxis\":{\"backgroundcolor\":\"#E5ECF6\",\"gridcolor\":\"white\",\"linecolor\":\"white\",\"showbackground\":true,\"ticks\":\"\",\"zerolinecolor\":\"white\",\"gridwidth\":2},\"zaxis\":{\"backgroundcolor\":\"#E5ECF6\",\"gridcolor\":\"white\",\"linecolor\":\"white\",\"showbackground\":true,\"ticks\":\"\",\"zerolinecolor\":\"white\",\"gridwidth\":2}},\"shapedefaults\":{\"line\":{\"color\":\"#2a3f5f\"}},\"annotationdefaults\":{\"arrowcolor\":\"#2a3f5f\",\"arrowhead\":0,\"arrowwidth\":1},\"geo\":{\"bgcolor\":\"white\",\"landcolor\":\"#E5ECF6\",\"subunitcolor\":\"white\",\"showland\":true,\"showlakes\":true,\"lakecolor\":\"white\"},\"title\":{\"x\":0.05},\"mapbox\":{\"style\":\"light\"}}},\"legend\":{\"tracegroupgap\":0},\"title\":{\"text\":\"Label Frequencies Treemap\"}},                        {\"responsive\": true}                    ).then(function(){\n",
              "                            \n",
              "var gd = document.getElementById('cd284fee-2dc2-46f4-b17f-91a45d582a7a');\n",
              "var x = new MutationObserver(function (mutations, observer) {{\n",
              "        var display = window.getComputedStyle(gd).display;\n",
              "        if (!display || display === 'none') {{\n",
              "            console.log([gd, 'removed!']);\n",
              "            Plotly.purge(gd);\n",
              "            observer.disconnect();\n",
              "        }}\n",
              "}});\n",
              "\n",
              "// Listen for the removal of the full notebook cells\n",
              "var notebookContainer = gd.closest('#notebook-container');\n",
              "if (notebookContainer) {{\n",
              "    x.observe(notebookContainer, {childList: true});\n",
              "}}\n",
              "\n",
              "// Listen for the clearing of the current output cell\n",
              "var outputEl = gd.closest('.output');\n",
              "if (outputEl) {{\n",
              "    x.observe(outputEl, {childList: true});\n",
              "}}\n",
              "\n",
              "                        })                };                            </script>        </div>\n",
              "</body>\n",
              "</html>"
            ]
          },
          "metadata": {}
        }
      ]
    },
    {
      "cell_type": "code",
      "source": [
        "single_label_rows = processed_df[processed_df['labels'].apply(len) == 1]\n",
        "\n",
        "# Extract unique labels from the selected rows\n",
        "unique_single_labels = set(single_label_rows['labels'].explode())\n",
        "\n",
        "# Display the list of unique labels used only once\n",
        "print(\"Unique Labels used in single-lable issues:\", list(unique_single_labels))"
      ],
      "metadata": {
        "colab": {
          "base_uri": "https://localhost:8080/"
        },
        "id": "TzRj5LbwKN-l",
        "outputId": "40b8e3df-54f6-49ce-b98f-9d9234c53c79"
      },
      "execution_count": 161,
      "outputs": [
        {
          "output_type": "stream",
          "name": "stdout",
          "text": [
            "Unique Labels used only once: ['activesupport', 'actiontext', 'docs', 'actionmailbox', 'actionmailer', 'attached PR', 'activerecord', 'actioncable', 'actionpack', 'railties', 'activemodel', 'activejob', 'activestorage', 'more-information-needed', 'actionview']\n"
          ]
        }
      ]
    },
    {
      "cell_type": "code",
      "source": [
        "len(unique_single_labels)"
      ],
      "metadata": {
        "colab": {
          "base_uri": "https://localhost:8080/"
        },
        "id": "8iiJcyvoKt4T",
        "outputId": "11bb158b-3597-47c9-d8b8-d4373449e37a"
      },
      "execution_count": 162,
      "outputs": [
        {
          "output_type": "execute_result",
          "data": {
            "text/plain": [
              "15"
            ]
          },
          "metadata": {},
          "execution_count": 162
        }
      ]
    },
    {
      "cell_type": "code",
      "source": [
        "list(unique_single_labels)\n"
      ],
      "metadata": {
        "colab": {
          "base_uri": "https://localhost:8080/"
        },
        "id": "0PeBKT0RLl8J",
        "outputId": "d4d74268-6020-4447-84e2-f8206854eead"
      },
      "execution_count": 166,
      "outputs": [
        {
          "output_type": "execute_result",
          "data": {
            "text/plain": [
              "['activesupport',\n",
              " 'actiontext',\n",
              " 'docs',\n",
              " 'actionmailbox',\n",
              " 'actionmailer',\n",
              " 'attached PR',\n",
              " 'activerecord',\n",
              " 'actioncable',\n",
              " 'actionpack',\n",
              " 'railties',\n",
              " 'activemodel',\n",
              " 'activejob',\n",
              " 'activestorage',\n",
              " 'more-information-needed',\n",
              " 'actionview']"
            ]
          },
          "metadata": {},
          "execution_count": 166
        }
      ]
    },
    {
      "cell_type": "code",
      "source": [
        "unique_labels = pd.unique(processed_df['labels'].explode().dropna())\n",
        "\n",
        "multiple_labels = [element for element in unique_labels if element not in unique_single_labels]\n",
        "len(multiple_labels)"
      ],
      "metadata": {
        "colab": {
          "base_uri": "https://localhost:8080/"
        },
        "id": "ZtoQ9cJELQ5o",
        "outputId": "fdb9e5a6-5630-4fc3-f2f1-bd914d4066fb"
      },
      "execution_count": 168,
      "outputs": [
        {
          "output_type": "execute_result",
          "data": {
            "text/plain": [
              "5"
            ]
          },
          "metadata": {},
          "execution_count": 168
        }
      ]
    },
    {
      "cell_type": "code",
      "source": [
        "multiple_labels"
      ],
      "metadata": {
        "colab": {
          "base_uri": "https://localhost:8080/"
        },
        "id": "PHwerJCZL9Zo",
        "outputId": "16737c13-06a1-4435-a1b0-20dd0a4cdaf3"
      },
      "execution_count": 169,
      "outputs": [
        {
          "output_type": "execute_result",
          "data": {
            "text/plain": [
              "['ci issues',\n",
              " 'With reproduction steps',\n",
              " 'needs backport',\n",
              " 'regression',\n",
              " 'good first issue']"
            ]
          },
          "metadata": {},
          "execution_count": 169
        }
      ]
    },
    {
      "cell_type": "markdown",
      "source": [
        "### Label co-occurence Analysis"
      ],
      "metadata": {
        "id": "AAi711ugTxGg"
      }
    },
    {
      "cell_type": "code",
      "source": [
        "from itertools import combinations\n",
        "\n",
        "# Filter rows with more than one label (excluding rows with one or no labels)\n",
        "multi_label_rows = processed_df[processed_df['labels'].apply(lambda x: len(x) > 1)]\n",
        "\n",
        "# Create a new DataFrame to store the results\n",
        "label_cooccurrence_counts = pd.DataFrame(index=unique_labels, columns=unique_labels).fillna(0)\n",
        "\n",
        "# Iterate through rows and update co-occurrence counts\n",
        "for labels_row in multi_label_rows['labels']:\n",
        "    label_combinations = combinations(labels_row, 2)  # Get all unique pairs of labels\n",
        "    for label1, label2 in label_combinations:\n",
        "        if label1 in unique_labels and label2 in unique_labels:\n",
        "            label_cooccurrence_counts.at[label1, label2] += 1\n",
        "            label_cooccurrence_counts.at[label2, label1] += 1  # Include both directions\n",
        "\n",
        "# Display the resulting DataFrame\n",
        "print(\"Label Co-occurrence Counts in Multi-Label Issues:\")\n",
        "print(label_cooccurrence_counts)"
      ],
      "metadata": {
        "colab": {
          "base_uri": "https://localhost:8080/"
        },
        "id": "R6mZlgRuT0pz",
        "outputId": "2f19da67-e47f-4d64-f4bd-49999deb1671"
      },
      "execution_count": 31,
      "outputs": [
        {
          "output_type": "stream",
          "name": "stdout",
          "text": [
            "Label Co-occurrence Counts in Multi-Label Issues:\n",
            "                         activestorage  ci issues  activesupport  \\\n",
            "activestorage                        0          1              5   \n",
            "ci issues                            1          0              0   \n",
            "activesupport                        5          0              0   \n",
            "activerecord                         6          2             11   \n",
            "railties                             9          0             11   \n",
            "actionmailer                         4          0              7   \n",
            "actionpack                           4          0             11   \n",
            "actionmailbox                        6          0              4   \n",
            "actiontext                           7          0              4   \n",
            "docs                                 2          0              2   \n",
            "attached PR                          3          0              0   \n",
            "actionview                           5          1             11   \n",
            "activemodel                          5          0              9   \n",
            "activejob                            5          0              7   \n",
            "actioncable                          4          0              5   \n",
            "With reproduction steps              1          0              1   \n",
            "more-information-needed              1          0              0   \n",
            "needs backport                       0          0              0   \n",
            "regression                           0          0              0   \n",
            "good first issue                     0          0              0   \n",
            "\n",
            "                         activerecord  railties  actionmailer  actionpack  \\\n",
            "activestorage                       6         9             4           4   \n",
            "ci issues                           2         0             0           0   \n",
            "activesupport                      11        11             7          11   \n",
            "activerecord                        0        15             7           8   \n",
            "railties                           15         0             7          12   \n",
            "actionmailer                        7         7             0           6   \n",
            "actionpack                          8        12             6           0   \n",
            "actionmailbox                       5         6             6           3   \n",
            "actiontext                          4         9             4           3   \n",
            "docs                                9         7             1           6   \n",
            "attached PR                         5         2             0           1   \n",
            "actionview                         10         9             6          10   \n",
            "activemodel                        11         7             6           5   \n",
            "activejob                           7         6             5           4   \n",
            "actioncable                         5         4             5           3   \n",
            "With reproduction steps             5         1             0           0   \n",
            "more-information-needed             0         0             0           0   \n",
            "needs backport                      2         0             0           1   \n",
            "regression                          0         0             0           1   \n",
            "good first issue                    0         1             0           0   \n",
            "\n",
            "                         actionmailbox  actiontext  docs  attached PR  \\\n",
            "activestorage                        6           7     2            3   \n",
            "ci issues                            0           0     0            0   \n",
            "activesupport                        4           4     2            0   \n",
            "activerecord                         5           4     9            5   \n",
            "railties                             6           9     7            2   \n",
            "actionmailer                         6           4     1            0   \n",
            "actionpack                           3           3     6            1   \n",
            "actionmailbox                        0           6     1            0   \n",
            "actiontext                           6           0     3            0   \n",
            "docs                                 1           3     0            0   \n",
            "attached PR                          0           0     0            0   \n",
            "actionview                           4           5     5            1   \n",
            "activemodel                          4           4     1            0   \n",
            "activejob                            4           4     1            0   \n",
            "actioncable                          5           4     1            0   \n",
            "With reproduction steps              0           0     0            3   \n",
            "more-information-needed              0           0     0            0   \n",
            "needs backport                       0           0     0            0   \n",
            "regression                           0           0     0            1   \n",
            "good first issue                     0           0     0            1   \n",
            "\n",
            "                         actionview  activemodel  activejob  actioncable  \\\n",
            "activestorage                     5            5          5            4   \n",
            "ci issues                         1            0          0            0   \n",
            "activesupport                    11            9          7            5   \n",
            "activerecord                     10           11          7            5   \n",
            "railties                          9            7          6            4   \n",
            "actionmailer                      6            6          5            5   \n",
            "actionpack                       10            5          4            3   \n",
            "actionmailbox                     4            4          4            5   \n",
            "actiontext                        5            4          4            4   \n",
            "docs                              5            1          1            1   \n",
            "attached PR                       1            0          0            0   \n",
            "actionview                        0            8          6            5   \n",
            "activemodel                       8            0          6            4   \n",
            "activejob                         6            6          0            4   \n",
            "actioncable                       5            4          4            0   \n",
            "With reproduction steps           0            0          0            0   \n",
            "more-information-needed           0            0          0            0   \n",
            "needs backport                    0            0          0            0   \n",
            "regression                        0            0          0            0   \n",
            "good first issue                  0            0          0            0   \n",
            "\n",
            "                         With reproduction steps  more-information-needed  \\\n",
            "activestorage                                  1                        1   \n",
            "ci issues                                      0                        0   \n",
            "activesupport                                  1                        0   \n",
            "activerecord                                   5                        0   \n",
            "railties                                       1                        0   \n",
            "actionmailer                                   0                        0   \n",
            "actionpack                                     0                        0   \n",
            "actionmailbox                                  0                        0   \n",
            "actiontext                                     0                        0   \n",
            "docs                                           0                        0   \n",
            "attached PR                                    3                        0   \n",
            "actionview                                     0                        0   \n",
            "activemodel                                    0                        0   \n",
            "activejob                                      0                        0   \n",
            "actioncable                                    0                        0   \n",
            "With reproduction steps                        0                        0   \n",
            "more-information-needed                        0                        0   \n",
            "needs backport                                 0                        0   \n",
            "regression                                     0                        0   \n",
            "good first issue                               0                        0   \n",
            "\n",
            "                         needs backport  regression  good first issue  \n",
            "activestorage                         0           0                 0  \n",
            "ci issues                             0           0                 0  \n",
            "activesupport                         0           0                 0  \n",
            "activerecord                          2           0                 0  \n",
            "railties                              0           0                 1  \n",
            "actionmailer                          0           0                 0  \n",
            "actionpack                            1           1                 0  \n",
            "actionmailbox                         0           0                 0  \n",
            "actiontext                            0           0                 0  \n",
            "docs                                  0           0                 0  \n",
            "attached PR                           0           1                 1  \n",
            "actionview                            0           0                 0  \n",
            "activemodel                           0           0                 0  \n",
            "activejob                             0           0                 0  \n",
            "actioncable                           0           0                 0  \n",
            "With reproduction steps               0           0                 0  \n",
            "more-information-needed               0           0                 0  \n",
            "needs backport                        0           0                 0  \n",
            "regression                            0           0                 0  \n",
            "good first issue                      0           0                 0  \n"
          ]
        }
      ]
    },
    {
      "cell_type": "code",
      "source": [
        "from itertools import combinations\n",
        "\n",
        "# Assuming label_cooccurrence_counts is your DataFrame with co-occurrence counts\n",
        "\n",
        "# Calculate total occurrences for each label\n",
        "total_occurrences = label_cooccurrence_counts.sum(axis=1)\n",
        "\n",
        "# Create a new DataFrame to store the percentage results\n",
        "label_cooccurrence_percentages = label_cooccurrence_counts.copy()\n",
        "\n",
        "# Calculate percentages for each cell\n",
        "for label in label_cooccurrence_counts.index:\n",
        "    label_cooccurrence_percentages.loc[label, :] = (label_cooccurrence_counts.loc[label, :] / total_occurrences[label]) * 100\n",
        "\n",
        "# Display the resulting DataFrame\n",
        "print(\"Label Co-occurrence Percentages in Multi-Label Issues:\")\n",
        "print(label_cooccurrence_percentages)"
      ],
      "metadata": {
        "colab": {
          "base_uri": "https://localhost:8080/"
        },
        "id": "oNox-xQyWy3r",
        "outputId": "041d07e5-a5c1-4e56-ba4a-970cf12dc368"
      },
      "execution_count": 32,
      "outputs": [
        {
          "output_type": "stream",
          "name": "stdout",
          "text": [
            "Label Co-occurrence Percentages in Multi-Label Issues:\n",
            "                         activestorage  ci issues  activesupport  \\\n",
            "activestorage                 0.000000   1.470588       7.352941   \n",
            "ci issues                    25.000000   0.000000       0.000000   \n",
            "activesupport                 5.681818   0.000000       0.000000   \n",
            "activerecord                  5.357143   1.785714       9.821429   \n",
            "railties                      8.490566   0.000000      10.377358   \n",
            "actionmailer                  6.250000   0.000000      10.937500   \n",
            "actionpack                    5.128205   0.000000      14.102564   \n",
            "actionmailbox                11.111111   0.000000       7.407407   \n",
            "actiontext                   12.280702   0.000000       7.017544   \n",
            "docs                          5.128205   0.000000       5.128205   \n",
            "attached PR                  17.647059   0.000000       0.000000   \n",
            "actionview                    5.813953   1.162791      12.790698   \n",
            "activemodel                   7.142857   0.000000      12.857143   \n",
            "activejob                     8.474576   0.000000      11.864407   \n",
            "actioncable                   8.163265   0.000000      10.204082   \n",
            "With reproduction steps       9.090909   0.000000       9.090909   \n",
            "more-information-needed     100.000000   0.000000       0.000000   \n",
            "needs backport                0.000000   0.000000       0.000000   \n",
            "regression                    0.000000   0.000000       0.000000   \n",
            "good first issue              0.000000   0.000000       0.000000   \n",
            "\n",
            "                         activerecord   railties  actionmailer  actionpack  \\\n",
            "activestorage                8.823529  13.235294      5.882353    5.882353   \n",
            "ci issues                   50.000000   0.000000      0.000000    0.000000   \n",
            "activesupport               12.500000  12.500000      7.954545   12.500000   \n",
            "activerecord                 0.000000  13.392857      6.250000    7.142857   \n",
            "railties                    14.150943   0.000000      6.603774   11.320755   \n",
            "actionmailer                10.937500  10.937500      0.000000    9.375000   \n",
            "actionpack                  10.256410  15.384615      7.692308    0.000000   \n",
            "actionmailbox                9.259259  11.111111     11.111111    5.555556   \n",
            "actiontext                   7.017544  15.789474      7.017544    5.263158   \n",
            "docs                        23.076923  17.948718      2.564103   15.384615   \n",
            "attached PR                 29.411765  11.764706      0.000000    5.882353   \n",
            "actionview                  11.627907  10.465116      6.976744   11.627907   \n",
            "activemodel                 15.714286  10.000000      8.571429    7.142857   \n",
            "activejob                   11.864407  10.169492      8.474576    6.779661   \n",
            "actioncable                 10.204082   8.163265     10.204082    6.122449   \n",
            "With reproduction steps     45.454545   9.090909      0.000000    0.000000   \n",
            "more-information-needed      0.000000   0.000000      0.000000    0.000000   \n",
            "needs backport              66.666667   0.000000      0.000000   33.333333   \n",
            "regression                   0.000000   0.000000      0.000000   50.000000   \n",
            "good first issue             0.000000  50.000000      0.000000    0.000000   \n",
            "\n",
            "                         actionmailbox  actiontext      docs  attached PR  \\\n",
            "activestorage                 8.823529   10.294118  2.941176     4.411765   \n",
            "ci issues                     0.000000    0.000000  0.000000     0.000000   \n",
            "activesupport                 4.545455    4.545455  2.272727     0.000000   \n",
            "activerecord                  4.464286    3.571429  8.035714     4.464286   \n",
            "railties                      5.660377    8.490566  6.603774     1.886792   \n",
            "actionmailer                  9.375000    6.250000  1.562500     0.000000   \n",
            "actionpack                    3.846154    3.846154  7.692308     1.282051   \n",
            "actionmailbox                 0.000000   11.111111  1.851852     0.000000   \n",
            "actiontext                   10.526316    0.000000  5.263158     0.000000   \n",
            "docs                          2.564103    7.692308  0.000000     0.000000   \n",
            "attached PR                   0.000000    0.000000  0.000000     0.000000   \n",
            "actionview                    4.651163    5.813953  5.813953     1.162791   \n",
            "activemodel                   5.714286    5.714286  1.428571     0.000000   \n",
            "activejob                     6.779661    6.779661  1.694915     0.000000   \n",
            "actioncable                  10.204082    8.163265  2.040816     0.000000   \n",
            "With reproduction steps       0.000000    0.000000  0.000000    27.272727   \n",
            "more-information-needed       0.000000    0.000000  0.000000     0.000000   \n",
            "needs backport                0.000000    0.000000  0.000000     0.000000   \n",
            "regression                    0.000000    0.000000  0.000000    50.000000   \n",
            "good first issue              0.000000    0.000000  0.000000    50.000000   \n",
            "\n",
            "                         actionview  activemodel  activejob  actioncable  \\\n",
            "activestorage              7.352941     7.352941   7.352941     5.882353   \n",
            "ci issues                 25.000000     0.000000   0.000000     0.000000   \n",
            "activesupport             12.500000    10.227273   7.954545     5.681818   \n",
            "activerecord               8.928571     9.821429   6.250000     4.464286   \n",
            "railties                   8.490566     6.603774   5.660377     3.773585   \n",
            "actionmailer               9.375000     9.375000   7.812500     7.812500   \n",
            "actionpack                12.820513     6.410256   5.128205     3.846154   \n",
            "actionmailbox              7.407407     7.407407   7.407407     9.259259   \n",
            "actiontext                 8.771930     7.017544   7.017544     7.017544   \n",
            "docs                      12.820513     2.564103   2.564103     2.564103   \n",
            "attached PR                5.882353     0.000000   0.000000     0.000000   \n",
            "actionview                 0.000000     9.302326   6.976744     5.813953   \n",
            "activemodel               11.428571     0.000000   8.571429     5.714286   \n",
            "activejob                 10.169492    10.169492   0.000000     6.779661   \n",
            "actioncable               10.204082     8.163265   8.163265     0.000000   \n",
            "With reproduction steps    0.000000     0.000000   0.000000     0.000000   \n",
            "more-information-needed    0.000000     0.000000   0.000000     0.000000   \n",
            "needs backport             0.000000     0.000000   0.000000     0.000000   \n",
            "regression                 0.000000     0.000000   0.000000     0.000000   \n",
            "good first issue           0.000000     0.000000   0.000000     0.000000   \n",
            "\n",
            "                         With reproduction steps  more-information-needed  \\\n",
            "activestorage                           1.470588                 1.470588   \n",
            "ci issues                               0.000000                 0.000000   \n",
            "activesupport                           1.136364                 0.000000   \n",
            "activerecord                            4.464286                 0.000000   \n",
            "railties                                0.943396                 0.000000   \n",
            "actionmailer                            0.000000                 0.000000   \n",
            "actionpack                              0.000000                 0.000000   \n",
            "actionmailbox                           0.000000                 0.000000   \n",
            "actiontext                              0.000000                 0.000000   \n",
            "docs                                    0.000000                 0.000000   \n",
            "attached PR                            17.647059                 0.000000   \n",
            "actionview                              0.000000                 0.000000   \n",
            "activemodel                             0.000000                 0.000000   \n",
            "activejob                               0.000000                 0.000000   \n",
            "actioncable                             0.000000                 0.000000   \n",
            "With reproduction steps                 0.000000                 0.000000   \n",
            "more-information-needed                 0.000000                 0.000000   \n",
            "needs backport                          0.000000                 0.000000   \n",
            "regression                              0.000000                 0.000000   \n",
            "good first issue                        0.000000                 0.000000   \n",
            "\n",
            "                         needs backport  regression  good first issue  \n",
            "activestorage                  0.000000    0.000000          0.000000  \n",
            "ci issues                      0.000000    0.000000          0.000000  \n",
            "activesupport                  0.000000    0.000000          0.000000  \n",
            "activerecord                   1.785714    0.000000          0.000000  \n",
            "railties                       0.000000    0.000000          0.943396  \n",
            "actionmailer                   0.000000    0.000000          0.000000  \n",
            "actionpack                     1.282051    1.282051          0.000000  \n",
            "actionmailbox                  0.000000    0.000000          0.000000  \n",
            "actiontext                     0.000000    0.000000          0.000000  \n",
            "docs                           0.000000    0.000000          0.000000  \n",
            "attached PR                    0.000000    5.882353          5.882353  \n",
            "actionview                     0.000000    0.000000          0.000000  \n",
            "activemodel                    0.000000    0.000000          0.000000  \n",
            "activejob                      0.000000    0.000000          0.000000  \n",
            "actioncable                    0.000000    0.000000          0.000000  \n",
            "With reproduction steps        0.000000    0.000000          0.000000  \n",
            "more-information-needed        0.000000    0.000000          0.000000  \n",
            "needs backport                 0.000000    0.000000          0.000000  \n",
            "regression                     0.000000    0.000000          0.000000  \n",
            "good first issue               0.000000    0.000000          0.000000  \n"
          ]
        }
      ]
    },
    {
      "cell_type": "code",
      "source": [
        "import seaborn as sns\n",
        "\n",
        "# Create a heatmap\n",
        "plt.figure(figsize=(12, 10))\n",
        "sns.heatmap(label_cooccurrence_percentages, annot=True, cmap=\"YlGnBu\", fmt=\".0f\", linewidths=.5)\n",
        "plt.title(\"Label Co-occurrence Percentages in Multi-Label Issues\")\n",
        "plt.show()"
      ],
      "metadata": {
        "colab": {
          "base_uri": "https://localhost:8080/",
          "height": 1000
        },
        "id": "sW0nF3hrYOJc",
        "outputId": "3ed0e018-edfb-4720-ac9c-7ca03539429e"
      },
      "execution_count": 34,
      "outputs": [
        {
          "output_type": "display_data",
          "data": {
            "text/plain": [
              "<Figure size 1200x1000 with 2 Axes>"
            ],
            "image/png": "[encoded data removed]"
          },
          "metadata": {}
        }
      ]
    },
    {
      "cell_type": "markdown",
      "source": [
        "## Close time distribution of issues"
      ],
      "metadata": {
        "id": "HullZDRuqmBA"
      }
    },
    {
      "cell_type": "code",
      "source": [
        "# Calculate time to close in hours for each issue\n",
        "processed_df['time to close'] = (processed_df['closed at'] - processed_df['created at']).dt.total_seconds() / 3600\n",
        "\n",
        "# Categorize issues into three groups\n",
        "no_label_issues = processed_df[(processed_df['labels'].apply(len) == 0) & (processed_df['state'] == 'closed')]\n",
        "single_label_issues = processed_df[(processed_df['labels'].apply(len) == 1) & (processed_df['state'] == 'closed')]\n",
        "multi_label_issues = processed_df[(processed_df['labels'].apply(len) > 1) & (processed_df['state'] == 'closed')]\n",
        "\n",
        "# Plot distribution boxes for the three groups\n",
        "plt.figure(figsize=(10, 6))\n",
        "plt.boxplot([\n",
        "    no_label_issues['time to close'],\n",
        "    single_label_issues['time to close'],\n",
        "    multi_label_issues['time to close']\n",
        "], labels=['No Label', 'Single Label', 'Multi Label'])\n",
        "\n",
        "plt.title('Time to Close Distribution for Different Label Groups')\n",
        "plt.ylabel('Hours to Close')\n",
        "plt.show()"
      ],
      "metadata": {
        "colab": {
          "base_uri": "https://localhost:8080/",
          "height": 545
        },
        "id": "rGgfhCPREjYM",
        "outputId": "6458c711-faf4-40ca-bc73-e6d0a29d48ce"
      },
      "execution_count": 43,
      "outputs": [
        {
          "output_type": "display_data",
          "data": {
            "text/plain": [
              "<Figure size 1000x600 with 1 Axes>"
            ],
            "image/png": "[encoded data removed]"
          },
          "metadata": {}
        }
      ]
    },
    {
      "cell_type": "markdown",
      "source": [
        "## Issues as time series"
      ],
      "metadata": {
        "id": "IDj1q27NvCIL"
      }
    },
    {
      "cell_type": "markdown",
      "source": [
        "### Daily Analysis"
      ],
      "metadata": {
        "id": "Jc4rlaY_2ig8"
      }
    },
    {
      "cell_type": "code",
      "source": [
        "processed_df.set_index('created at', inplace=True)"
      ],
      "metadata": {
        "id": "uopmcgFMyed_"
      },
      "execution_count": null,
      "outputs": []
    },
    {
      "cell_type": "code",
      "source": [
        "# Resample the time series data to daily frequency and count the number of issues for each day\n",
        "daily_counts = processed_df.resample('D').size()\n",
        "\n",
        "# Plot the time series\n",
        "fig, ax = plt.subplots(figsize=(12, 6))\n",
        "daily_counts.plot(style='-o', color='b', label='Daily Counts')\n",
        "\n",
        "# Customize x-axis ticks to show date every 5 days\n",
        "ax.xaxis.set_major_locator(DayLocator(interval=5))\n",
        "ax.xaxis.set_major_formatter(DateFormatter('%b %d'))\n",
        "\n",
        "# Add grid lines every 5 hours\n",
        "ax.xaxis.set_minor_locator(DayLocator(interval=2))\n",
        "ax.grid(linestyle=':', linewidth='0.5', color='black')\n",
        "\n",
        "plt.title('Number of Issues Over Time')\n",
        "plt.xlabel('Date')\n",
        "plt.ylabel('Number of Issues')\n",
        "plt.legend()\n",
        "plt.show()"
      ],
      "metadata": {
        "colab": {
          "base_uri": "https://localhost:8080/",
          "height": 534
        },
        "id": "S8OFEr4G3VRm",
        "outputId": "61742c07-9ab3-4ee5-97fe-80aea552bc53"
      },
      "execution_count": 97,
      "outputs": [
        {
          "output_type": "display_data",
          "data": {
            "text/plain": [
              "<Figure size 1200x600 with 1 Axes>"
            ],
            "image/png": "[encoded data removed]"
          },
          "metadata": {}
        }
      ]
    },
    {
      "cell_type": "code",
      "source": [
        "daily_counts.describe()"
      ],
      "metadata": {
        "colab": {
          "base_uri": "https://localhost:8080/"
        },
        "id": "9s2HaJPm2TJE",
        "outputId": "8d07754a-90a2-4b2f-f5be-c51b5e5c4e2b"
      },
      "execution_count": 74,
      "outputs": [
        {
          "output_type": "execute_result",
          "data": {
            "text/plain": [
              "count    41.000000\n",
              "mean     12.195122\n",
              "std       6.301665\n",
              "min       0.000000\n",
              "25%       8.000000\n",
              "50%      11.000000\n",
              "75%      16.000000\n",
              "max      27.000000\n",
              "dtype: float64"
            ]
          },
          "metadata": {},
          "execution_count": 74
        }
      ]
    },
    {
      "cell_type": "code",
      "source": [
        "daily_counts"
      ],
      "metadata": {
        "colab": {
          "base_uri": "https://localhost:8080/"
        },
        "id": "Ce8MvcwH5dgP",
        "outputId": "90eb0b61-a56c-4c7b-fa29-13d930f63c0e"
      },
      "execution_count": 75,
      "outputs": [
        {
          "output_type": "execute_result",
          "data": {
            "text/plain": [
              "created at\n",
              "2023-12-21 00:00:00+00:00    10\n",
              "2023-12-22 00:00:00+00:00     7\n",
              "2023-12-23 00:00:00+00:00     0\n",
              "2023-12-24 00:00:00+00:00     1\n",
              "2023-12-25 00:00:00+00:00     5\n",
              "2023-12-26 00:00:00+00:00    11\n",
              "2023-12-27 00:00:00+00:00    13\n",
              "2023-12-28 00:00:00+00:00     9\n",
              "2023-12-29 00:00:00+00:00    10\n",
              "2023-12-30 00:00:00+00:00     7\n",
              "2023-12-31 00:00:00+00:00    20\n",
              "2024-01-01 00:00:00+00:00    16\n",
              "2024-01-02 00:00:00+00:00    17\n",
              "2024-01-03 00:00:00+00:00    23\n",
              "2024-01-04 00:00:00+00:00    16\n",
              "2024-01-05 00:00:00+00:00    25\n",
              "2024-01-06 00:00:00+00:00    13\n",
              "2024-01-07 00:00:00+00:00    11\n",
              "2024-01-08 00:00:00+00:00    27\n",
              "2024-01-09 00:00:00+00:00    27\n",
              "2024-01-10 00:00:00+00:00    12\n",
              "2024-01-11 00:00:00+00:00    19\n",
              "2024-01-12 00:00:00+00:00    19\n",
              "2024-01-13 00:00:00+00:00     7\n",
              "2024-01-14 00:00:00+00:00     8\n",
              "2024-01-15 00:00:00+00:00    10\n",
              "2024-01-16 00:00:00+00:00    10\n",
              "2024-01-17 00:00:00+00:00    11\n",
              "2024-01-18 00:00:00+00:00    13\n",
              "2024-01-19 00:00:00+00:00    17\n",
              "2024-01-20 00:00:00+00:00    10\n",
              "2024-01-21 00:00:00+00:00     6\n",
              "2024-01-22 00:00:00+00:00    13\n",
              "2024-01-23 00:00:00+00:00    13\n",
              "2024-01-24 00:00:00+00:00    11\n",
              "2024-01-25 00:00:00+00:00    11\n",
              "2024-01-26 00:00:00+00:00    14\n",
              "2024-01-27 00:00:00+00:00     6\n",
              "2024-01-28 00:00:00+00:00     5\n",
              "2024-01-29 00:00:00+00:00     6\n",
              "2024-01-30 00:00:00+00:00    11\n",
              "Freq: D, dtype: int64"
            ]
          },
          "metadata": {},
          "execution_count": 75
        }
      ]
    },
    {
      "cell_type": "code",
      "source": [
        "from statsmodels.tsa.seasonal import seasonal_decompose\n",
        "\n",
        "# Decompose the time series\n",
        "result = seasonal_decompose(daily_counts, model='additive')\n",
        "\n",
        "# Plot the observed time series along with the trend component\n",
        "plt.figure(figsize=(12, 6))\n",
        "\n",
        "plt.plot(result.observed, label='Observed', color='blue')\n",
        "plt.plot(result.trend, label='Trend', color='red')\n",
        "\n",
        "plt.title('Observed Time Series with Trend')\n",
        "plt.xlabel('Date')\n",
        "plt.ylabel('Number of Issues')\n",
        "plt.legend()\n",
        "plt.show()"
      ],
      "metadata": {
        "colab": {
          "base_uri": "https://localhost:8080/",
          "height": 514
        },
        "id": "sUbkJcaNZbIn",
        "outputId": "2337e153-2535-48c7-941e-24b7db44dde7"
      },
      "execution_count": 99,
      "outputs": [
        {
          "output_type": "display_data",
          "data": {
            "text/plain": [
              "<Figure size 1200x600 with 1 Axes>"
            ],
            "image/png": "[encoded data removed]"
          },
          "metadata": {}
        }
      ]
    },
    {
      "cell_type": "code",
      "source": [
        "daily_counts"
      ],
      "metadata": {
        "colab": {
          "base_uri": "https://localhost:8080/"
        },
        "id": "MFC9GEW0a3IX",
        "outputId": "cbc97d2e-4a7d-49be-9247-3e94a8edf033"
      },
      "execution_count": 100,
      "outputs": [
        {
          "output_type": "execute_result",
          "data": {
            "text/plain": [
              "created at\n",
              "2023-12-21 00:00:00+00:00    10\n",
              "2023-12-22 00:00:00+00:00     7\n",
              "2023-12-23 00:00:00+00:00     0\n",
              "2023-12-24 00:00:00+00:00     1\n",
              "2023-12-25 00:00:00+00:00     5\n",
              "2023-12-26 00:00:00+00:00    11\n",
              "2023-12-27 00:00:00+00:00    13\n",
              "2023-12-28 00:00:00+00:00     9\n",
              "2023-12-29 00:00:00+00:00    10\n",
              "2023-12-30 00:00:00+00:00     7\n",
              "2023-12-31 00:00:00+00:00    20\n",
              "2024-01-01 00:00:00+00:00    16\n",
              "2024-01-02 00:00:00+00:00    17\n",
              "2024-01-03 00:00:00+00:00    23\n",
              "2024-01-04 00:00:00+00:00    16\n",
              "2024-01-05 00:00:00+00:00    25\n",
              "2024-01-06 00:00:00+00:00    13\n",
              "2024-01-07 00:00:00+00:00    11\n",
              "2024-01-08 00:00:00+00:00    27\n",
              "2024-01-09 00:00:00+00:00    27\n",
              "2024-01-10 00:00:00+00:00    12\n",
              "2024-01-11 00:00:00+00:00    19\n",
              "2024-01-12 00:00:00+00:00    19\n",
              "2024-01-13 00:00:00+00:00     7\n",
              "2024-01-14 00:00:00+00:00     8\n",
              "2024-01-15 00:00:00+00:00    10\n",
              "2024-01-16 00:00:00+00:00    10\n",
              "2024-01-17 00:00:00+00:00    11\n",
              "2024-01-18 00:00:00+00:00    13\n",
              "2024-01-19 00:00:00+00:00    17\n",
              "2024-01-20 00:00:00+00:00    10\n",
              "2024-01-21 00:00:00+00:00     6\n",
              "2024-01-22 00:00:00+00:00    13\n",
              "2024-01-23 00:00:00+00:00    13\n",
              "2024-01-24 00:00:00+00:00    11\n",
              "2024-01-25 00:00:00+00:00    11\n",
              "2024-01-26 00:00:00+00:00    14\n",
              "2024-01-27 00:00:00+00:00     6\n",
              "2024-01-28 00:00:00+00:00     5\n",
              "2024-01-29 00:00:00+00:00     6\n",
              "2024-01-30 00:00:00+00:00    11\n",
              "Freq: D, dtype: int64"
            ]
          },
          "metadata": {},
          "execution_count": 100
        }
      ]
    },
    {
      "cell_type": "markdown",
      "source": [
        "### Hourly analysis"
      ],
      "metadata": {
        "id": "OiAH_Ht0GA7t"
      }
    },
    {
      "cell_type": "code",
      "source": [
        "# Create a new column for the period (00-04, 04-08, 08-12, 12-16, 16-20, 20-00)\n",
        "processed_df['period'] = pd.cut(processed_df.index.hour, bins=[0, 4, 8, 12, 16, 20, 24], labels=['00-04', '04-08', '08-12', '12-16', '16-20', '20-00'], right=False)\n",
        "\n",
        "# Count the number of issues in each period\n",
        "period_counts = processed_df['period'].value_counts()\n",
        "\n",
        "# Plot the pie chart\n",
        "fig, ax = plt.subplots()\n",
        "ax.pie(period_counts, labels=period_counts.index, autopct='%1.1f%%', startangle=90, counterclock=False)\n",
        "ax.axis('equal')  # Equal aspect ratio ensures that pie is drawn as a circle.\n",
        "\n",
        "plt.title('Percentage of Issues Created in Each 4-Hour Period')\n",
        "plt.show()"
      ],
      "metadata": {
        "colab": {
          "base_uri": "https://localhost:8080/",
          "height": 430
        },
        "id": "L2dLquSYKWxc",
        "outputId": "ec9cd149-3d49-44f1-85de-34459f411c19"
      },
      "execution_count": 95,
      "outputs": [
        {
          "output_type": "display_data",
          "data": {
            "text/plain": [
              "<Figure size 640x480 with 1 Axes>"
            ],
            "image/png": "[encoded data removed]"
          },
          "metadata": {}
        }
      ]
    },
    {
      "cell_type": "code",
      "source": [
        "period_counts"
      ],
      "metadata": {
        "colab": {
          "base_uri": "https://localhost:8080/"
        },
        "id": "iNHhBy7aK44M",
        "outputId": "7fff30d3-3239-411f-a06f-be8800851a7d"
      },
      "execution_count": 96,
      "outputs": [
        {
          "output_type": "execute_result",
          "data": {
            "text/plain": [
              "16-20    110\n",
              "12-16    108\n",
              "20-00    103\n",
              "08-12     64\n",
              "04-08     58\n",
              "00-04     57\n",
              "Name: period, dtype: int64"
            ]
          },
          "metadata": {},
          "execution_count": 96
        }
      ]
    },
    {
      "cell_type": "code",
      "source": [
        "# Resample the time series data to daily frequency and count the number of issues for each hour\n",
        "hourly_counts = processed_df.resample('4H').size()\n",
        "\n",
        "# Plot the time series for 3 days (72 points)\n",
        "fig, ax = plt.subplots(figsize=(12, 6))\n",
        "hourly_counts[-24:-4].plot(style='-o', color='b', label='Hourly Counts')\n",
        "\n",
        "plt.title('Number of Issues Over Time')\n",
        "plt.xlabel('Date')\n",
        "plt.ylabel('Number of Issues')\n",
        "plt.legend()\n",
        "plt.show()"
      ],
      "metadata": {
        "colab": {
          "base_uri": "https://localhost:8080/",
          "height": 617
        },
        "id": "AXjSjf8h0jYo",
        "outputId": "7e69acf9-ca29-4fee-fea4-799a698b69a2"
      },
      "execution_count": 92,
      "outputs": [
        {
          "output_type": "display_data",
          "data": {
            "text/plain": [
              "<Figure size 1200x600 with 1 Axes>"
            ],
            "image/png": "[encoded data removed]"
          },
          "metadata": {}
        }
      ]
    },
    {
      "cell_type": "code",
      "source": [
        "hourly_counts[-24:-4]"
      ],
      "metadata": {
        "colab": {
          "base_uri": "https://localhost:8080/"
        },
        "id": "8sYOG3AYGWN2",
        "outputId": "5e7d4526-4bb6-4dab-e6b3-974af778ce0d"
      },
      "execution_count": 93,
      "outputs": [
        {
          "output_type": "execute_result",
          "data": {
            "text/plain": [
              "created at\n",
              "2024-01-26 16:00:00+00:00    2\n",
              "2024-01-26 20:00:00+00:00    3\n",
              "2024-01-27 00:00:00+00:00    0\n",
              "2024-01-27 04:00:00+00:00    2\n",
              "2024-01-27 08:00:00+00:00    0\n",
              "2024-01-27 12:00:00+00:00    2\n",
              "2024-01-27 16:00:00+00:00    2\n",
              "2024-01-27 20:00:00+00:00    0\n",
              "2024-01-28 00:00:00+00:00    0\n",
              "2024-01-28 04:00:00+00:00    0\n",
              "2024-01-28 08:00:00+00:00    1\n",
              "2024-01-28 12:00:00+00:00    0\n",
              "2024-01-28 16:00:00+00:00    1\n",
              "2024-01-28 20:00:00+00:00    3\n",
              "2024-01-29 00:00:00+00:00    1\n",
              "2024-01-29 04:00:00+00:00    1\n",
              "2024-01-29 08:00:00+00:00    0\n",
              "2024-01-29 12:00:00+00:00    2\n",
              "2024-01-29 16:00:00+00:00    0\n",
              "2024-01-29 20:00:00+00:00    2\n",
              "Freq: 4H, dtype: int64"
            ]
          },
          "metadata": {},
          "execution_count": 93
        }
      ]
    },
    {
      "cell_type": "markdown",
      "source": [
        "## User Engagement"
      ],
      "metadata": {
        "id": "YT9wpRaTXscl"
      }
    },
    {
      "cell_type": "code",
      "source": [
        "# Analyze user contribution\n",
        "user_counts = processed_df['user'].value_counts()\n",
        "# Define the colors based on conditions\n",
        "colors = ['red' if value >= 30 else 'blue' if 20 <= value < 30 else 'green' for value in user_counts]\n",
        "\n",
        "# Plot the bar chart\n",
        "ax = user_counts.head(11).plot(kind='bar', figsize=(12, 8), color=colors, title='Users that reported more than 10 issues')\n",
        "\n",
        "# Add text annotations for each bar\n",
        "for i, value in enumerate(user_counts.head(11)):\n",
        "    ax.text(i, value + 0.5, str(value), ha='center', va='bottom')\n",
        "\n",
        "# Show the plot\n",
        "plt.show()"
      ],
      "metadata": {
        "colab": {
          "base_uri": "https://localhost:8080/",
          "height": 758
        },
        "id": "Ki8kUSGlE3eU",
        "outputId": "80f2a571-6815-43fe-ecbf-600270a5f664"
      },
      "execution_count": 116,
      "outputs": [
        {
          "output_type": "display_data",
          "data": {
            "text/plain": [
              "<Figure size 1200x800 with 1 Axes>"
            ],
            "image/png": "[encoded data removed]"
          },
          "metadata": {}
        }
      ]
    },
    {
      "cell_type": "code",
      "source": [
        "user_counts.head(15)"
      ],
      "metadata": {
        "colab": {
          "base_uri": "https://localhost:8080/"
        },
        "id": "1AFSv26YxzBG",
        "outputId": "864e009b-c9dd-4081-cbc2-526e772ad327"
      },
      "execution_count": 117,
      "outputs": [
        {
          "output_type": "execute_result",
          "data": {
            "text/plain": [
              "dhh               31\n",
              "skipkayhil        31\n",
              "p8                29\n",
              "seanpdoyle        26\n",
              "akhilgkrishnan    21\n",
              "sato11            13\n",
              "casperisfine      12\n",
              "zzak              12\n",
              "fatkodima         12\n",
              "byroot            11\n",
              "Earlopain         10\n",
              "dorianmarie        9\n",
              "jonathanhefner     8\n",
              "rafaelfranca       8\n",
              "bparanj            7\n",
              "Name: user, dtype: int64"
            ]
          },
          "metadata": {},
          "execution_count": 117
        }
      ]
    },
    {
      "cell_type": "markdown",
      "source": [
        "## Issues classification"
      ],
      "metadata": {
        "id": "fCoL8vGRzxb8"
      }
    },
    {
      "cell_type": "code",
      "source": [
        "# Filter the DataFrame to keep only single-label issues\n",
        "filtered_df = processed_df[processed_df['labels'].apply(lambda x: len(x) == 1)]\n",
        "\n",
        "len(filtered_df)"
      ],
      "metadata": {
        "colab": {
          "base_uri": "https://localhost:8080/"
        },
        "id": "VMQNU_qzx5kJ",
        "outputId": "0555b306-c47d-4530-c68c-c4cd89bae187"
      },
      "execution_count": 3,
      "outputs": [
        {
          "output_type": "execute_result",
          "data": {
            "text/plain": [
              "312"
            ]
          },
          "metadata": {},
          "execution_count": 3
        }
      ]
    },
    {
      "cell_type": "code",
      "source": [
        "unique_labels = pd.unique(filtered_df['labels'].explode().dropna())\n",
        "len(unique_labels)"
      ],
      "metadata": {
        "colab": {
          "base_uri": "https://localhost:8080/"
        },
        "id": "jpYl91_C0Wtj",
        "outputId": "459638ca-7b5e-4ac7-e9b5-4330e51286b3"
      },
      "execution_count": 4,
      "outputs": [
        {
          "output_type": "execute_result",
          "data": {
            "text/plain": [
              "15"
            ]
          },
          "metadata": {},
          "execution_count": 4
        }
      ]
    },
    {
      "cell_type": "code",
      "source": [
        "unique_labels"
      ],
      "metadata": {
        "colab": {
          "base_uri": "https://localhost:8080/"
        },
        "id": "U5JVL2XxH2Ll",
        "outputId": "73e0854a-e6ba-4d58-d164-65004c0205cd"
      },
      "execution_count": 5,
      "outputs": [
        {
          "output_type": "execute_result",
          "data": {
            "text/plain": [
              "array(['activesupport', 'activerecord', 'docs', 'railties', 'actionview',\n",
              "       'activestorage', 'activemodel', 'actionpack', 'activejob',\n",
              "       'actiontext', 'actionmailer', 'more-information-needed',\n",
              "       'actionmailbox', 'attached PR', 'actioncable'], dtype=object)"
            ]
          },
          "metadata": {},
          "execution_count": 5
        }
      ]
    },
    {
      "cell_type": "code",
      "source": [
        "import torch\n",
        "from transformers import BertTokenizer, BertForSequenceClassification\n",
        "from sklearn.model_selection import train_test_split\n",
        "from sklearn.metrics import accuracy_score, classification_report\n",
        "from torch.utils.data import DataLoader, TensorDataset\n",
        "\n",
        "# Split the data into training and testing sets\n",
        "train_df, test_df = train_test_split(filtered_df, test_size=0.2, random_state=42)\n",
        "\n",
        "# Load BERT tokenizer and model\n",
        "tokenizer = BertTokenizer.from_pretrained(\"bert-base-uncased\")\n",
        "model = BertForSequenceClassification.from_pretrained(\"bert-base-uncased\", num_labels=len(unique_labels))\n",
        "\n",
        "# Flatten the list of lists into a single list\n",
        "all_train_labels = [label for labels in train_df['labels'] for label in labels]\n",
        "\n",
        "# Get unique labels\n",
        "unique_train_labels = list(set(all_train_labels))\n",
        "\n",
        "# Create a mapping from labels to numerical values\n",
        "label_mapping = {label: i for i, label in enumerate(unique_train_labels)}\n",
        "\n",
        "# Tokenize and encode the training data\n",
        "train_encodings = tokenizer(train_df['description'].astype(str).tolist(), truncation=True, padding=True, max_length=128, return_tensors='pt')\n",
        "train_labels = torch.tensor(train_df['labels'].apply(lambda x: [label_mapping[label] for label in x]).tolist())\n",
        "\n",
        "# Tokenize and encode the testing data\n",
        "test_encodings = tokenizer(test_df['description'].astype(str).tolist(), truncation=True, padding=True, max_length=128, return_tensors='pt')\n",
        "test_labels = torch.tensor(test_df['labels'].apply(lambda x: [label_mapping[label] for label in x]).tolist())\n",
        "\n",
        "# Create DataLoader for training and testing\n",
        "train_dataset = TensorDataset(train_encodings['input_ids'], train_encodings['attention_mask'], train_labels)\n",
        "test_dataset = TensorDataset(test_encodings['input_ids'], test_encodings['attention_mask'], test_labels)\n",
        "\n",
        "train_loader = DataLoader(train_dataset, batch_size=8, shuffle=True)\n",
        "test_loader = DataLoader(test_dataset, batch_size=8, shuffle=False)"
      ],
      "metadata": {
        "colab": {
          "base_uri": "https://localhost:8080/",
          "height": 336,
          "referenced_widgets": [
            "cb13884f54b645e88b62844286afb075",
            "a1b82aac01c54e8b87fe68758d3ed8e5",
            "28c093383294404ab416b5b23674c866",
            "d071298d55634e51bdd4ba57f2167dbf",
            "3e8752e2045842f3afbac1d464186e9d",
            "ae0143472c7c405484007052d44d9a3a",
            "8697aad402cf44f4b4a5a5efc687d605",
            "6692deda5e9b4a138f30d9905c4d129b",
            "17176f05e2064fbd985c3842cd266482",
            "f0e64524ce294d729609d542ff2205a7",
            "95a1344ddbd3417d9a4adf5d006378c3",
            "3e33b78ca3a949a8b6eec530705cb49e",
            "60a90664cf644a85a2a244160b338b92",
            "e5cb296ca5b24bb6ba5b450d2f0f0d11",
            "6a421aeb94994e4fbda4a3f48ba6e333",
            "e2f65d6cc8264a11be227917fec917cc",
            "27561ed1413c48619643b34455d56063",
            "ee8d67a69d1043128b1d30b46959836f",
            "d0cb5f22a23349a185bb10e6dd64c817",
            "6fe9d6b5a1994f2d8c710908e747aa04",
            "07d436a1bc404a91b89d33df766b21fd",
            "fe4fb831f45043f28bbdf54e40153791",
            "9416f03d70a14ad88b65647b2c619a61",
            "474c831442754bca8602d9e24d0eec1a",
            "d171b00405ff4d05a6b90bd172cd9222",
            "ab231b2cc0fa428daf9fc7c45fc2717f",
            "721d140ebae94249ac6a3ef357f62a39",
            "7060ec97103c441f99a9a854ffcaee1c",
            "ae2406557a9e405786c229b88cf67a39",
            "015d2ba5501147d9ac4667ac68159a8c",
            "2612764d07504b37b46c34d3d5accec5",
            "8209e7b211cd47729372683221fb5512",
            "d7a846610d284ae98c7336c88a6d75c7",
            "7cbcc3ba39834f6095b0838678d380e8",
            "def0ef428c63435193e1dbf802416997",
            "2721ff1314bc493eb3e47e7521542a77",
            "fae6324ede4f4ab59fd8cefc02aee243",
            "7a7ea7ab307742cdb187164996aa4c6f",
            "f2b8401e63cf4980990ed301cc86dd1a",
            "12f0f2b1451845ae96001b7f9fae8e16",
            "ece314d240e54e6d96ae63cc14375038",
            "fd1635ec899a49579731554a9517b54c",
            "9b6b59cf6dd64aedaea791757cacae4d",
            "f2036eff7cc84da4b1ba0809d28b4c03",
            "fa635cfe8afd41bc956913bdf9be73c0",
            "53b4bde4faa444f9ac2a62d17e207228",
            "544b53863e6a44cab630562c6770b67a",
            "8b8bb6e17c4249c381972fc8b087dc07",
            "b4b58c57bd80401d87dd98b5176dfabf",
            "0e892d1ae13945e0a6b37e58c78547ea",
            "59f63ef01fc341ea8365a133a539429f",
            "576f1f9944264c43954bc34ce5c208a9",
            "29e605282d264541be9a9212e88e0f6c",
            "01e315f58abb43899afb83054be08850",
            "1fe2f522d65d4cc9b5b363a4399bdd8c"
          ]
        },
        "id": "YUcIw7q7IAip",
        "outputId": "2bd486f5-78bd-41b7-a3ab-61a5c2d7392f"
      },
      "execution_count": 6,
      "outputs": [
        {
          "output_type": "stream",
          "name": "stderr",
          "text": [
            "/usr/local/lib/python3.10/dist-packages/huggingface_hub/utils/_token.py:88: UserWarning: \n",
            "The secret `HF_TOKEN` does not exist in your Colab secrets.\n",
            "To authenticate with the Hugging Face Hub, create a token in your settings tab (https://huggingface.co/settings/tokens), set it as secret in your Google Colab and restart your session.\n",
            "You will be able to reuse this secret in all of your notebooks.\n",
            "Please note that authentication is recommended but still optional to access public models or datasets.\n",
            "  warnings.warn(\n"
          ]
        },
        {
          "output_type": "display_data",
          "data": {
            "text/plain": [
              "tokenizer_config.json:   0%|          | 0.00/28.0 [00:00<?, ?B/s]"
            ],
            "application/vnd.jupyter.widget-view+json": {
              "version_major": 2,
              "version_minor": 0,
              "model_id": "cb13884f54b645e88b62844286afb075"
            }
          },
          "metadata": {}
        },
        {
          "output_type": "display_data",
          "data": {
            "text/plain": [
              "vocab.txt:   0%|          | 0.00/232k [00:00<?, ?B/s]"
            ],
            "application/vnd.jupyter.widget-view+json": {
              "version_major": 2,
              "version_minor": 0,
              "model_id": "3e33b78ca3a949a8b6eec530705cb49e"
            }
          },
          "metadata": {}
        },
        {
          "output_type": "display_data",
          "data": {
            "text/plain": [
              "tokenizer.json:   0%|          | 0.00/466k [00:00<?, ?B/s]"
            ],
            "application/vnd.jupyter.widget-view+json": {
              "version_major": 2,
              "version_minor": 0,
              "model_id": "9416f03d70a14ad88b65647b2c619a61"
            }
          },
          "metadata": {}
        },
        {
          "output_type": "display_data",
          "data": {
            "text/plain": [
              "config.json:   0%|          | 0.00/570 [00:00<?, ?B/s]"
            ],
            "application/vnd.jupyter.widget-view+json": {
              "version_major": 2,
              "version_minor": 0,
              "model_id": "7cbcc3ba39834f6095b0838678d380e8"
            }
          },
          "metadata": {}
        },
        {
          "output_type": "display_data",
          "data": {
            "text/plain": [
              "model.safetensors:   0%|          | 0.00/440M [00:00<?, ?B/s]"
            ],
            "application/vnd.jupyter.widget-view+json": {
              "version_major": 2,
              "version_minor": 0,
              "model_id": "fa635cfe8afd41bc956913bdf9be73c0"
            }
          },
          "metadata": {}
        },
        {
          "output_type": "stream",
          "name": "stderr",
          "text": [
            "Some weights of BertForSequenceClassification were not initialized from the model checkpoint at bert-base-uncased and are newly initialized: ['classifier.bias', 'classifier.weight']\n",
            "You should probably TRAIN this model on a down-stream task to be able to use it for predictions and inference.\n"
          ]
        }
      ]
    },
    {
      "cell_type": "code",
      "source": [
        "len(train_df)"
      ],
      "metadata": {
        "colab": {
          "base_uri": "https://localhost:8080/"
        },
        "id": "ySZBW1PYPXMZ",
        "outputId": "d47666d6-a5d1-4922-da9c-272481d929d4"
      },
      "execution_count": 15,
      "outputs": [
        {
          "output_type": "execute_result",
          "data": {
            "text/plain": [
              "249"
            ]
          },
          "metadata": {},
          "execution_count": 15
        }
      ]
    },
    {
      "cell_type": "code",
      "source": [
        "len(test_df)"
      ],
      "metadata": {
        "colab": {
          "base_uri": "https://localhost:8080/"
        },
        "id": "2xgvWmJMPZlt",
        "outputId": "78805227-6da3-47dc-88dd-96363f528b30"
      },
      "execution_count": 16,
      "outputs": [
        {
          "output_type": "execute_result",
          "data": {
            "text/plain": [
              "63"
            ]
          },
          "metadata": {},
          "execution_count": 16
        }
      ]
    },
    {
      "cell_type": "code",
      "source": [
        "len(unique_train_labels)"
      ],
      "metadata": {
        "colab": {
          "base_uri": "https://localhost:8080/"
        },
        "id": "6SEZXNhbIKOO",
        "outputId": "ec01e2a5-a105-4d65-f90d-ce0d704bf7b2"
      },
      "execution_count": 7,
      "outputs": [
        {
          "output_type": "execute_result",
          "data": {
            "text/plain": [
              "15"
            ]
          },
          "metadata": {},
          "execution_count": 7
        }
      ]
    },
    {
      "cell_type": "code",
      "source": [
        "test_labels"
      ],
      "metadata": {
        "colab": {
          "base_uri": "https://localhost:8080/"
        },
        "id": "ElAKzGNJINiQ",
        "outputId": "66b83be2-fa6a-4cb1-96b1-ec8b93cffaa9"
      },
      "execution_count": 8,
      "outputs": [
        {
          "output_type": "execute_result",
          "data": {
            "text/plain": [
              "tensor([[11],\n",
              "        [ 8],\n",
              "        [10],\n",
              "        [10],\n",
              "        [11],\n",
              "        [11],\n",
              "        [ 9],\n",
              "        [10],\n",
              "        [ 8],\n",
              "        [11],\n",
              "        [ 8],\n",
              "        [11],\n",
              "        [10],\n",
              "        [ 1],\n",
              "        [ 8],\n",
              "        [ 4],\n",
              "        [11],\n",
              "        [ 8],\n",
              "        [11],\n",
              "        [11],\n",
              "        [ 3],\n",
              "        [10],\n",
              "        [11],\n",
              "        [11],\n",
              "        [ 2],\n",
              "        [ 0],\n",
              "        [ 1],\n",
              "        [ 7],\n",
              "        [14],\n",
              "        [ 8],\n",
              "        [ 8],\n",
              "        [10],\n",
              "        [10],\n",
              "        [ 8],\n",
              "        [ 8],\n",
              "        [11],\n",
              "        [ 9],\n",
              "        [14],\n",
              "        [10],\n",
              "        [14],\n",
              "        [10],\n",
              "        [ 8],\n",
              "        [ 8],\n",
              "        [ 8],\n",
              "        [ 8],\n",
              "        [ 8],\n",
              "        [ 8],\n",
              "        [10],\n",
              "        [ 3],\n",
              "        [10],\n",
              "        [11],\n",
              "        [ 9],\n",
              "        [14],\n",
              "        [ 8],\n",
              "        [10],\n",
              "        [ 8],\n",
              "        [ 8],\n",
              "        [11],\n",
              "        [10],\n",
              "        [10],\n",
              "        [11],\n",
              "        [10],\n",
              "        [ 9]])"
            ]
          },
          "metadata": {},
          "execution_count": 8
        }
      ]
    },
    {
      "cell_type": "code",
      "source": [
        "# Training\n",
        "device = torch.device(\"cuda\" if torch.cuda.is_available() else \"cpu\")\n",
        "model.to(device)\n",
        "optimizer = torch.optim.AdamW(model.parameters(), lr=2e-5)\n",
        "\n",
        "for epoch in range(3):\n",
        "    model.train()\n",
        "    for batch in train_loader:\n",
        "        input_ids, attention_mask, labels = batch\n",
        "        input_ids, attention_mask, labels = input_ids.to(device), attention_mask.to(device), labels.to(device)\n",
        "\n",
        "        optimizer.zero_grad()\n",
        "        outputs = model(input_ids, attention_mask=attention_mask, labels=labels)\n",
        "        loss = outputs.loss\n",
        "        loss.backward()\n",
        "        optimizer.step()\n",
        "\n",
        "# Evaluation\n",
        "model.eval()\n",
        "all_predictions = []\n",
        "\n",
        "with torch.no_grad():\n",
        "    for batch in test_loader:\n",
        "        input_ids, attention_mask, labels = batch\n",
        "        input_ids, attention_mask, labels = input_ids.to(device), attention_mask.to(device), labels.to(device)\n",
        "\n",
        "        outputs = model(input_ids, attention_mask=attention_mask)\n",
        "        logits = outputs.logits\n",
        "        predictions = torch.argmax(logits, dim=1)\n",
        "        all_predictions.extend(predictions.cpu().numpy())\n",
        "\n",
        "# Calculate accuracy and other metrics\n",
        "accuracy = accuracy_score(test_labels, all_predictions)\n",
        "classification_rep = classification_report(test_labels, all_predictions)\n",
        "\n",
        "print(f\"Accuracy: {accuracy:.4f}\")\n",
        "print(f\"Classification Report:\\n{classification_rep}\")"
      ],
      "metadata": {
        "colab": {
          "base_uri": "https://localhost:8080/"
        },
        "id": "LQWYKQFu0FRs",
        "outputId": "30ce73a3-a4e4-4f1b-c806-31ee6e4e13fa"
      },
      "execution_count": 156,
      "outputs": [
        {
          "output_type": "stream",
          "name": "stderr",
          "text": [
            "Some weights of BertForSequenceClassification were not initialized from the model checkpoint at bert-base-uncased and are newly initialized: ['classifier.weight', 'classifier.bias']\n",
            "You should probably TRAIN this model on a down-stream task to be able to use it for predictions and inference.\n"
          ]
        },
        {
          "output_type": "stream",
          "name": "stdout",
          "text": [
            "Accuracy: 0.4286\n",
            "Classification Report:\n",
            "              precision    recall  f1-score   support\n",
            "\n",
            "           0       0.00      0.00      0.00        14\n",
            "           1       0.54      0.72      0.62        18\n",
            "           2       0.00      0.00      0.00         1\n",
            "           3       0.00      0.00      0.00         2\n",
            "           5       0.00      0.00      0.00         4\n",
            "           6       0.00      0.00      0.00         1\n",
            "           7       0.00      0.00      0.00         2\n",
            "          10       0.36      0.93      0.52        15\n",
            "          12       0.00      0.00      0.00         1\n",
            "          13       0.00      0.00      0.00         4\n",
            "          14       0.00      0.00      0.00         1\n",
            "\n",
            "    accuracy                           0.43        63\n",
            "   macro avg       0.08      0.15      0.10        63\n",
            "weighted avg       0.24      0.43      0.30        63\n",
            "\n"
          ]
        },
        {
          "output_type": "stream",
          "name": "stderr",
          "text": [
            "/usr/local/lib/python3.10/dist-packages/sklearn/metrics/_classification.py:1344: UndefinedMetricWarning: Precision and F-score are ill-defined and being set to 0.0 in labels with no predicted samples. Use `zero_division` parameter to control this behavior.\n",
            "  _warn_prf(average, modifier, msg_start, len(result))\n",
            "/usr/local/lib/python3.10/dist-packages/sklearn/metrics/_classification.py:1344: UndefinedMetricWarning: Precision and F-score are ill-defined and being set to 0.0 in labels with no predicted samples. Use `zero_division` parameter to control this behavior.\n",
            "  _warn_prf(average, modifier, msg_start, len(result))\n",
            "/usr/local/lib/python3.10/dist-packages/sklearn/metrics/_classification.py:1344: UndefinedMetricWarning: Precision and F-score are ill-defined and being set to 0.0 in labels with no predicted samples. Use `zero_division` parameter to control this behavior.\n",
            "  _warn_prf(average, modifier, msg_start, len(result))\n"
          ]
        }
      ]
    },
    {
      "cell_type": "code",
      "source": [
        "# Training\n",
        "device = torch.device(\"cuda\" if torch.cuda.is_available() else \"cpu\")\n",
        "model.to(device)\n",
        "optimizer = torch.optim.AdamW(model.parameters(), lr=2e-5)\n",
        "\n",
        "for epoch in range(10):\n",
        "    model.train()\n",
        "    for batch in train_loader:\n",
        "        input_ids, attention_mask, labels = batch\n",
        "        input_ids, attention_mask, labels = input_ids.to(device), attention_mask.to(device), labels.to(device)\n",
        "\n",
        "        optimizer.zero_grad()\n",
        "        outputs = model(input_ids, attention_mask=attention_mask, labels=labels)\n",
        "        loss = outputs.loss\n",
        "        loss.backward()\n",
        "        optimizer.step()\n",
        "\n",
        "# Evaluation\n",
        "model.eval()\n",
        "all_predictions = []\n",
        "\n",
        "with torch.no_grad():\n",
        "    for batch in test_loader:\n",
        "        input_ids, attention_mask, labels = batch\n",
        "        input_ids, attention_mask, labels = input_ids.to(device), attention_mask.to(device), labels.to(device)\n",
        "\n",
        "        outputs = model(input_ids, attention_mask=attention_mask)\n",
        "        logits = outputs.logits\n",
        "        predictions = torch.argmax(logits, dim=1)\n",
        "        all_predictions.extend(predictions.cpu().numpy())\n",
        "\n",
        "# Calculate accuracy and other metrics\n",
        "accuracy = accuracy_score(test_labels, all_predictions)\n",
        "classification_rep = classification_report(test_labels, all_predictions)\n",
        "\n",
        "print(f\"Accuracy: {accuracy:.4f}\")\n",
        "print(f\"Classification Report:\\n{classification_rep}\")"
      ],
      "metadata": {
        "colab": {
          "base_uri": "https://localhost:8080/"
        },
        "id": "BWJ6xRZG0bx5",
        "outputId": "d38c462b-28fe-4ced-e8d6-c3eeba179076"
      },
      "execution_count": 9,
      "outputs": [
        {
          "output_type": "stream",
          "name": "stdout",
          "text": [
            "Accuracy: 0.5079\n",
            "Classification Report:\n",
            "              precision    recall  f1-score   support\n",
            "\n",
            "           0       0.00      0.00      0.00         1\n",
            "           1       0.12      0.50      0.20         2\n",
            "           2       0.00      0.00      0.00         1\n",
            "           3       0.00      0.00      0.00         2\n",
            "           4       0.00      0.00      0.00         1\n",
            "           7       0.00      0.00      0.00         1\n",
            "           8       0.54      0.78      0.64        18\n",
            "           9       0.00      0.00      0.00         4\n",
            "          10       0.56      0.67      0.61        15\n",
            "          11       0.67      0.43      0.52        14\n",
            "          14       1.00      0.25      0.40         4\n",
            "\n",
            "    accuracy                           0.51        63\n",
            "   macro avg       0.26      0.24      0.21        63\n",
            "weighted avg       0.50      0.51      0.47        63\n",
            "\n"
          ]
        },
        {
          "output_type": "stream",
          "name": "stderr",
          "text": [
            "/usr/local/lib/python3.10/dist-packages/sklearn/metrics/_classification.py:1344: UndefinedMetricWarning: Precision and F-score are ill-defined and being set to 0.0 in labels with no predicted samples. Use `zero_division` parameter to control this behavior.\n",
            "  _warn_prf(average, modifier, msg_start, len(result))\n",
            "/usr/local/lib/python3.10/dist-packages/sklearn/metrics/_classification.py:1344: UndefinedMetricWarning: Precision and F-score are ill-defined and being set to 0.0 in labels with no predicted samples. Use `zero_division` parameter to control this behavior.\n",
            "  _warn_prf(average, modifier, msg_start, len(result))\n",
            "/usr/local/lib/python3.10/dist-packages/sklearn/metrics/_classification.py:1344: UndefinedMetricWarning: Precision and F-score are ill-defined and being set to 0.0 in labels with no predicted samples. Use `zero_division` parameter to control this behavior.\n",
            "  _warn_prf(average, modifier, msg_start, len(result))\n"
          ]
        }
      ]
    },
    {
      "cell_type": "code",
      "source": [
        "# Training\n",
        "device = torch.device(\"cuda\" if torch.cuda.is_available() else \"cpu\")\n",
        "model.to(device)\n",
        "optimizer = torch.optim.AdamW(model.parameters(), lr=2e-5)\n",
        "\n",
        "for epoch in range(20):\n",
        "    model.train()\n",
        "    for batch in train_loader:\n",
        "        input_ids, attention_mask, labels = batch\n",
        "        input_ids, attention_mask, labels = input_ids.to(device), attention_mask.to(device), labels.to(device)\n",
        "\n",
        "        optimizer.zero_grad()\n",
        "        outputs = model(input_ids, attention_mask=attention_mask, labels=labels)\n",
        "        loss = outputs.loss\n",
        "        loss.backward()\n",
        "        optimizer.step()\n",
        "\n",
        "# Evaluation\n",
        "model.eval()\n",
        "all_predictions = []\n",
        "\n",
        "with torch.no_grad():\n",
        "    for batch in test_loader:\n",
        "        input_ids, attention_mask, labels = batch\n",
        "        input_ids, attention_mask, labels = input_ids.to(device), attention_mask.to(device), labels.to(device)\n",
        "\n",
        "        outputs = model(input_ids, attention_mask=attention_mask)\n",
        "        logits = outputs.logits\n",
        "        predictions = torch.argmax(logits, dim=1)\n",
        "        all_predictions.extend(predictions.cpu().numpy())\n",
        "\n",
        "# Calculate accuracy and other metrics\n",
        "accuracy = accuracy_score(test_labels, all_predictions)\n",
        "classification_rep = classification_report(test_labels, all_predictions)\n",
        "\n",
        "print(f\"Accuracy: {accuracy:.4f}\")\n",
        "print(f\"Classification Report:\\n{classification_rep}\")"
      ],
      "metadata": {
        "colab": {
          "base_uri": "https://localhost:8080/"
        },
        "id": "QF_MoJLCJZV_",
        "outputId": "164c6376-0f00-44c1-b07a-af7169579f13"
      },
      "execution_count": 10,
      "outputs": [
        {
          "output_type": "stream",
          "name": "stdout",
          "text": [
            "Accuracy: 0.4762\n",
            "Classification Report:\n",
            "              precision    recall  f1-score   support\n",
            "\n",
            "           0       0.00      0.00      0.00         1\n",
            "           1       0.00      0.00      0.00         2\n",
            "           2       0.00      0.00      0.00         1\n",
            "           3       0.00      0.00      0.00         2\n",
            "           4       0.00      0.00      0.00         1\n",
            "           7       0.00      0.00      0.00         1\n",
            "           8       0.59      0.72      0.65        18\n",
            "           9       0.09      0.25      0.13         4\n",
            "          10       0.62      0.67      0.65        15\n",
            "          11       0.71      0.36      0.48        14\n",
            "          14       1.00      0.25      0.40         4\n",
            "\n",
            "    accuracy                           0.48        63\n",
            "   macro avg       0.27      0.20      0.21        63\n",
            "weighted avg       0.55      0.48      0.48        63\n",
            "\n"
          ]
        },
        {
          "output_type": "stream",
          "name": "stderr",
          "text": [
            "/usr/local/lib/python3.10/dist-packages/sklearn/metrics/_classification.py:1344: UndefinedMetricWarning: Precision and F-score are ill-defined and being set to 0.0 in labels with no predicted samples. Use `zero_division` parameter to control this behavior.\n",
            "  _warn_prf(average, modifier, msg_start, len(result))\n",
            "/usr/local/lib/python3.10/dist-packages/sklearn/metrics/_classification.py:1344: UndefinedMetricWarning: Precision and F-score are ill-defined and being set to 0.0 in labels with no predicted samples. Use `zero_division` parameter to control this behavior.\n",
            "  _warn_prf(average, modifier, msg_start, len(result))\n",
            "/usr/local/lib/python3.10/dist-packages/sklearn/metrics/_classification.py:1344: UndefinedMetricWarning: Precision and F-score are ill-defined and being set to 0.0 in labels with no predicted samples. Use `zero_division` parameter to control this behavior.\n",
            "  _warn_prf(average, modifier, msg_start, len(result))\n"
          ]
        }
      ]
    },
    {
      "cell_type": "code",
      "source": [
        "# Training\n",
        "device = torch.device(\"cuda\" if torch.cuda.is_available() else \"cpu\")\n",
        "model.to(device)\n",
        "optimizer = torch.optim.AdamW(model.parameters(), lr=2e-5)\n",
        "\n",
        "for epoch in range(15):\n",
        "    model.train()\n",
        "    for batch in train_loader:\n",
        "        input_ids, attention_mask, labels = batch\n",
        "        input_ids, attention_mask, labels = input_ids.to(device), attention_mask.to(device), labels.to(device)\n",
        "\n",
        "        optimizer.zero_grad()\n",
        "        outputs = model(input_ids, attention_mask=attention_mask, labels=labels)\n",
        "        loss = outputs.loss\n",
        "        loss.backward()\n",
        "        optimizer.step()\n",
        "\n",
        "# Evaluation\n",
        "model.eval()\n",
        "all_predictions = []\n",
        "\n",
        "with torch.no_grad():\n",
        "    for batch in test_loader:\n",
        "        input_ids, attention_mask, labels = batch\n",
        "        input_ids, attention_mask, labels = input_ids.to(device), attention_mask.to(device), labels.to(device)\n",
        "\n",
        "        outputs = model(input_ids, attention_mask=attention_mask)\n",
        "        logits = outputs.logits\n",
        "        predictions = torch.argmax(logits, dim=1)\n",
        "        all_predictions.extend(predictions.cpu().numpy())\n",
        "\n",
        "# Calculate accuracy and other metrics\n",
        "accuracy = accuracy_score(test_labels, all_predictions)\n",
        "classification_rep = classification_report(test_labels, all_predictions)\n",
        "\n",
        "print(f\"Accuracy: {accuracy:.4f}\")\n",
        "print(f\"Classification Report:\\n{classification_rep}\")"
      ],
      "metadata": {
        "colab": {
          "base_uri": "https://localhost:8080/"
        },
        "id": "WlmhC4W18WDv",
        "outputId": "5b9ab32f-22af-4636-8877-499e95d318c5"
      },
      "execution_count": 11,
      "outputs": [
        {
          "output_type": "stream",
          "name": "stdout",
          "text": [
            "Accuracy: 0.4444\n",
            "Classification Report:\n",
            "              precision    recall  f1-score   support\n",
            "\n",
            "           0       0.00      0.00      0.00         1\n",
            "           1       0.00      0.00      0.00         2\n",
            "           2       0.00      0.00      0.00         1\n",
            "           3       0.00      0.00      0.00         2\n",
            "           4       0.00      0.00      0.00         1\n",
            "           7       0.00      0.00      0.00         1\n",
            "           8       0.60      0.67      0.63        18\n",
            "           9       0.00      0.00      0.00         4\n",
            "          10       0.46      0.80      0.59        15\n",
            "          11       0.60      0.21      0.32        14\n",
            "          14       1.00      0.25      0.40         4\n",
            "\n",
            "    accuracy                           0.44        63\n",
            "   macro avg       0.24      0.18      0.18        63\n",
            "weighted avg       0.48      0.44      0.42        63\n",
            "\n"
          ]
        },
        {
          "output_type": "stream",
          "name": "stderr",
          "text": [
            "/usr/local/lib/python3.10/dist-packages/sklearn/metrics/_classification.py:1344: UndefinedMetricWarning: Precision and F-score are ill-defined and being set to 0.0 in labels with no predicted samples. Use `zero_division` parameter to control this behavior.\n",
            "  _warn_prf(average, modifier, msg_start, len(result))\n",
            "/usr/local/lib/python3.10/dist-packages/sklearn/metrics/_classification.py:1344: UndefinedMetricWarning: Precision and F-score are ill-defined and being set to 0.0 in labels with no predicted samples. Use `zero_division` parameter to control this behavior.\n",
            "  _warn_prf(average, modifier, msg_start, len(result))\n",
            "/usr/local/lib/python3.10/dist-packages/sklearn/metrics/_classification.py:1344: UndefinedMetricWarning: Precision and F-score are ill-defined and being set to 0.0 in labels with no predicted samples. Use `zero_division` parameter to control this behavior.\n",
            "  _warn_prf(average, modifier, msg_start, len(result))\n"
          ]
        }
      ]
    },
    {
      "cell_type": "code",
      "source": [
        "train_loader = DataLoader(train_dataset, batch_size=20, shuffle=True)\n",
        "test_loader = DataLoader(test_dataset, batch_size=20, shuffle=False)\n",
        "\n",
        "# Training\n",
        "device = torch.device(\"cuda\" if torch.cuda.is_available() else \"cpu\")\n",
        "model.to(device)\n",
        "optimizer = torch.optim.AdamW(model.parameters(), lr=2e-5)\n",
        "\n",
        "for epoch in range(10):\n",
        "    model.train()\n",
        "    for batch in train_loader:\n",
        "        input_ids, attention_mask, labels = batch\n",
        "        input_ids, attention_mask, labels = input_ids.to(device), attention_mask.to(device), labels.to(device)\n",
        "\n",
        "        optimizer.zero_grad()\n",
        "        outputs = model(input_ids, attention_mask=attention_mask, labels=labels)\n",
        "        loss = outputs.loss\n",
        "        loss.backward()\n",
        "        optimizer.step()\n",
        "\n",
        "# Evaluation\n",
        "model.eval()\n",
        "all_predictions = []\n",
        "\n",
        "with torch.no_grad():\n",
        "    for batch in test_loader:\n",
        "        input_ids, attention_mask, labels = batch\n",
        "        input_ids, attention_mask, labels = input_ids.to(device), attention_mask.to(device), labels.to(device)\n",
        "\n",
        "        outputs = model(input_ids, attention_mask=attention_mask)\n",
        "        logits = outputs.logits\n",
        "        predictions = torch.argmax(logits, dim=1)\n",
        "        all_predictions.extend(predictions.cpu().numpy())\n",
        "\n",
        "# Calculate accuracy and other metrics\n",
        "accuracy = accuracy_score(test_labels, all_predictions)\n",
        "classification_rep = classification_report(test_labels, all_predictions)\n",
        "\n",
        "print(f\"Accuracy: {accuracy:.4f}\")\n",
        "print(f\"Classification Report:\\n{classification_rep}\")"
      ],
      "metadata": {
        "colab": {
          "base_uri": "https://localhost:8080/"
        },
        "id": "qVL112lbKR0v",
        "outputId": "6c57801c-7adb-4c83-8925-01d647c55162"
      },
      "execution_count": 12,
      "outputs": [
        {
          "output_type": "stream",
          "name": "stdout",
          "text": [
            "Accuracy: 0.4444\n",
            "Classification Report:\n",
            "              precision    recall  f1-score   support\n",
            "\n",
            "           0       0.00      0.00      0.00         1\n",
            "           1       0.00      0.00      0.00         2\n",
            "           2       0.00      0.00      0.00         1\n",
            "           3       0.00      0.00      0.00         2\n",
            "           4       0.00      0.00      0.00         1\n",
            "           6       0.00      0.00      0.00         0\n",
            "           7       0.00      0.00      0.00         1\n",
            "           8       0.59      0.72      0.65        18\n",
            "           9       0.00      0.00      0.00         4\n",
            "          10       0.56      0.67      0.61        15\n",
            "          11       0.60      0.21      0.32        14\n",
            "          14       1.00      0.50      0.67         4\n",
            "\n",
            "    accuracy                           0.44        63\n",
            "   macro avg       0.23      0.18      0.19        63\n",
            "weighted avg       0.50      0.44      0.44        63\n",
            "\n"
          ]
        },
        {
          "output_type": "stream",
          "name": "stderr",
          "text": [
            "/usr/local/lib/python3.10/dist-packages/sklearn/metrics/_classification.py:1344: UndefinedMetricWarning: Precision and F-score are ill-defined and being set to 0.0 in labels with no predicted samples. Use `zero_division` parameter to control this behavior.\n",
            "  _warn_prf(average, modifier, msg_start, len(result))\n",
            "/usr/local/lib/python3.10/dist-packages/sklearn/metrics/_classification.py:1344: UndefinedMetricWarning: Recall and F-score are ill-defined and being set to 0.0 in labels with no true samples. Use `zero_division` parameter to control this behavior.\n",
            "  _warn_prf(average, modifier, msg_start, len(result))\n",
            "/usr/local/lib/python3.10/dist-packages/sklearn/metrics/_classification.py:1344: UndefinedMetricWarning: Precision and F-score are ill-defined and being set to 0.0 in labels with no predicted samples. Use `zero_division` parameter to control this behavior.\n",
            "  _warn_prf(average, modifier, msg_start, len(result))\n",
            "/usr/local/lib/python3.10/dist-packages/sklearn/metrics/_classification.py:1344: UndefinedMetricWarning: Recall and F-score are ill-defined and being set to 0.0 in labels with no true samples. Use `zero_division` parameter to control this behavior.\n",
            "  _warn_prf(average, modifier, msg_start, len(result))\n",
            "/usr/local/lib/python3.10/dist-packages/sklearn/metrics/_classification.py:1344: UndefinedMetricWarning: Precision and F-score are ill-defined and being set to 0.0 in labels with no predicted samples. Use `zero_division` parameter to control this behavior.\n",
            "  _warn_prf(average, modifier, msg_start, len(result))\n",
            "/usr/local/lib/python3.10/dist-packages/sklearn/metrics/_classification.py:1344: UndefinedMetricWarning: Recall and F-score are ill-defined and being set to 0.0 in labels with no true samples. Use `zero_division` parameter to control this behavior.\n",
            "  _warn_prf(average, modifier, msg_start, len(result))\n"
          ]
        }
      ]
    },
    {
      "cell_type": "code",
      "source": [
        "train_loader = DataLoader(train_dataset, batch_size=1, shuffle=True)\n",
        "test_loader = DataLoader(test_dataset, batch_size=1, shuffle=False)\n",
        "\n",
        "# Training\n",
        "device = torch.device(\"cuda\" if torch.cuda.is_available() else \"cpu\")\n",
        "model.to(device)\n",
        "optimizer = torch.optim.AdamW(model.parameters(), lr=2e-5)\n",
        "\n",
        "for epoch in range(10):\n",
        "    model.train()\n",
        "    for batch in train_loader:\n",
        "        input_ids, attention_mask, labels = batch\n",
        "        input_ids, attention_mask, labels = input_ids.to(device), attention_mask.to(device), labels.to(device)\n",
        "\n",
        "        optimizer.zero_grad()\n",
        "        outputs = model(input_ids, attention_mask=attention_mask, labels=labels)\n",
        "        loss = outputs.loss\n",
        "        loss.backward()\n",
        "        optimizer.step()\n",
        "\n",
        "# Evaluation\n",
        "model.eval()\n",
        "all_predictions = []\n",
        "\n",
        "with torch.no_grad():\n",
        "    for batch in test_loader:\n",
        "        input_ids, attention_mask, labels = batch\n",
        "        input_ids, attention_mask, labels = input_ids.to(device), attention_mask.to(device), labels.to(device)\n",
        "\n",
        "        outputs = model(input_ids, attention_mask=attention_mask)\n",
        "        logits = outputs.logits\n",
        "        predictions = torch.argmax(logits, dim=1)\n",
        "        all_predictions.extend(predictions.cpu().numpy())\n",
        "\n",
        "# Calculate accuracy and other metrics\n",
        "accuracy = accuracy_score(test_labels, all_predictions)\n",
        "classification_rep = classification_report(test_labels, all_predictions)\n",
        "\n",
        "print(f\"Accuracy: {accuracy:.4f}\")\n",
        "print(f\"Classification Report:\\n{classification_rep}\")"
      ],
      "metadata": {
        "colab": {
          "base_uri": "https://localhost:8080/"
        },
        "id": "qRHkK7_FLscH",
        "outputId": "24f0cdc5-7811-441b-ec59-d0f7c79fbb0a"
      },
      "execution_count": 13,
      "outputs": [
        {
          "output_type": "stream",
          "name": "stdout",
          "text": [
            "Accuracy: 0.4444\n",
            "Classification Report:\n",
            "              precision    recall  f1-score   support\n",
            "\n",
            "           0       0.00      0.00      0.00         1\n",
            "           1       0.00      0.00      0.00         2\n",
            "           2       0.00      0.00      0.00         1\n",
            "           3       0.00      0.00      0.00         2\n",
            "           4       0.00      0.00      0.00         1\n",
            "           7       0.00      0.00      0.00         1\n",
            "           8       0.55      0.67      0.60        18\n",
            "           9       0.00      0.00      0.00         4\n",
            "          10       0.52      0.73      0.61        15\n",
            "          11       0.44      0.29      0.35        14\n",
            "          14       1.00      0.25      0.40         4\n",
            "\n",
            "    accuracy                           0.44        63\n",
            "   macro avg       0.23      0.18      0.18        63\n",
            "weighted avg       0.44      0.44      0.42        63\n",
            "\n"
          ]
        },
        {
          "output_type": "stream",
          "name": "stderr",
          "text": [
            "/usr/local/lib/python3.10/dist-packages/sklearn/metrics/_classification.py:1344: UndefinedMetricWarning: Precision and F-score are ill-defined and being set to 0.0 in labels with no predicted samples. Use `zero_division` parameter to control this behavior.\n",
            "  _warn_prf(average, modifier, msg_start, len(result))\n",
            "/usr/local/lib/python3.10/dist-packages/sklearn/metrics/_classification.py:1344: UndefinedMetricWarning: Precision and F-score are ill-defined and being set to 0.0 in labels with no predicted samples. Use `zero_division` parameter to control this behavior.\n",
            "  _warn_prf(average, modifier, msg_start, len(result))\n",
            "/usr/local/lib/python3.10/dist-packages/sklearn/metrics/_classification.py:1344: UndefinedMetricWarning: Precision and F-score are ill-defined and being set to 0.0 in labels with no predicted samples. Use `zero_division` parameter to control this behavior.\n",
            "  _warn_prf(average, modifier, msg_start, len(result))\n"
          ]
        }
      ]
    },
    {
      "cell_type": "code",
      "source": [
        "train_loader = DataLoader(train_dataset, batch_size=10, shuffle=True)\n",
        "test_loader = DataLoader(test_dataset, batch_size=10, shuffle=False)\n",
        "\n",
        "# Training\n",
        "device = torch.device(\"cuda\" if torch.cuda.is_available() else \"cpu\")\n",
        "model.to(device)\n",
        "optimizer = torch.optim.AdamW(model.parameters(), lr=2e-5)\n",
        "\n",
        "for epoch in range(10):\n",
        "    model.train()\n",
        "    for batch in train_loader:\n",
        "        input_ids, attention_mask, labels = batch\n",
        "        input_ids, attention_mask, labels = input_ids.to(device), attention_mask.to(device), labels.to(device)\n",
        "\n",
        "        optimizer.zero_grad()\n",
        "        outputs = model(input_ids, attention_mask=attention_mask, labels=labels)\n",
        "        loss = outputs.loss\n",
        "        loss.backward()\n",
        "        optimizer.step()\n",
        "\n",
        "# Evaluation\n",
        "model.eval()\n",
        "all_predictions = []\n",
        "\n",
        "with torch.no_grad():\n",
        "    for batch in test_loader:\n",
        "        input_ids, attention_mask, labels = batch\n",
        "        input_ids, attention_mask, labels = input_ids.to(device), attention_mask.to(device), labels.to(device)\n",
        "\n",
        "        outputs = model(input_ids, attention_mask=attention_mask)\n",
        "        logits = outputs.logits\n",
        "        predictions = torch.argmax(logits, dim=1)\n",
        "        all_predictions.extend(predictions.cpu().numpy())\n",
        "\n",
        "# Calculate accuracy and other metrics\n",
        "accuracy = accuracy_score(test_labels, all_predictions)\n",
        "classification_rep = classification_report(test_labels, all_predictions)\n",
        "\n",
        "print(f\"Accuracy: {accuracy:.4f}\")\n",
        "print(f\"Classification Report:\\n{classification_rep}\")"
      ],
      "metadata": {
        "colab": {
          "base_uri": "https://localhost:8080/"
        },
        "id": "RwYmfA18LP0t",
        "outputId": "00c91208-af26-4eef-bb59-a4b739071bd0"
      },
      "execution_count": 14,
      "outputs": [
        {
          "output_type": "stream",
          "name": "stdout",
          "text": [
            "Accuracy: 0.4603\n",
            "Classification Report:\n",
            "              precision    recall  f1-score   support\n",
            "\n",
            "           0       0.00      0.00      0.00         1\n",
            "           1       0.00      0.00      0.00         2\n",
            "           2       0.00      0.00      0.00         1\n",
            "           3       0.00      0.00      0.00         2\n",
            "           4       0.00      0.00      0.00         1\n",
            "           7       0.00      0.00      0.00         1\n",
            "           8       0.65      0.72      0.68        18\n",
            "           9       0.00      0.00      0.00         4\n",
            "          10       0.48      0.73      0.58        15\n",
            "          11       0.60      0.21      0.32        14\n",
            "          14       1.00      0.50      0.67         4\n",
            "\n",
            "    accuracy                           0.46        63\n",
            "   macro avg       0.25      0.20      0.20        63\n",
            "weighted avg       0.50      0.46      0.45        63\n",
            "\n"
          ]
        },
        {
          "output_type": "stream",
          "name": "stderr",
          "text": [
            "/usr/local/lib/python3.10/dist-packages/sklearn/metrics/_classification.py:1344: UndefinedMetricWarning: Precision and F-score are ill-defined and being set to 0.0 in labels with no predicted samples. Use `zero_division` parameter to control this behavior.\n",
            "  _warn_prf(average, modifier, msg_start, len(result))\n",
            "/usr/local/lib/python3.10/dist-packages/sklearn/metrics/_classification.py:1344: UndefinedMetricWarning: Precision and F-score are ill-defined and being set to 0.0 in labels with no predicted samples. Use `zero_division` parameter to control this behavior.\n",
            "  _warn_prf(average, modifier, msg_start, len(result))\n",
            "/usr/local/lib/python3.10/dist-packages/sklearn/metrics/_classification.py:1344: UndefinedMetricWarning: Precision and F-score are ill-defined and being set to 0.0 in labels with no predicted samples. Use `zero_division` parameter to control this behavior.\n",
            "  _warn_prf(average, modifier, msg_start, len(result))\n"
          ]
        }
      ]
    },
    {
      "cell_type": "code",
      "source": [],
      "metadata": {
        "id": "ORjNt2TTMgs7"
      },
      "execution_count": null,
      "outputs": []
    }
  ]
}